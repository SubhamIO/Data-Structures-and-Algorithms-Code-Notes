{
 "cells": [
  {
   "cell_type": "markdown",
   "id": "incredible-vegetable",
   "metadata": {},
   "source": [
    "## Multiply all element except the one in the index"
   ]
  },
  {
   "cell_type": "code",
   "execution_count": 1,
   "id": "successful-blake",
   "metadata": {},
   "outputs": [
    {
     "name": "stdout",
     "output_type": "stream",
     "text": [
      "[2, 3, 6]\n"
     ]
    }
   ],
   "source": [
    "a = [3,2,1]\n",
    "res= []\n",
    "for i in range(len(a)):\n",
    "    ele = a.pop(0)\n",
    "    p = 1\n",
    "    for j in a:\n",
    "        p=p*j\n",
    "    res.append(p)\n",
    "    \n",
    "    a.append(ele)\n",
    "print(res)   "
   ]
  },
  {
   "cell_type": "markdown",
   "id": "ancient-captain",
   "metadata": {},
   "source": [
    "## Write a code  to return the maximum product of two numbers of an array in O(n) time"
   ]
  },
  {
   "cell_type": "code",
   "execution_count": 8,
   "id": "contemporary-missile",
   "metadata": {},
   "outputs": [
    {
     "name": "stdout",
     "output_type": "stream",
     "text": [
      "5\n",
      "1\n",
      "-2\n",
      "-3\n"
     ]
    },
    {
     "data": {
      "text/plain": [
       "6"
      ]
     },
     "execution_count": 8,
     "metadata": {},
     "output_type": "execute_result"
    }
   ],
   "source": [
    "arr=[-3,-2,5,1]\n",
    "overall_res = 0 \n",
    "largest = float('-inf')\n",
    "slargest = float('-inf')\n",
    "\n",
    "smallest = float('inf')\n",
    "ssmallest = float('inf')\n",
    "\n",
    "for i in range(len(arr)):\n",
    "    if arr[i]>largest:\n",
    "        slargest = largest\n",
    "        largest = arr[i]\n",
    "    elif arr[i]>slargest:\n",
    "        slargest = arr[i]\n",
    "    \n",
    "    if arr[i]<smallest:\n",
    "        ssmallest = smallest\n",
    "        smallest = arr[i]\n",
    "    elif arr[i]<ssmallest:\n",
    "        ssmallest = arr[i]\n",
    "        \n",
    "    prod_ll = largest*slargest\n",
    "    prod_ss = smallest*ssmallest\n",
    "    \n",
    "    overall_res = max(prod_ll,prod_ss)\n",
    "        \n",
    "        \n",
    "print(largest)\n",
    "print(slargest)\n",
    "print(ssmallest)\n",
    "print(smallest)\n",
    "\n",
    "overall_res"
   ]
  },
  {
   "cell_type": "markdown",
   "id": "wooden-cambridge",
   "metadata": {},
   "source": [
    "## Sort 012"
   ]
  },
  {
   "cell_type": "code",
   "execution_count": 12,
   "id": "level-macedonia",
   "metadata": {},
   "outputs": [
    {
     "data": {
      "text/plain": [
       "[0, 0, 0, 0, 0, 0, 0, 1, 1, 1, 1, 1, 1, 1, 1, 1, 1, 1, 1, 1, 2, 2, 2, 2, 2]"
      ]
     },
     "execution_count": 12,
     "metadata": {},
     "output_type": "execute_result"
    }
   ],
   "source": [
    "arr=[2,0,1,1,0,1,0,1,0,1,2,1,1,2,1,1,2,0,0,1,1,1,2,0,1]\n",
    "res= []\n",
    "ct_0  = arr.count(0)\n",
    "ct_1 = arr.count(1)\n",
    "ct_2 = arr.count(2)\n",
    "for i in range(ct_0):\n",
    "    res.append(0)\n",
    "for i in range(ct_1):\n",
    "    res.append(1)\n",
    "for i in range(ct_2):\n",
    "    res.append(2)\n",
    "res"
   ]
  },
  {
   "cell_type": "markdown",
   "id": "distant-family",
   "metadata": {},
   "source": [
    "## Write a code to find the sum of all subarrays of the array in O(n) time"
   ]
  },
  {
   "cell_type": "code",
   "execution_count": 37,
   "id": "thick-dispute",
   "metadata": {},
   "outputs": [
    {
     "name": "stdout",
     "output_type": "stream",
     "text": [
      "['1', '12', '123', '2', '23', '3']\n",
      "164\n"
     ]
    }
   ],
   "source": [
    "a = [1,2,3]\n",
    "res = []\n",
    "for i in range(len(a)):\n",
    "    for j in range(i,len(a)):\n",
    "        p = ''\n",
    "        for k in range(i,j+1):\n",
    "            p+=str(a[k])\n",
    "        res.append(p)\n",
    "total = 0\n",
    "for i in res:\n",
    "    int_list = int(i)\n",
    "    total+=int_list\n",
    "print(res)\n",
    "print(total)        "
   ]
  },
  {
   "cell_type": "markdown",
   "id": "smart-traffic",
   "metadata": {},
   "source": [
    "## Find kth element from Decrypted array"
   ]
  },
  {
   "cell_type": "code",
   "execution_count": 43,
   "id": "difficult-computer",
   "metadata": {},
   "outputs": [
    {
     "data": {
      "text/plain": [
       "'c'"
      ]
     },
     "execution_count": 43,
     "metadata": {},
     "output_type": "execute_result"
    }
   ],
   "source": [
    "string = \"a2b2c3\"\n",
    "k= 5 \n",
    "ans= \"\"\n",
    "stack = []\n",
    "for i in range(len(string)):\n",
    "    ch = string[i]\n",
    "    if ch.isalpha():\n",
    "        stack.append(ch)\n",
    "    elif ch.isdigit():\n",
    "        ele = stack.pop()\n",
    "        ans+= ele*int(ch)\n",
    "ans[k]"
   ]
  },
  {
   "cell_type": "markdown",
   "id": "frank-authority",
   "metadata": {},
   "source": [
    "## Target Sum Pair (2 Sums - Leetcode)"
   ]
  },
  {
   "cell_type": "code",
   "execution_count": 36,
   "id": "demanding-bosnia",
   "metadata": {},
   "outputs": [
    {
     "name": "stdout",
     "output_type": "stream",
     "text": [
      "2 0\n",
      "3 1\n"
     ]
    }
   ],
   "source": [
    "def targetSumPair(nums,target):\n",
    "    temp = nums\n",
    "    nums = sorted(nums) #nlogn\n",
    "    low , high= 0 , len(nums)-1\n",
    "    while low<high: #n\n",
    "        if nums[low]+nums[high]<target:\n",
    "            low+=1\n",
    "        elif nums[low]+nums[high]>target:\n",
    "            high-=1\n",
    "        else:\n",
    "            print(temp.index(nums[low]),temp.index(nums[high]))\n",
    "            low+=1\n",
    "            high-=1\n",
    "            \n",
    "nums = [4,3,1,2,5]\n",
    "target = 5\n",
    "targetSumPair(nums,target)"
   ]
  },
  {
   "cell_type": "markdown",
   "id": "known-avatar",
   "metadata": {},
   "source": [
    "##  3Sum\n",
    "- Given an integer array nums, return all the triplets [nums[i], nums[j], nums[k]] such that i != j, i != k, and j != k, and nums[i] + nums[j] + nums[k] == 0.\n",
    "\n",
    "- Input: nums = [-1,0,1,2,-1,-4]\n",
    "- Output: [[-1,-1,2],[-1,0,1]]"
   ]
  },
  {
   "cell_type": "code",
   "execution_count": 1,
   "id": "missing-blink",
   "metadata": {},
   "outputs": [],
   "source": [
    "class Solution:\n",
    "    def threeSum(self, nums):\n",
    "        a = nums\n",
    "        s=[]   \n",
    "        a.sort()\n",
    "        for i in range(0,len(a)):\n",
    "            l=i+1\n",
    "            r=len(a)-1\n",
    "            \n",
    "            while l<r:\n",
    "                if a[i]+a[l]+a[r]==0 and [a[i],a[l],a[r]] not in s: \n",
    "                    s.append([a[i],a[l],a[r]])\n",
    "                    l=l+1\n",
    "                    r=r-1\n",
    "                elif a[l]+a[r]+a[i]<0:\n",
    "                    l=l+1\n",
    "                else:\n",
    "                    r=r-1\n",
    "        return s"
   ]
  },
  {
   "cell_type": "markdown",
   "id": "ranging-beijing",
   "metadata": {},
   "source": [
    "## 4Sum -  [Same as 3 sum, extra loop used to consider 4 numbers]\n",
    "- Given an array nums of n integers, return an array of all the unique quadruplets [nums[a], nums[b], nums[c], nums[d]] such that:\n",
    "\n",
    "- 0 <= a, b, c, d < n\n",
    "- a, b, c, and d are distinct.\n",
    "- nums[a] + nums[b] + nums[c] + nums[d] == target\n",
    "- You may return the answer in any order."
   ]
  },
  {
   "cell_type": "code",
   "execution_count": 2,
   "id": "comfortable-essence",
   "metadata": {},
   "outputs": [],
   "source": [
    "class Solution:\n",
    "    def fourSum(self, nums: List[int], target: int) -> List[List[int]]:\n",
    "        nums.sort()\n",
    "        res=[]\n",
    "        if len(nums)<4:\n",
    "            return[]\n",
    "        for i in range(len(nums)):\n",
    "            for j in range(i+1,len(nums)):\n",
    "                third=j+1\n",
    "                fourth=len(nums)-1\n",
    "                while(third<fourth):\n",
    "                    s=nums[i]+nums[j]+nums[third]+nums[fourth]\n",
    "                    if s==target:\n",
    "                        res.append([nums[i],nums[j],nums[third],nums[fourth]])\n",
    "                        third+=1\n",
    "                        fourth-=1\n",
    "                    elif s>target:\n",
    "                        fourth-=1\n",
    "                    elif s<target:\n",
    "                        third+=1\n",
    "        #For discarding duplicate entries\n",
    "        ans=[]\n",
    "        for i in res:\n",
    "            if i in ans:\n",
    "                continue\n",
    "            else:\n",
    "                ans.append(i)\n",
    "        return ans"
   ]
  },
  {
   "cell_type": "code",
   "execution_count": null,
   "id": "heated-messaging",
   "metadata": {},
   "outputs": [],
   "source": [
    "o = Solution()\n",
    "ans = o.fourSum([2,2,2,2,2],8)\n",
    "ans"
   ]
  },
  {
   "cell_type": "markdown",
   "id": "commercial-construction",
   "metadata": {},
   "source": [
    "## Merge two sorted arrays"
   ]
  },
  {
   "cell_type": "code",
   "execution_count": 7,
   "id": "advance-component",
   "metadata": {},
   "outputs": [
    {
     "name": "stdout",
     "output_type": "stream",
     "text": [
      "[7, 9, 10, 12, 15, 20, 30, 37, 40, 43, 44, 48, 50, 52, 56]\n"
     ]
    }
   ],
   "source": [
    "def mergeTwoSortedArrays(a,b):\n",
    "    res = []\n",
    "    i = 0\n",
    "    j = 0\n",
    "    while i<len(a) and j<len(b):\n",
    "        if a[i]<b[j]:\n",
    "            res.append(a[i])\n",
    "            i+=1\n",
    "        else:\n",
    "            res.append(b[j])\n",
    "            j+=1\n",
    "    while i<len(a):\n",
    "        res.append(a[i])\n",
    "        i+=1\n",
    "    while j<len(b):\n",
    "        res.append(b[j])\n",
    "        j+=1\n",
    "    print(res)\n",
    "\n",
    "arr1 = [10,20,30,40,50]\n",
    "arr2 = [7,9,12,15,37,43,44,48,52,56]\n",
    "mergeTwoSortedArrays(arr1,arr2)"
   ]
  },
  {
   "cell_type": "markdown",
   "id": "marked-footwear",
   "metadata": {},
   "source": [
    "## Merge Sort"
   ]
  },
  {
   "cell_type": "code",
   "execution_count": 12,
   "id": "governmental-nebraska",
   "metadata": {},
   "outputs": [
    {
     "name": "stdout",
     "output_type": "stream",
     "text": [
      "[0, 20, 40, 50, 90, 100, 999]\n"
     ]
    }
   ],
   "source": [
    "def mergeSort(arr,lo,hi):\n",
    "    #Only 1 element\n",
    "    if lo == hi:\n",
    "        base_array = []\n",
    "        base_array.append(arr[lo])\n",
    "        return base_array\n",
    "        \n",
    "    mid = (hi+lo)//2\n",
    "    first_sorted_half = mergeSort(arr,lo,mid)\n",
    "    second_sorted_half = mergeSort(arr,mid+1,hi)\n",
    "    \n",
    "    final_merge_sorted_array = mergeTwoSortedArrays(first_sorted_half,second_sorted_half)\n",
    "    return final_merge_sorted_array\n",
    "    \n",
    "def mergeTwoSortedArrays(a,b):\n",
    "    res = []\n",
    "    i = 0\n",
    "    j = 0\n",
    "    while i<len(a) and j<len(b):\n",
    "        if a[i]<b[j]:\n",
    "            res.append(a[i])\n",
    "            i+=1\n",
    "        else:\n",
    "            res.append(b[j])\n",
    "            j+=1\n",
    "    while i<len(a):\n",
    "        res.append(a[i])\n",
    "        i+=1\n",
    "    while j<len(b):\n",
    "        res.append(b[j])\n",
    "        j+=1\n",
    "    return res\n",
    "\n",
    "arr = [100,20,50,40,90,999,0]\n",
    "lo = 0\n",
    "hi = len(arr)-1\n",
    "result_arr = mergeSort(arr,lo,hi)\n",
    "print(result_arr)"
   ]
  },
  {
   "cell_type": "markdown",
   "id": "appropriate-junior",
   "metadata": {},
   "source": [
    "## Bubble Sort"
   ]
  },
  {
   "cell_type": "code",
   "execution_count": 44,
   "id": "weekly-dutch",
   "metadata": {},
   "outputs": [
    {
     "data": {
      "text/plain": [
       "[1, 5, 6, 7, 8, 9, 10, 44]"
      ]
     },
     "execution_count": 44,
     "metadata": {},
     "output_type": "execute_result"
    }
   ],
   "source": [
    "def bubbleSort(arr):\n",
    "    for i in range(1,len(arr)): #n-1 iterations\n",
    "        for j in range(len(arr)-i):\n",
    "            if arr[j+1]<arr[j]:\n",
    "                temp = arr[j+1]\n",
    "                arr[j+1] = arr[j]\n",
    "                arr[j] = temp\n",
    "arr= [44,5,1,8,9,10,7,6]\n",
    "bubbleSort(arr)   \n",
    "arr"
   ]
  },
  {
   "cell_type": "markdown",
   "id": "outside-wonder",
   "metadata": {},
   "source": [
    "## Partition in Array"
   ]
  },
  {
   "cell_type": "code",
   "execution_count": 61,
   "id": "favorite-engine",
   "metadata": {},
   "outputs": [
    {
     "data": {
      "text/plain": [
       "[4, 3, 2, 1, 9, 6, 7, 8]"
      ]
     },
     "execution_count": 61,
     "metadata": {},
     "output_type": "execute_result"
    }
   ],
   "source": [
    "def partition(arr,pivot):\n",
    "    i=0\n",
    "    j=0\n",
    "    while(i<len(arr)):\n",
    "        if arr[i]>pivot:\n",
    "            i+=1\n",
    "        else:\n",
    "            temp = arr[i]\n",
    "            arr[i] = arr[j]\n",
    "            arr[j] = temp\n",
    "            \n",
    "            i+=1\n",
    "            j+=1\n",
    "arr = [7,9,4,8,3,6,2,1]\n",
    "pivot= 5\n",
    "partition(arr,pivot)\n",
    "arr"
   ]
  },
  {
   "cell_type": "markdown",
   "id": "marked-vampire",
   "metadata": {},
   "source": [
    "## Partition odd even"
   ]
  },
  {
   "cell_type": "code",
   "execution_count": 71,
   "id": "muslim-gazette",
   "metadata": {},
   "outputs": [
    {
     "data": {
      "text/plain": [
       "[7, 9, 3, 1, 4, 6, 2, 8]"
      ]
     },
     "execution_count": 71,
     "metadata": {},
     "output_type": "execute_result"
    }
   ],
   "source": [
    "def partition_odd_even(arr):\n",
    "    i=0\n",
    "    j=0\n",
    "    while(i<len(arr)):\n",
    "        if arr[i]%2==0:\n",
    "            i+=1\n",
    "        else:\n",
    "            temp = arr[i]\n",
    "            arr[i] = arr[j]\n",
    "            arr[j] = temp\n",
    "            \n",
    "            i+=1\n",
    "            j+=1\n",
    "arr = [7,9,4,8,3,6,2,1]\n",
    "partition_odd_even(arr)\n",
    "arr"
   ]
  },
  {
   "cell_type": "markdown",
   "id": "regulation-playing",
   "metadata": {},
   "source": [
    "## Separate 0 and 1"
   ]
  },
  {
   "cell_type": "code",
   "execution_count": 74,
   "id": "catholic-bonus",
   "metadata": {},
   "outputs": [
    {
     "data": {
      "text/plain": [
       "[0, 0, 0, 0, 1, 1, 1]"
      ]
     },
     "execution_count": 74,
     "metadata": {},
     "output_type": "execute_result"
    }
   ],
   "source": [
    "def partition_0_1(arr):\n",
    "    i=0\n",
    "    j=0\n",
    "    while(i<len(arr)):\n",
    "        if arr[i]==1:\n",
    "            i+=1\n",
    "        else:\n",
    "            temp = arr[i]\n",
    "            arr[i] = arr[j]\n",
    "            arr[j] = temp\n",
    "            \n",
    "            i+=1\n",
    "            j+=1\n",
    "arr = [0,0,1,1,0,0,1]\n",
    "partition_0_1(arr)\n",
    "arr"
   ]
  },
  {
   "cell_type": "markdown",
   "id": "special-moses",
   "metadata": {},
   "source": [
    "## QuickSort"
   ]
  },
  {
   "cell_type": "code",
   "execution_count": 69,
   "id": "dependent-barrier",
   "metadata": {},
   "outputs": [
    {
     "name": "stdout",
     "output_type": "stream",
     "text": [
      "Pivot index = : 0\n",
      "Pivot index = : 5\n",
      "Pivot index = : 1\n",
      "Pivot index = : 3\n",
      "Pivot index = : 6\n"
     ]
    },
    {
     "data": {
      "text/plain": [
       "[1, 2, 3, 4, 6, 7, 8, 9]"
      ]
     },
     "execution_count": 69,
     "metadata": {},
     "output_type": "execute_result"
    }
   ],
   "source": [
    "def partition(arr,pivot,lo,hi):\n",
    "    i=lo\n",
    "    j=lo\n",
    "    while(i<=hi):\n",
    "        if arr[i]>pivot:\n",
    "            i+=1\n",
    "        else:\n",
    "            temp = arr[i]\n",
    "            arr[i] = arr[j]\n",
    "            arr[j] = temp\n",
    "            \n",
    "            i+=1\n",
    "            j+=1\n",
    "    print('Pivot index = :',j-1)\n",
    "    return (j-1)\n",
    "            \n",
    "def quicksort(arr,lo,hi):\n",
    "    \n",
    "    if lo >= hi:\n",
    "        return \n",
    "    pivot = arr[hi]#last element as pivot\n",
    "    pivot_index = partition(arr,pivot,lo,hi)#pivot_index ke aage sab chhote hai usse, baad mein sab bade hai\n",
    "    quicksort(arr,lo,pivot_index-1)\n",
    "    quicksort(arr,pivot_index+1,hi)\n",
    "    \n",
    "    \n",
    "    \n",
    "arr = [7,9,4,8,3,6,2,1]\n",
    "quicksort(arr,0,len(arr)-1)\n",
    "arr"
   ]
  },
  {
   "cell_type": "markdown",
   "id": "proof-cornwall",
   "metadata": {},
   "source": [
    "## Kth Smallest using Quick Select(Partitioning)"
   ]
  },
  {
   "cell_type": "code",
   "execution_count": null,
   "id": "tutorial-block",
   "metadata": {},
   "outputs": [],
   "source": [
    "def partition(arr,pivot,lo,hi):\n",
    "    i=lo\n",
    "    j=lo\n",
    "    while(i<=hi):\n",
    "        if arr[i]>pivot:\n",
    "            i+=1\n",
    "        else:\n",
    "            temp = arr[i]\n",
    "            arr[i] = arr[j]\n",
    "            arr[j] = temp\n",
    "            \n",
    "            i+=1\n",
    "            j+=1\n",
    "    print('Pivot index = :',j-1)\n",
    "    return (j-1)\n",
    "            \n",
    "def kthSmallest(arr,lo,hi,k):\n",
    "    \n",
    "    \n",
    "    pivot = arr[hi]#last element as pivot\n",
    "    pivot_index = partition(arr,pivot,lo,hi)#pivot_index ke aage sab chhote hai usse, baad mein sab bade hai\n",
    "    if k>pivot_index:\n",
    "        return kthSmallest(arr,pivot_index+1,hi,k)\n",
    "    elif k<pivot_index:\n",
    "        return kthSmallest(arr,lo,pivot_index-1,k)\n",
    "    else:\n",
    "        return arr[pivot_index]\n",
    "        \n",
    "    \n",
    "    \n",
    "    \n",
    "    \n",
    "    \n",
    "arr = [8,3,5,7,6,1,4,2]\n",
    "k = 4 #4th smallest\n",
    "ans = kthSmallest(arr,0,len(arr)-1,k-1)#k-1 since 4th smallest in sorted array would be in 3rd index in array\n",
    "ans"
   ]
  },
  {
   "cell_type": "markdown",
   "id": "declared-prague",
   "metadata": {},
   "source": [
    "## Kth root of a number\n",
    "- Using Heron Alexandria's method\n",
    "- Algorithm starts with a guess and iteratively improves untill convergence.\n",
    "- In each iteration we improve out guess by averaging guess and n/guess.\n",
    "- This formula comes from the fact that if guess is an overestimate, then n/guess would be an underetimate.\n",
    "- say n = 9,k=2...  then guess of 4 would be overestimate , and n/guess=9/4=2, is underestimate.\n",
    "- similarly, if guess is an underestimate then n/guess would be overestimate\n",
    "- This process would converge when [guess is 3] and [n/guess= 9/3 = 3]."
   ]
  },
  {
   "cell_type": "code",
   "execution_count": 1,
   "id": "comparable-nowhere",
   "metadata": {},
   "outputs": [
    {
     "data": {
      "text/plain": [
       "1"
      ]
     },
     "execution_count": 1,
     "metadata": {},
     "output_type": "execute_result"
    }
   ],
   "source": [
    "def rooter(n,x,error = 0.00001):  #USING BINARY SEARCH APPROACH\n",
    "    lo = 0.0 #underestimate low=0\n",
    "    hi = n #overestimate high = n\n",
    "    guess = (lo+hi)/2.0\n",
    "    \n",
    "    while abs(guess**x - n) >= error: #terminate when guess**x is very close to n(plus or minus error term)\n",
    "        if guess**x>n: #check whether guess (lo+hi)/2 is an overestimate\n",
    "            hi=guess #if it is overestimated, then bring down high to guess\n",
    "        else:\n",
    "            lo = guess #else bring up low to guess\n",
    "        guess = (lo+hi)/2.0\n",
    "    return int(guess)\n",
    "\n",
    "ans =rooter(10,5)\n",
    "ans"
   ]
  },
  {
   "cell_type": "markdown",
   "id": "rational-failing",
   "metadata": {},
   "source": [
    "## Kth root Binary search - Normal approach"
   ]
  },
  {
   "cell_type": "code",
   "execution_count": null,
   "id": "cordless-brush",
   "metadata": {},
   "outputs": [],
   "source": [
    "# to the power y in O(logn)\n",
    "def power(x, y):\n",
    " \n",
    "    if (y == 0):\n",
    "        return 1;\n",
    "    temp = power(x, y // 2);\n",
    "    if (y % 2 == 0):\n",
    "        return temp * temp;\n",
    "    else:\n",
    "        return x * temp * temp;\n",
    "\n",
    "# Function to find the Kth\n",
    "# root of the number N using BS\n",
    "def nthRootSearch(low, high, N, K):\n",
    " \n",
    "    # If the range is still valid\n",
    "    if (low <= high):\n",
    " \n",
    "        # Find the mid-value of range\n",
    "        mid = (low + high) // 2;\n",
    " \n",
    "        # Base Case\n",
    "        if ((power(mid, K) <= N) and (power(mid + 1, K) > N)):\n",
    "            return mid;\n",
    " \n",
    "        # Condition to check if the\n",
    "        # left search space is useless\n",
    "        elif (power(mid, K) < N):\n",
    "            return nthRootSearch(mid + 1,high, N, K);\n",
    "        else:\n",
    "            return nthRootSearch(low,mid - 1, N, K);\n",
    "     \n",
    "    return low;\n",
    " \n",
    "# Driver Code\n",
    " \n",
    "# Given N and K\n",
    "N = 15; K = 2;\n",
    " \n",
    "# Function Call\n",
    "print(nthRootSearch(0, N, N, K))\n",
    "\n"
   ]
  },
  {
   "cell_type": "markdown",
   "id": "agricultural-projection",
   "metadata": {},
   "source": [
    "## Integer to Roman"
   ]
  },
  {
   "cell_type": "code",
   "execution_count": 1,
   "id": "funny-herald",
   "metadata": {},
   "outputs": [],
   "source": [
    "class Solution:\n",
    "    def intToRoman(self, num):\n",
    "        \n",
    "        if num<=0:\n",
    "            return \"\"\n",
    "        \n",
    "        nums = [(1000,\"M\"),(900,\"CM\"),(500,\"D\"),(400,\"CD\"), (100,\"C\"),(90,\"XC\"),(50,\"L\"), (40,\"XL\"),(10,\"X\"),(9,\"IX\"), (8,\"VIII\"),(7,\"VII\"), ( 6, \"VI\"),(5, \"V\"),( 4,\"IV\"), (3,\"III\"), (2, \"II\") ,(1,\"I\")]\n",
    "        \n",
    "        res = []\n",
    "        for i,s in nums:   \n",
    "            if num ==0:\n",
    "                break\n",
    "            r = num //i\n",
    "            res.append(s*r)# 'M'*3 == 'MMM'\n",
    "            num-= i*r #or num %= i\n",
    "                \n",
    "        return \"\".join(res)"
   ]
  },
  {
   "cell_type": "code",
   "execution_count": 2,
   "id": "suited-cookie",
   "metadata": {},
   "outputs": [
    {
     "data": {
      "text/plain": [
       "'MMMCDLV'"
      ]
     },
     "execution_count": 2,
     "metadata": {},
     "output_type": "execute_result"
    }
   ],
   "source": [
    "o = Solution()\n",
    "ans= o.intToRoman(3455)\n",
    "ans"
   ]
  },
  {
   "cell_type": "markdown",
   "id": "absolute-cathedral",
   "metadata": {},
   "source": [
    "## Roman to Integer"
   ]
  },
  {
   "cell_type": "code",
   "execution_count": 3,
   "id": "agricultural-practice",
   "metadata": {},
   "outputs": [],
   "source": [
    "class Solution:\n",
    "    def romanToInt(self, s: str) -> int:\n",
    "        romanDict = {\"I\":1, \"V\":5, \"X\":10, \"L\":50, \"C\":100, \"D\":500, \"M\":1000}\n",
    "        result = 0\n",
    "        nextNum = 0\n",
    "        for char in s[::-1]:\n",
    "            number = romanDict[char]\n",
    "            if number >= nextNum:\n",
    "                result += number\n",
    "            else:\n",
    "                result -= number\n",
    "            nextNum = number\n",
    "        return result"
   ]
  },
  {
   "cell_type": "code",
   "execution_count": 4,
   "id": "detected-plastic",
   "metadata": {},
   "outputs": [
    {
     "data": {
      "text/plain": [
       "3455"
      ]
     },
     "execution_count": 4,
     "metadata": {},
     "output_type": "execute_result"
    }
   ],
   "source": [
    "o = Solution()\n",
    "ans= o.romanToInt('MMMCDLV')\n",
    "ans"
   ]
  },
  {
   "cell_type": "markdown",
   "id": "competent-emperor",
   "metadata": {},
   "source": [
    "## Decimal to Any Base"
   ]
  },
  {
   "cell_type": "code",
   "execution_count": 8,
   "id": "coated-corporation",
   "metadata": {},
   "outputs": [
    {
     "name": "stdout",
     "output_type": "stream",
     "text": [
      "634\n",
      "8\n",
      "1172\n"
     ]
    }
   ],
   "source": [
    "def getValueInBase(n,b):\n",
    "    rv = 0\n",
    "    power = 1 #10^0 = 1\n",
    "    while(n>0):\n",
    "        rem = n%b\n",
    "        n=n//b\n",
    "        \n",
    "        rv += rem * power\n",
    "        power = power*10\n",
    "    return rv\n",
    "\n",
    "n = int(input())\n",
    "b = int(input())\n",
    "dn = getValueInBase(n,b)\n",
    "print(dn)"
   ]
  },
  {
   "cell_type": "markdown",
   "id": "after-respondent",
   "metadata": {},
   "source": [
    "## Any Base to Decimal"
   ]
  },
  {
   "cell_type": "code",
   "execution_count": 9,
   "id": "square-contemporary",
   "metadata": {},
   "outputs": [
    {
     "name": "stdout",
     "output_type": "stream",
     "text": [
      "1172\n",
      "634\n"
     ]
    }
   ],
   "source": [
    "def getanyBasetoDecimal(n,b):\n",
    "    rv = 0\n",
    "    power = 1 #10^0 = 1\n",
    "    while(n>0):\n",
    "        rem = n%10\n",
    "        n=n//10\n",
    "        \n",
    "        rv += rem * power\n",
    "        power = power*b\n",
    "    return rv\n",
    "\n",
    "n = int(input())\n",
    "b = 8 #This is given base for input\n",
    "dn = getanyBasetoDecimal(n,b)\n",
    "print(dn)"
   ]
  },
  {
   "cell_type": "markdown",
   "id": "agreed-thanksgiving",
   "metadata": {},
   "source": [
    "## Any Base to Any Base"
   ]
  },
  {
   "cell_type": "code",
   "execution_count": 11,
   "id": "instant-intervention",
   "metadata": {},
   "outputs": [
    {
     "name": "stdout",
     "output_type": "stream",
     "text": [
      "1172\n",
      "8\n",
      "10\n",
      "634\n"
     ]
    }
   ],
   "source": [
    "def getAnyBasetoAnyBase(n,b1,b2):\n",
    "    rv = 0\n",
    "    power = 1 #b1^0 = 1\n",
    "    while(n>0):\n",
    "        rem = n%b2\n",
    "        n=n//b2\n",
    "        \n",
    "        rv += rem * power\n",
    "        power = power*b1\n",
    "    return rv\n",
    "\n",
    "n = int(input())\n",
    "b1 = int(input()) #This is for input base\n",
    "b2 = int(input()) #This is for output base\n",
    "dn = getAnyBasetoAnyBase(n,b1,b2)\n",
    "print(dn)"
   ]
  },
  {
   "cell_type": "markdown",
   "id": "banned-prayer",
   "metadata": {},
   "source": [
    "## Bar Chart"
   ]
  },
  {
   "cell_type": "code",
   "execution_count": 15,
   "id": "juvenile-positive",
   "metadata": {},
   "outputs": [
    {
     "name": "stdout",
     "output_type": "stream",
     "text": [
      "5\n",
      "3\n",
      "6\n",
      "1\n",
      "2\n",
      "2\n",
      "\t*\t\t\t\t\n",
      "\t*\t\t\t\t\n",
      "\t*\t\t\t\t\n",
      "*\t*\t\t\t\t\n",
      "*\t*\t\t*\t*\t\n",
      "*\t*\t*\t*\t*\t\n"
     ]
    }
   ],
   "source": [
    "n = int(input())\n",
    "arr = [0]*n\n",
    "for i in range(n):\n",
    "    arr[i] = int(input())\n",
    "maxm = float('-inf')\n",
    "for i in range(len(arr)):\n",
    "    if arr[i]>maxm:\n",
    "        maxm = arr[i]\n",
    "        \n",
    "for floor in range(maxm,0,-1):\n",
    "    for i in range(len(arr)):\n",
    "        if arr[i]>=floor:\n",
    "            print('*',end= '\\t')\n",
    "        else:\n",
    "            print('',end= '\\t')\n",
    "    print()"
   ]
  },
  {
   "cell_type": "markdown",
   "id": "random-porcelain",
   "metadata": {},
   "source": [
    "## Addition of 2 arrays"
   ]
  },
  {
   "cell_type": "code",
   "execution_count": 29,
   "id": "fitted-nevada",
   "metadata": {},
   "outputs": [
    {
     "name": "stdout",
     "output_type": "stream",
     "text": [
      "3\n",
      "9\n",
      "8\n",
      "7\n",
      "3\n",
      "9\n",
      "8\n",
      "7\n",
      "[1, 9, 7, 4]\n"
     ]
    }
   ],
   "source": [
    "n1 = int(input())\n",
    "arr1 = [0]*n1\n",
    "for i in range(len(arr1)):\n",
    "    arr1[i] = int(input())\n",
    "\n",
    "n2 = int(input())\n",
    "arr2 = [0]*n2\n",
    "for i in range(len(arr2)):\n",
    "    arr2[i] = int(input())\n",
    "output = [0]*max(len(arr1),len(arr2))\n",
    "i = len(arr1)-1\n",
    "j = len(arr2)-1\n",
    "k = len(output)-1\n",
    "carry = 0\n",
    "while(k!=-1):\n",
    "    if i!=-1 and j!=-1:\n",
    "        digit = arr1[i]+arr2[j] + carry\n",
    "    elif i!=-1:\n",
    "        digit = arr1[i] + carry\n",
    "    elif j!=-1:\n",
    "        digit = arr2[j] + carry\n",
    "        \n",
    "    to_put = digit%10\n",
    "    carry = digit//10\n",
    "    output[k] = to_put\n",
    "    i-=1\n",
    "    j-=1\n",
    "    k-=1\n",
    "if carry>0:\n",
    "    print([carry]+output)\n",
    "else:\n",
    "    print(output)"
   ]
  },
  {
   "cell_type": "markdown",
   "id": "common-lunch",
   "metadata": {},
   "source": [
    "## Reverse and array"
   ]
  },
  {
   "cell_type": "code",
   "execution_count": 38,
   "id": "employed-mauritius",
   "metadata": {},
   "outputs": [
    {
     "name": "stdout",
     "output_type": "stream",
     "text": [
      "[5, 4, 3, 2, 1]\n"
     ]
    }
   ],
   "source": [
    "arr = [1,2,3,4,5]\n",
    "lo = 0\n",
    "hi = len(arr)-1\n",
    "while lo<hi:\n",
    "    t = arr[lo]\n",
    "    arr[lo]=arr[hi]\n",
    "    arr[hi] = t\n",
    "    \n",
    "    lo+=1\n",
    "    hi-=1\n",
    "print(arr)    "
   ]
  },
  {
   "cell_type": "markdown",
   "id": "noticed-struggle",
   "metadata": {},
   "source": [
    "## Rotate an array k  times"
   ]
  },
  {
   "cell_type": "code",
   "execution_count": null,
   "id": "outdoor-strength",
   "metadata": {},
   "outputs": [],
   "source": [
    "#Reverse 1D array\n",
    "a = [1,2,3,4,5,6]\n",
    "k = 4\n",
    "k = k %len(a)\n",
    "if k<0:\n",
    "    k=k+len(a)\n",
    "a1 = a[:len(a)-k]\n",
    "a2 = a[len(a)-k:]\n",
    "a1r = a1[::-1]\n",
    "a2r = a2[::-1]\n",
    "res= a1r+a2r\n",
    "res[::-1]"
   ]
  },
  {
   "cell_type": "markdown",
   "id": "economic-lover",
   "metadata": {},
   "source": [
    "## Inverse of an array"
   ]
  },
  {
   "cell_type": "code",
   "execution_count": 39,
   "id": "wound-suite",
   "metadata": {},
   "outputs": [
    {
     "name": "stdout",
     "output_type": "stream",
     "text": [
      "[4, 2, 3, 0, 1]\n"
     ]
    }
   ],
   "source": [
    "arr = [3,4,1,2,0]\n",
    "res= [0]*len(arr)\n",
    "for i in range(len(arr)):\n",
    "    ch = arr[i]\n",
    "    res[ch] = i\n",
    "print(res)"
   ]
  },
  {
   "cell_type": "markdown",
   "id": "logical-medicare",
   "metadata": {},
   "source": [
    "## Subarrays of an array"
   ]
  },
  {
   "cell_type": "code",
   "execution_count": 3,
   "id": "following-black",
   "metadata": {},
   "outputs": [
    {
     "name": "stdout",
     "output_type": "stream",
     "text": [
      "4\n",
      "a\n",
      "b\n",
      "c\n",
      "d\n",
      "a \n",
      "a b \n",
      "a b c \n",
      "a b c d \n",
      "b \n",
      "b c \n",
      "b c d \n",
      "c \n",
      "c d \n",
      "d \n"
     ]
    }
   ],
   "source": [
    "n = int(input())\n",
    "arr = [0]*n\n",
    "for i in range(len(arr)):\n",
    "    arr[i] = input()\n",
    "for i in range(len(arr)):\n",
    "    for j in range(i,len(arr)):\n",
    "        for k in range(i,j+1):\n",
    "            print(arr[k],end=\" \")\n",
    "        print()"
   ]
  },
  {
   "cell_type": "markdown",
   "id": "rising-hawaiian",
   "metadata": {},
   "source": [
    "## Subsets/Subsequences of an array"
   ]
  },
  {
   "cell_type": "code",
   "execution_count": 10,
   "id": "experimental-collective",
   "metadata": {},
   "outputs": [
    {
     "name": "stdout",
     "output_type": "stream",
     "text": [
      "4\n",
      "1\n",
      "2\n",
      "3\n",
      "4\n",
      "- - - - \n",
      "- - - 4 \n",
      "- - 3 - \n",
      "- - 3 4 \n",
      "- 2 - - \n",
      "- 2 - 4 \n",
      "- 2 3 - \n",
      "- 2 3 4 \n",
      "1 - - - \n",
      "1 - - 4 \n",
      "1 - 3 - \n",
      "1 - 3 4 \n",
      "1 2 - - \n",
      "1 2 - 4 \n",
      "1 2 3 - \n",
      "1 2 3 4 \n"
     ]
    }
   ],
   "source": [
    "\n",
    "n = int(input())\n",
    "arr = [0]*n\n",
    "for i in range(len(arr)):\n",
    "    arr[i] = int(input())\n",
    "\n",
    "#how many subsets = 2^n\n",
    "limit = pow(2,len(arr))\n",
    "\n",
    "for i in range(limit):\n",
    "    string = \"\"\n",
    "    #convert i to binary\n",
    "    for j in range(len(arr)-1,-1,-1):\n",
    "        rem = i%2\n",
    "        i=i//2\n",
    "        \n",
    "        if rem == 0:\n",
    "            string = \"-\"+\" \"+string\n",
    "        else:\n",
    "            string = str(arr[j])+\" \"+string\n",
    "            \n",
    "    print(string) "
   ]
  },
  {
   "cell_type": "markdown",
   "id": "alleged-hudson",
   "metadata": {},
   "source": [
    "## Binary Search"
   ]
  },
  {
   "cell_type": "code",
   "execution_count": 28,
   "id": "governing-third",
   "metadata": {},
   "outputs": [
    {
     "name": "stdout",
     "output_type": "stream",
     "text": [
      "6\n",
      "1\n",
      "2\n",
      "3\n",
      "4\n",
      "5\n",
      "6\n",
      "8\n",
      "-1\n"
     ]
    }
   ],
   "source": [
    "n = int(input())\n",
    "arr = [0]*n\n",
    "for i in range(len(arr)):\n",
    "    arr[i] = int(input())\n",
    "data = int(input())\n",
    "binarySearch(arr,data)\n",
    "\n",
    "def binarySearch(arr,data):\n",
    "    lo= 0 \n",
    "    hi = len(arr) - 1\n",
    "    idx = 0\n",
    "    while lo<=hi:\n",
    "        mid = (lo+hi)//2\n",
    "        if data < arr[mid]:\n",
    "            hi = mid-1\n",
    "        elif data>arr[mid]:\n",
    "            lo = mid+1\n",
    "        else:\n",
    "            idx = mid\n",
    "            print(idx)\n",
    "            return\n",
    "    print(-1)"
   ]
  },
  {
   "cell_type": "markdown",
   "id": "hidden-soldier",
   "metadata": {},
   "source": [
    "## Ceil and Floor"
   ]
  },
  {
   "cell_type": "code",
   "execution_count": 12,
   "id": "ancient-florence",
   "metadata": {},
   "outputs": [
    {
     "name": "stdout",
     "output_type": "stream",
     "text": [
      "5\n",
      "10\n",
      "20\n",
      "30\n",
      "40\n",
      "50\n",
      "33\n",
      "40 30\n"
     ]
    }
   ],
   "source": [
    "#Using linear tc\n",
    "n = int(input())\n",
    "arr = [0]*n\n",
    "for i in range(len(arr)):\n",
    "    arr[i] = int(input())\n",
    "data = int(input())\n",
    "\n",
    "ceil = float('inf')\n",
    "floor = float('-inf')\n",
    "for i in range(len(arr)):\n",
    "    if arr[i]>data:\n",
    "        if arr[i]<ceil:\n",
    "            ceil = arr[i]\n",
    "    elif arr[i]<data:\n",
    "        if arr[i]>floor:\n",
    "            floor = arr[i]\n",
    "print(ceil,floor)"
   ]
  },
  {
   "cell_type": "code",
   "execution_count": 14,
   "id": "signal-denmark",
   "metadata": {},
   "outputs": [
    {
     "name": "stdout",
     "output_type": "stream",
     "text": [
      "5\n",
      "10\n",
      "28\n",
      "34\n",
      "40\n",
      "50\n",
      "33\n",
      "34 28\n"
     ]
    }
   ],
   "source": [
    "#Binary search - O(log n)\n",
    "n = int(input())\n",
    "arr = [0]*n\n",
    "for i in range(len(arr)):\n",
    "    arr[i] = int(input())\n",
    "data = int(input())\n",
    "\n",
    "lo= 0 \n",
    "hi = len(arr) - 1\n",
    "\n",
    "ceil = 0\n",
    "floor = 0\n",
    "\n",
    "while lo<=hi:\n",
    "    mid = (lo+hi)//2\n",
    "    if data < arr[mid]:\n",
    "        hi = mid-1\n",
    "        ceil = arr[mid]\n",
    "    elif data>arr[mid]:\n",
    "        lo = mid+1\n",
    "        floor= arr[mid]\n",
    "    else:\n",
    "        ceil = arr[mid]\n",
    "        floor= arr[mid]\n",
    "        break\n",
    "print(ceil,floor)\n"
   ]
  },
  {
   "cell_type": "markdown",
   "id": "productive-consumption",
   "metadata": {},
   "source": [
    "## Last index of an element"
   ]
  },
  {
   "cell_type": "code",
   "execution_count": 18,
   "id": "corrected-duplicate",
   "metadata": {},
   "outputs": [
    {
     "name": "stdout",
     "output_type": "stream",
     "text": [
      "5\n",
      "1\n",
      "3\n",
      "3\n",
      "2\n",
      "2\n",
      "3\n",
      "2\n"
     ]
    }
   ],
   "source": [
    "n = int(input())\n",
    "arr = [0]*n\n",
    "for i in range(len(arr)):\n",
    "    arr[i] = int(input())\n",
    "data = int(input())\n",
    "lo= 0 \n",
    "hi = len(arr) - 1\n",
    "last_idx = len(arr)\n",
    "while lo<=hi:\n",
    "    mid = (lo+hi)//2\n",
    "    if data < arr[mid]:\n",
    "        hi = mid-1\n",
    "    elif data>arr[mid]:\n",
    "        lo = mid+1\n",
    "    else:\n",
    "        last_idx = mid\n",
    "        lo = mid+1 #may be its not the end so try this\n",
    "print(last_idx)\n",
    "    \n"
   ]
  },
  {
   "cell_type": "markdown",
   "id": "representative-nightlife",
   "metadata": {},
   "source": [
    "## First Index of an element\n"
   ]
  },
  {
   "cell_type": "code",
   "execution_count": 24,
   "id": "demographic-universal",
   "metadata": {},
   "outputs": [
    {
     "name": "stdout",
     "output_type": "stream",
     "text": [
      "6\n",
      "1\n",
      "2\n",
      "2\n",
      "1\n",
      "3\n",
      "4\n",
      "2\n",
      "1\n"
     ]
    }
   ],
   "source": [
    "n = int(input())\n",
    "arr = [0]*n\n",
    "for i in range(len(arr)):\n",
    "    arr[i] = int(input())\n",
    "data = int(input())\n",
    "lo= 0 \n",
    "hi = len(arr) - 1\n",
    "first_idx = -1\n",
    "while lo<=hi:\n",
    "    mid = (lo+hi)//2\n",
    "    if data < arr[mid]:\n",
    "        hi = mid-1\n",
    "    elif data>arr[mid]:\n",
    "        lo = mid+1\n",
    "    else:\n",
    "        first_idx = mid\n",
    "        hi = mid-1 #may be its not the end so try this\n",
    "print(first_idx)\n",
    "    \n",
    "\n"
   ]
  },
  {
   "cell_type": "markdown",
   "id": "digital-plane",
   "metadata": {},
   "source": [
    "# Walmart asked questions"
   ]
  },
  {
   "cell_type": "code",
   "execution_count": null,
   "id": "circular-reply",
   "metadata": {},
   "outputs": [],
   "source": [
    "def pascals(x,y):\n",
    "    if y==0 or x==y:\n",
    "        return 1\n",
    "    \n",
    "    return (pascals(x-1,y-1)+pascals(x-1,y))\n",
    "pascals(4,1)"
   ]
  },
  {
   "cell_type": "markdown",
   "id": "absolute-person",
   "metadata": {},
   "source": [
    "- given two strings s1 and s2 we have to convert s1 into palindrome \n",
    "such that s1 contain s2 as a substring. in a minimum number of operation.\n",
    "wherein a single operation we can replace any word of s1 with any character.\n",
    "constraint : |s1| <= 1000\n",
    "|s2| <= |s1|\n",
    "ex: s1 = \"abaa\" , s2 = \"bb\"\n",
    "output : 1\n"
   ]
  },
  {
   "cell_type": "code",
   "execution_count": null,
   "id": "beneficial-audit",
   "metadata": {},
   "outputs": [],
   "source": [
    "def count_op(s1,s2):\n",
    "    if s1==s2:\n",
    "        return 0\n",
    "    replace = 0\n",
    "    d1={};d2={}\n",
    "    for i in s1:\n",
    "        d1[i] = d1.get(i,0)+1\n",
    "    for i in s2:\n",
    "        d2[i] = d2.get(i,0)+1\n",
    "        \n",
    "    for i in d2:\n",
    "        if i not in d1:\n",
    "            replace+= d2[i]\n",
    "        elif d2[i]>d1[i]:\n",
    "            replace+=  d2[i] - d1[i]\n",
    "    return replace\n",
    "\n",
    "s1 = input()\n",
    "s2= input()\n",
    "print(count_op(s1,s2))"
   ]
  },
  {
   "cell_type": "markdown",
   "id": "oriented-deposit",
   "metadata": {},
   "source": [
    "- dhoni kohli rank mismatch\n",
    "\n",
    "Sample Input\n",
    "\n",
    "5\n",
    "31245\n",
    "32415\n",
    "Sample Output\n",
    "\n",
    "2\n",
    "Explanation\n",
    "\n",
    "Movies are 1,2,3,4,5. Kohli ranks them 3,1,2,4,5, Dhoni ranks them 3,2,4,1,5. Compatibility difference is 2 because Kohli ranks movie 1 before 2,4 but Dhoni ranks it after."
   ]
  },
  {
   "cell_type": "code",
   "execution_count": 29,
   "id": "missing-sheet",
   "metadata": {},
   "outputs": [
    {
     "data": {
      "text/plain": [
       "2"
      ]
     },
     "execution_count": 29,
     "metadata": {},
     "output_type": "execute_result"
    }
   ],
   "source": [
    "def compatibility(list_one, list_two):                                              \n",
    "                                                                                    \n",
    "    incompatible_list = []                                                          \n",
    "    index = 0                                                                       \n",
    "                                                                                    \n",
    "    for item in list_one:                                                           \n",
    "        if item in incompatible_list:                                               \n",
    "            continue                                                                \n",
    "                                                                                    \n",
    "        while index < len(list_two) and item != list_two[index]:                    \n",
    "            if list_two[index] not in incompatible_list:                            \n",
    "                incompatible_list.append(list_two[index])                           \n",
    "                                                                                    \n",
    "            index = index + 1                                                       \n",
    "                                                                                    \n",
    "        index = index + 1                                                           \n",
    "                                                                                    \n",
    "    return len(incompatible_list)\n",
    "list_one = [3,1,2,4,5]\n",
    "list_two = [3,2,4,1,5]\n",
    "a = compatibility(list_one, list_two)\n",
    "a"
   ]
  },
  {
   "cell_type": "code",
   "execution_count": 32,
   "id": "ordered-trash",
   "metadata": {},
   "outputs": [
    {
     "data": {
      "text/plain": [
       "['2', '4', '6']"
      ]
     },
     "execution_count": 32,
     "metadata": {},
     "output_type": "execute_result"
    }
   ],
   "source": [
    "s = [1,2,3,4,5,6]\n",
    "ans = list((map(str,list(filter(lambda x:x%2==0,s)))))\n",
    "ans"
   ]
  },
  {
   "cell_type": "code",
   "execution_count": null,
   "id": "mighty-category",
   "metadata": {},
   "outputs": [],
   "source": []
  },
  {
   "cell_type": "markdown",
   "id": "traditional-sender",
   "metadata": {},
   "source": [
    "### Pascal triangle"
   ]
  },
  {
   "cell_type": "code",
   "execution_count": 77,
   "id": "annoying-explosion",
   "metadata": {},
   "outputs": [
    {
     "name": "stdout",
     "output_type": "stream",
     "text": [
      "1 \n",
      "1 1 \n",
      "1 2 1 \n",
      "1 3 3 1 \n",
      "1 4 6 4 1 \n"
     ]
    }
   ],
   "source": [
    "def factorial(n):\n",
    "    if n == 0:\n",
    "        return 1\n",
    "    else:\n",
    "        return n*factorial(n-1) \n",
    "\n",
    "n = 5\n",
    "for i in range(n):\n",
    "#     for j in range(n-i+1):\n",
    "  \n",
    "#         # for left spacing\n",
    "#         print(end=\" \")\n",
    "  \n",
    "    for j in range(i+1):\n",
    "  \n",
    "        # nCr = n!/((n-r)!*r!)\n",
    "        print(factorial(i)//(factorial(j)*factorial(i-j)), end=\" \")\n",
    "  \n",
    "    # for new line\n",
    "    print()"
   ]
  },
  {
   "cell_type": "code",
   "execution_count": null,
   "id": "removable-multimedia",
   "metadata": {},
   "outputs": [],
   "source": [
    "n = 5\n",
    "  \n",
    "# iterarte upto n\n",
    "for i in range(n):\n",
    "    # adjust space\n",
    "    print(''*(n), end='')\n",
    "  \n",
    "    # compute power of 11\n",
    "    print(' '.join(map(str, str(11**i))))"
   ]
  },
  {
   "cell_type": "markdown",
   "id": "contrary-timber",
   "metadata": {},
   "source": [
    "## First Repeating element in array"
   ]
  },
  {
   "cell_type": "code",
   "execution_count": null,
   "id": "light-religious",
   "metadata": {},
   "outputs": [],
   "source": [
    "def printFirstRepeating(a, n):\n",
    "    for i in range(len(a)):\n",
    "        if a.count(a[i]) > 1:\n",
    "            return a[i]\n",
    "    return \"there is no repetition number\"\n",
    " \n",
    " \n",
    "# Driver code\n",
    "arr = [10, 5, 3, 4, 3, 5, 6]\n",
    "n = len(arr)\n",
    "print(printFirstRepeating(arr, n))"
   ]
  }
 ],
 "metadata": {
  "kernelspec": {
   "display_name": "Python 3",
   "language": "python",
   "name": "python3"
  },
  "language_info": {
   "codemirror_mode": {
    "name": "ipython",
    "version": 3
   },
   "file_extension": ".py",
   "mimetype": "text/x-python",
   "name": "python",
   "nbconvert_exporter": "python",
   "pygments_lexer": "ipython3",
   "version": "3.7.4"
  }
 },
 "nbformat": 4,
 "nbformat_minor": 5
}
