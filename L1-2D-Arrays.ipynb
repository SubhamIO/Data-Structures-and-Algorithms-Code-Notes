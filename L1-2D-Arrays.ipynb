{
 "cells": [
  {
   "cell_type": "markdown",
   "id": "circular-tucson",
   "metadata": {},
   "source": [
    "## Matrix Multiplication"
   ]
  },
  {
   "cell_type": "code",
   "execution_count": 15,
   "id": "removable-brand",
   "metadata": {},
   "outputs": [
    {
     "name": "stdout",
     "output_type": "stream",
     "text": [
      "2\n",
      "2\n",
      "1\n",
      "2\n",
      "3\n",
      "4\n",
      "2\n",
      "2\n",
      "5\n",
      "6\n",
      "7\n",
      "8\n",
      "19 22 \n",
      "43 50 \n"
     ]
    }
   ],
   "source": [
    "r1 = int(input())\n",
    "c1 = int(input())\n",
    "arr1 = [[int(input()) for x in range(c1)] for y in range (r1)]\n",
    "\n",
    "r2 = int(input())\n",
    "c2 = int(input())\n",
    "arr2 = [[int(input()) for x in range(c2)] for y in range (r2)]\n",
    "\n",
    "if c1!=r2:\n",
    "    print('Invalid Input')\n",
    "else:\n",
    "    prd = [[0]*c2 for _ in range(r1)]\n",
    "    for i in range(r1):\n",
    "        for j in range(c2):\n",
    "            for k in range(c1): #k will run for common dimension i.e. c1 or r2 any 1\n",
    "                prd[i][j] += arr1[i][k]*arr2[k][j] \n",
    "for i in range(len(prd)):\n",
    "    for j in range(len(prd[0])):\n",
    "        print(str(prd[i][j]),end = \" \")\n",
    "    print()"
   ]
  },
  {
   "cell_type": "markdown",
   "id": "educated-shadow",
   "metadata": {},
   "source": [
    "## Wave Traversal"
   ]
  },
  {
   "cell_type": "code",
   "execution_count": 17,
   "id": "tamil-metro",
   "metadata": {},
   "outputs": [
    {
     "name": "stdout",
     "output_type": "stream",
     "text": [
      "3\n",
      "4\n",
      "11\n",
      "12\n",
      "13\n",
      "14\n",
      "21\n",
      "22\n",
      "23\n",
      "24\n",
      "31\n",
      "32\n",
      "33\n",
      "34\n",
      "11 21 31 32 22 12 13 23 33 34 24 14 "
     ]
    }
   ],
   "source": [
    "r = int(input())\n",
    "c = int(input())\n",
    "arr = [[int(input()) for x in range(c)] for y in range (r)]\n",
    "#For every j\n",
    "#if j is even, then traverse down the row, else traverse up the row\n",
    "for j in range(len(arr[0])):\n",
    "    if j%2==0:\n",
    "        for i in range(len(arr)):\n",
    "            print(arr[i][j],end=' ')\n",
    "    else:\n",
    "        for i in range(len(arr)-1,-1,-1):\n",
    "            print(arr[i][j],end=' ')"
   ]
  },
  {
   "cell_type": "markdown",
   "id": "brief-enough",
   "metadata": {},
   "source": [
    "## Spiral Traversal - Anticlockwise"
   ]
  },
  {
   "cell_type": "code",
   "execution_count": 22,
   "id": "comparable-lewis",
   "metadata": {},
   "outputs": [
    {
     "name": "stdout",
     "output_type": "stream",
     "text": [
      "5\n",
      "7\n",
      "11\n",
      "12\n",
      "13\n",
      "14\n",
      "15\n",
      "16\n",
      "17\n",
      "21\n",
      "22\n",
      "23\n",
      "24\n",
      "25\n",
      "26\n",
      "27\n",
      "31\n",
      "32\n",
      "33\n",
      "34\n",
      "35\n",
      "36\n",
      "37\n",
      "41\n",
      "42\n",
      "43\n",
      "44\n",
      "45\n",
      "46\n",
      "47\n",
      "51\n",
      "52\n",
      "53\n",
      "54\n",
      "5\n",
      "56\n",
      "57\n",
      "11 21 31 41 51 52 53 54 5 56 57 47 37 27 17 16 15 14 13 12 22 32 42 43 44 45 46 36 26 25 24 23 33 34 35 "
     ]
    }
   ],
   "source": [
    "r = int(input())\n",
    "c = int(input())\n",
    "arr = [[int(input()) for x in range(c)] for y in range (r)]\n",
    "\n",
    "min_row , min_col = 0,0\n",
    "max_row , max_col = len(arr)-1,len(arr[0])-1\n",
    "\n",
    "#Base cond\n",
    "total_elements = r*c\n",
    "count = 0\n",
    "while count<total_elements: #after visiting all element come out of loop\n",
    "    \n",
    "    #left wall\n",
    "    for i in range(min_row,max_row+1):\n",
    "        if count<total_elements: #last element may not have all walls,so we can print it twice when run for all walls\n",
    "            print(arr[i][min_col],end=' ')\n",
    "            count+=1\n",
    "    min_col+=1\n",
    "        \n",
    "    #bottom wall\n",
    "    for j in range(min_col,max_col+1):\n",
    "        if count<total_elements:\n",
    "            print(arr[max_row][j],end=' ')\n",
    "            count+=1\n",
    "    max_row-=1\n",
    "    \n",
    "    #right wall\n",
    "    for i in range(max_row,min_row-1,-1):\n",
    "        if count<total_elements:\n",
    "            print(arr[i][max_col],end=' ')\n",
    "            count+=1\n",
    "    max_col-=1\n",
    "    \n",
    "    #top wall\n",
    "    for j in range(max_col,min_col-1,-1):\n",
    "        if count<total_elements:\n",
    "            print(arr[min_row][j],end=' ')\n",
    "            count+=1\n",
    "    min_row+=1"
   ]
  },
  {
   "cell_type": "markdown",
   "id": "included-triangle",
   "metadata": {},
   "source": [
    "## Spiral Traversal - Clockwise"
   ]
  },
  {
   "cell_type": "code",
   "execution_count": 27,
   "id": "comfortable-woman",
   "metadata": {},
   "outputs": [
    {
     "name": "stdout",
     "output_type": "stream",
     "text": [
      "3\n",
      "3\n",
      "1\n",
      "2\n",
      "3\n",
      "4\n",
      "5\n",
      "6\n",
      "7\n",
      "8\n",
      "9\n",
      "[1, 2, 3, 6, 9, 8, 7, 4, 5]\n"
     ]
    }
   ],
   "source": [
    "r = int(input())\n",
    "c = int(input())\n",
    "arr = [[int(input()) for x in range(c)] for y in range (r)]\n",
    "\n",
    "min_row , min_col = 0,0\n",
    "max_row , max_col = len(arr)-1,len(arr[0])-1\n",
    "\n",
    "#Base cond\n",
    "total_elements = r*c\n",
    "count = 0\n",
    "res= []\n",
    "while count<total_elements: #after visiting all element come out of loop\n",
    "    #TOP WALL\n",
    "    for j in range(min_col,max_col+1):\n",
    "        if count<total_elements:\n",
    "            res.append(arr[min_row][j])\n",
    "            #print(arr[min_row][j],end=' ')\n",
    "            count+=1\n",
    "    min_row+=1\n",
    "    #RIGHT WALL\n",
    "    for i in range(min_row,max_row+1):\n",
    "        if count<total_elements: #last element may not have all walls,so we can print it twice when run for all walls\n",
    "            res.append(arr[i][max_col])\n",
    "            #print(arr[i][max_col],end=' ')\n",
    "            count+=1\n",
    "    max_col-=1\n",
    "    #BOTTOM WALL\n",
    "    for j in range(max_col,min_col-1,-1):\n",
    "        if count<total_elements:\n",
    "            res.append(arr[max_row][j])\n",
    "            #print(arr[max_row][j],end=' ')\n",
    "            count+=1\n",
    "    max_row-=1\n",
    "    #LEFT WALL\n",
    "    for i in range(max_row,min_row-1,-1):\n",
    "        if count<total_elements:\n",
    "            res.append(arr[i][min_col])\n",
    "            #print(arr[i][min_col],end=' ')\n",
    "            count+=1\n",
    "    min_col+=1\n",
    "print(res)   "
   ]
  },
  {
   "cell_type": "markdown",
   "id": "deadly-genesis",
   "metadata": {},
   "source": [
    "## Exit Point of a Matrix"
   ]
  },
  {
   "cell_type": "code",
   "execution_count": 24,
   "id": "visible-finnish",
   "metadata": {},
   "outputs": [
    {
     "name": "stdout",
     "output_type": "stream",
     "text": [
      "4\n",
      "4\n",
      "0\n",
      "0\n",
      "1\n",
      "0\n",
      "1\n",
      "0\n",
      "0\n",
      "1\n",
      "0\n",
      "0\n",
      "0\n",
      "1\n",
      "1\n",
      "0\n",
      "1\n",
      "0\n",
      "2 0\n"
     ]
    }
   ],
   "source": [
    "r = int(input())\n",
    "c = int(input())\n",
    "arr = [[int(input()) for x in range(c)] for y in range (r)]\n",
    "\n",
    "dir = 0\n",
    "i , j = 0 , 0 #Initial entry point\n",
    "\n",
    "while True:\n",
    "    #if arr[i][j]=0, then direction wont change\n",
    "    #jitne baar 1 milega direction badal jayegi to 1,2,3\n",
    "    dir = (dir+arr[i][j])%4\n",
    "    \n",
    "    \n",
    "    if dir == 0:\n",
    "        j+=1 #East - i,j+1\n",
    "    elif dir == 1:\n",
    "        i+=1 #South - i+1 ,j\n",
    "    elif dir == 2:\n",
    "        j-=1 #West - i,j-1\n",
    "    elif dir == 3:\n",
    "        i-=1 #North - i-1 ,j\n",
    "    \n",
    "    if i<0:\n",
    "        i+=1\n",
    "        break\n",
    "    elif j<0:\n",
    "        j+=1\n",
    "        break\n",
    "    elif i==len(arr):\n",
    "        i-=1\n",
    "        break\n",
    "    elif j==len(arr[0]):\n",
    "        j-=1\n",
    "        break\n",
    "print(i,j)"
   ]
  },
  {
   "cell_type": "markdown",
   "id": "accepting-badge",
   "metadata": {},
   "source": [
    "## Rotate a matrix by 90 degrees"
   ]
  },
  {
   "cell_type": "code",
   "execution_count": 30,
   "id": "premium-zambia",
   "metadata": {},
   "outputs": [
    {
     "name": "stdout",
     "output_type": "stream",
     "text": [
      "4\n",
      "1\n",
      "2\n",
      "3\n",
      "4\n",
      "5\n",
      "6\n",
      "7\n",
      "8\n",
      "9\n",
      "10\n",
      "11\n",
      "12\n",
      "13\n",
      "14\n",
      "15\n",
      "16\n",
      "13 9 5 1 \n",
      "14 10 6 2 \n",
      "15 11 7 3 \n",
      "16 12 8 4 \n"
     ]
    }
   ],
   "source": [
    "n = int(input())\n",
    "arr = [[int(input()) for x in range(n)] for y in range (n)]\n",
    "\n",
    "#Transpose\n",
    "for i in range(len(arr)):\n",
    "    for j in range(i,len(arr[0])): #upper traingle so start loop from i\n",
    "        temp = arr[i][j]\n",
    "        arr[i][j] = arr[j][i]\n",
    "        arr[j][i] = temp\n",
    "\n",
    "#Now reverse it row by row\n",
    "for i in range(len(arr)):\n",
    "    li = 0\n",
    "    ri = len(arr)-1\n",
    "    while li<ri:\n",
    "        temp = arr[i][li]\n",
    "        arr[i][li] = arr[i][ri]\n",
    "        arr[i][ri] = temp\n",
    "        li+=1\n",
    "        ri-=1\n",
    "for i in range(len(arr)):\n",
    "    for j in range(len(arr[0])):\n",
    "        print(arr[i][j],end=' ')\n",
    "    print()"
   ]
  },
  {
   "cell_type": "markdown",
   "id": "thousand-lafayette",
   "metadata": {},
   "source": [
    "## Shell Rotate of a matrix"
   ]
  },
  {
   "cell_type": "code",
   "execution_count": 14,
   "id": "animated-nomination",
   "metadata": {},
   "outputs": [
    {
     "data": {
      "text/plain": [
       "[2, 3, 4, 5, 6, 1]"
      ]
     },
     "execution_count": 14,
     "metadata": {},
     "output_type": "execute_result"
    }
   ],
   "source": [
    "#Reverse 1D array\n",
    "a = [1,2,3,4,5,6]\n",
    "k = 5\n",
    "a1 = a[:len(a)-k]\n",
    "a2 = a[len(a)-k:]\n",
    "a1r = a1[::-1]\n",
    "a2r = a2[::-1]\n",
    "res= a1r+a2r\n",
    "res[::-1]"
   ]
  },
  {
   "cell_type": "code",
   "execution_count": 21,
   "id": "alien-stanford",
   "metadata": {},
   "outputs": [
    {
     "data": {
      "text/plain": [
       "2.0"
      ]
     },
     "execution_count": 21,
     "metadata": {},
     "output_type": "execute_result"
    }
   ],
   "source": [
    "#If you want to calculate number of shells in 2d matrix\n",
    "min(n/2, m/2)"
   ]
  },
  {
   "cell_type": "code",
   "execution_count": 18,
   "id": "ethical-ceiling",
   "metadata": {},
   "outputs": [
    {
     "name": "stdout",
     "output_type": "stream",
     "text": [
      "4\n",
      "5\n",
      "1\n",
      "2\n",
      "3\n",
      "4\n",
      "5\n",
      "6\n",
      "7\n",
      "8\n",
      "9\n",
      "10\n",
      "11\n",
      "12\n",
      "13\n",
      "14\n",
      "15\n",
      "16\n",
      "17\n",
      "18\n",
      "19\n",
      "20\n",
      "2\n",
      "3\n",
      "1 2 3 4 5 \n",
      "6 14 13 12 10 \n",
      "11 9 8 7 15 \n",
      "16 17 18 19 20 \n"
     ]
    }
   ],
   "source": [
    "\n",
    "def fillOneDfromShell(arr,s):\n",
    "    min_row,min_col = s-1,s-1\n",
    "    max_row,max_col = len(arr)-s,len(arr[0])-s\n",
    "    #defining size of 1D array\n",
    "    total_element_in_shell = 2*(max_row-min_row+1)+2*(max_col-min_col+1)-4 #lwall,bw,rw,tw- 4corners\n",
    "    one_d = [0]*total_element_in_shell\n",
    "    idx = 0\n",
    "    #LEFT WALL\n",
    "    for i in range(min_row,max_row+1):\n",
    "        one_d[idx] = arr[i][min_col]\n",
    "        idx+=1\n",
    "    #BOTTOM WALL\n",
    "    for j in range(min_col+1,max_col+1):\n",
    "        one_d[idx] = arr[max_row][j]\n",
    "        idx+=1\n",
    "    #RIGHT WALL\n",
    "    for i in range(max_row-1,min_row-1,-1):\n",
    "        one_d[idx] = arr[i][max_col]\n",
    "        idx+=1\n",
    "    #TOP WALL\n",
    "    for j in range(max_col-1,min_col,-1):\n",
    "        one_d[idx] = arr[min_row][j]\n",
    "        idx+=1\n",
    "    return one_d\n",
    "        \n",
    "    \n",
    "\n",
    "def fillShellfromOneD(arr,s,one_d):\n",
    "    min_row,min_col = s-1,s-1\n",
    "    max_row,max_col = len(arr)-s,len(arr[0])-s\n",
    "    \n",
    "    idx = 0\n",
    "    #LEFT WALL\n",
    "    for i in range(min_row,max_row+1):\n",
    "        arr[i][min_col] = one_d[idx]\n",
    "        idx+=1\n",
    "    #BOTTOM WALL\n",
    "    for j in range(min_col+1,max_col+1):\n",
    "        arr[max_row][j] = one_d[idx]\n",
    "        idx+=1\n",
    "    #RIGHT WALL\n",
    "    for i in range(max_row-1,min_row-1,-1):\n",
    "        arr[i][max_col] = one_d[idx]\n",
    "        idx+=1\n",
    "    #TOP WALL\n",
    "    for j in range(max_col-1,min_col,-1):\n",
    "        arr[min_row][j] = one_d[idx]\n",
    "        idx+=1\n",
    "        \n",
    "def reverse(one_d,li,ri):\n",
    "        while li<ri:\n",
    "            temp = one_d[li]\n",
    "            one_d[li] = one_d[ri]\n",
    "            one_d[ri] = temp\n",
    "            li+=1\n",
    "            ri-=1\n",
    "            \n",
    "def rotate_one_d(one_d,r):\n",
    "    r = r%len(one_d)\n",
    "    if r<0:\n",
    "        r = r+len(one_d)\n",
    "    \n",
    "    reverse(one_d,0,len(one_d)-r-1)\n",
    "    reverse(one_d,len(one_d)-r,len(one_d)-1)\n",
    "    reverse(one_d,0,len(one_d)-1)\n",
    "    \n",
    "def rotateShell(arr,s,r):\n",
    "    one_d = fillOneDfromShell(arr,s)\n",
    "    rotate_one_d(one_d,r)\n",
    "    fillShellfromOneD(arr,s,one_d)   \n",
    "\n",
    "def display(arr):\n",
    "    for i in range(len(arr)):\n",
    "        for j in range(len(arr[0])):\n",
    "            print(arr[i][j],end=' ')\n",
    "        print()\n",
    "n = int(input())\n",
    "m = int(input())\n",
    "arr = [[int(input()) for x in range(m)] for y in range (n)]\n",
    "\n",
    "s = int(input())\n",
    "r = int(input())\n",
    "rotateShell(arr,s,r)\n",
    "display(arr)\n",
    "\n"
   ]
  },
  {
   "cell_type": "markdown",
   "id": "downtown-fairy",
   "metadata": {},
   "source": [
    "## Diagonal Traverse - Upper Triangle"
   ]
  },
  {
   "cell_type": "code",
   "execution_count": 27,
   "id": "identical-fraction",
   "metadata": {},
   "outputs": [
    {
     "name": "stdout",
     "output_type": "stream",
     "text": [
      "4\n",
      "1\n",
      "2\n",
      "3\n",
      "4\n",
      "5\n",
      "6\n",
      "7\n",
      "8\n",
      "9\n",
      "10\n",
      "11\n",
      "12\n",
      "13\n",
      "14\n",
      "15\n",
      "16\n",
      "1 6 11 16 2 7 12 3 8 4 "
     ]
    }
   ],
   "source": [
    "n = int(input())\n",
    "arr = [[int(input()) for x in range(n)] for y in range (n)]\n",
    "\n",
    "for gap in range(len(arr)):\n",
    "    i=0\n",
    "    j=gap\n",
    "    while j<len(arr): \n",
    "        print(arr[i][j],end=' ')\n",
    "        i+=1\n",
    "        j+=1    "
   ]
  },
  {
   "cell_type": "markdown",
   "id": "impressive-homework",
   "metadata": {},
   "source": [
    "## Diagonal Traverse - Lower Triangle"
   ]
  },
  {
   "cell_type": "code",
   "execution_count": 30,
   "id": "challenging-audience",
   "metadata": {},
   "outputs": [
    {
     "name": "stdout",
     "output_type": "stream",
     "text": [
      "4\n",
      "1\n",
      "2\n",
      "3\n",
      "4\n",
      "5\n",
      "6\n",
      "7\n",
      "8\n",
      "9\n",
      "10\n",
      "11\n",
      "12\n",
      "13\n",
      "14\n",
      "15\n",
      "16\n",
      "1 6 11 16 5 10 15 9 14 13 "
     ]
    }
   ],
   "source": [
    "n = int(input())\n",
    "arr = [[int(input()) for x in range(n)] for y in range (n)]\n",
    "\n",
    "for gap in range(len(arr)):\n",
    "    i=gap\n",
    "    j=0\n",
    "    while i<len(arr): \n",
    "        print(arr[i][j],end=' ')\n",
    "        i+=1\n",
    "        j+=1  "
   ]
  },
  {
   "cell_type": "markdown",
   "id": "expected-richards",
   "metadata": {},
   "source": [
    "## Saddle point in 2D matrix"
   ]
  },
  {
   "cell_type": "code",
   "execution_count": 32,
   "id": "choice-prisoner",
   "metadata": {},
   "outputs": [
    {
     "name": "stdout",
     "output_type": "stream",
     "text": [
      "4\n",
      "4\n",
      "11\n",
      "12\n",
      "13\n",
      "14\n",
      "21\n",
      "22\n",
      "23\n",
      "24\n",
      "31\n",
      "32\n",
      "33\n",
      "34\n",
      "41\n",
      "42\n",
      "43\n",
      "44\n",
      "Saddle Point:  41\n"
     ]
    }
   ],
   "source": [
    "def findSaddlePoint(arr):\n",
    "    for i in range(len(arr)):\n",
    "        #least_element_index will give me the lowest element index in a row\n",
    "        least_element_index = 0\n",
    "        for j in range(1,len(arr[0])):\n",
    "            if arr[i][j]<arr[i][least_element_index]:\n",
    "                least_element_index = j\n",
    "\n",
    "        flag= True\n",
    "        #now check in 'that column(least_element_index)' for any value maximum that the value at least_element_index index\n",
    "        for k in range(len(arr)):\n",
    "            if arr[k][least_element_index]>arr[i][least_element_index]:\n",
    "                flag = False #No saddle point\n",
    "                break\n",
    "\n",
    "        if flag == True:\n",
    "            print('Saddle Point: ',arr[i][least_element_index])\n",
    "            return\n",
    "    print('Invalid input')\n",
    "    \n",
    "n = int(input())\n",
    "m = int(input())\n",
    "\n",
    "arr = [[int(input()) for x in range(m)] for y in range (n)]\n",
    "findSaddlePoint(arr)\n",
    "\n",
    "            \n",
    "        \n",
    "    "
   ]
  },
  {
   "cell_type": "markdown",
   "id": "competitive-better",
   "metadata": {},
   "source": [
    "## Search in a Sorted 2D Array\n",
    "- We can use Binary search here"
   ]
  },
  {
   "cell_type": "code",
   "execution_count": 35,
   "id": "controversial-designer",
   "metadata": {},
   "outputs": [
    {
     "name": "stdout",
     "output_type": "stream",
     "text": [
      "4\n",
      "4\n",
      "11\n",
      "12\n",
      "13\n",
      "14\n",
      "21\n",
      "22\n",
      "23\n",
      "24\n",
      "31\n",
      "32\n",
      "33\n",
      "34\n",
      "41\n",
      "42\n",
      "43\n",
      "44\n",
      "42\n",
      "Found at 3,1\n"
     ]
    }
   ],
   "source": [
    "def searchInSorted2DArray(arr,x):\n",
    "    \n",
    "    #start point\n",
    "    i = 0\n",
    "    j = len(arr[0])-1\n",
    "\n",
    "    while i<len(arr) and j>=0:\n",
    "        if x == arr[i][j]:\n",
    "            print('Found at {},{}'.format(i,j))\n",
    "            return\n",
    "        elif x<arr[i][j]:\n",
    "            j-=1\n",
    "        else:\n",
    "            i+=1\n",
    "    print('Not Found')\n",
    "\n",
    "n = int(input())\n",
    "m = int(input())\n",
    "\n",
    "arr = [[int(input()) for x in range(m)] for y in range (n)]\n",
    "\n",
    "find = int(input())\n",
    "searchInSorted2DArray(arr,find)"
   ]
  },
  {
   "cell_type": "code",
   "execution_count": null,
   "id": "structural-decimal",
   "metadata": {},
   "outputs": [],
   "source": []
  }
 ],
 "metadata": {
  "kernelspec": {
   "display_name": "Python 3",
   "language": "python",
   "name": "python3"
  },
  "language_info": {
   "codemirror_mode": {
    "name": "ipython",
    "version": 3
   },
   "file_extension": ".py",
   "mimetype": "text/x-python",
   "name": "python",
   "nbconvert_exporter": "python",
   "pygments_lexer": "ipython3",
   "version": "3.7.4"
  }
 },
 "nbformat": 4,
 "nbformat_minor": 5
}
