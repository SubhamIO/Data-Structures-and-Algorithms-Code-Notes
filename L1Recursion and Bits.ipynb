{
 "cells": [
  {
   "cell_type": "markdown",
   "id": "million-voice",
   "metadata": {},
   "source": [
    "## Bit Manipulation"
   ]
  },
  {
   "cell_type": "markdown",
   "id": "developing-exposure",
   "metadata": {},
   "source": [
    "### Josephus Problem using Bits"
   ]
  },
  {
   "cell_type": "code",
   "execution_count": null,
   "id": "governmental-thomas",
   "metadata": {},
   "outputs": [],
   "source": [
    "def highestpowerof2(n):\n",
    "    i=1\n",
    "    while(i*2<=n):\n",
    "        i=i*2\n",
    "    return i\n",
    "\n",
    "def solution(n):\n",
    "    hp2 = highestpowerof2(n)\n",
    "    l=n-hp2\n",
    "    return 2*l+1\n",
    "ans = solution(10)\n",
    "ans"
   ]
  },
  {
   "cell_type": "markdown",
   "id": "nearby-wells",
   "metadata": {},
   "source": [
    "### Find highest power of 2 in O(1) time using log"
   ]
  },
  {
   "cell_type": "code",
   "execution_count": null,
   "id": "final-humanity",
   "metadata": {},
   "outputs": [],
   "source": [
    "import math\n",
    "n=16\n",
    "logBase2 = (int)(math.log(n) / math.log(2))\n",
    "powerOf2 = 1 << logBase2 #shift 1 to that position\n",
    "powerOf2"
   ]
  },
  {
   "cell_type": "markdown",
   "id": "welcome-primary",
   "metadata": {},
   "source": [
    "### Genrate n-bit Gray Codes using recursion"
   ]
  },
  {
   "cell_type": "code",
   "execution_count": 1,
   "id": "transsexual-acting",
   "metadata": {},
   "outputs": [
    {
     "name": "stdout",
     "output_type": "stream",
     "text": [
      "000\n",
      "001\n",
      "011\n",
      "010\n",
      "110\n",
      "111\n",
      "101\n",
      "100\n"
     ]
    }
   ],
   "source": [
    "# Python3 program to generate\n",
    "# n-bit Gray codes\n",
    " \n",
    "# This function generates all n \n",
    "# bit Gray codes and prints the\n",
    "# generated codes\n",
    "def generateGray(n):\n",
    "     \n",
    "    # Base case\n",
    "    if (n <= 0):\n",
    "        return [\"0\"]\n",
    "    if (n == 1):\n",
    "        return [ \"0\", \"1\" ]\n",
    " \n",
    "    # Recursive case\n",
    "    recAns = generateGray(n - 1)\n",
    " \n",
    "    mainAns = []\n",
    "     \n",
    "    # Append 0 to the first half\n",
    "    for i in range(len(recAns)):\n",
    "        s = recAns[i]\n",
    "        mainAns.append(\"0\" + s)\n",
    " \n",
    "    # Append 1 to the second half\n",
    "    for i in range(len(recAns) - 1, -1, -1):\n",
    "        s = recAns[i]\n",
    "        mainAns.append(\"1\" + s)\n",
    " \n",
    "    return mainAns\n",
    " \n",
    "# Function to generate the \n",
    "# Gray code of N bits\n",
    "def generateGrayarr(n):\n",
    "     \n",
    "    arr = generateGray(n)\n",
    " \n",
    "    # Print contents of arr \n",
    "    print(*arr, sep = \"\\n\")\n",
    " \n",
    "# Driver Code\n",
    "generateGrayarr(3)"
   ]
  },
  {
   "cell_type": "markdown",
   "id": "macro-trinity",
   "metadata": {},
   "source": [
    "### Check if all bits are 1"
   ]
  },
  {
   "cell_type": "code",
   "execution_count": 35,
   "id": "lovely-hours",
   "metadata": {},
   "outputs": [
    {
     "name": "stdout",
     "output_type": "stream",
     "text": [
      "Yes\n"
     ]
    }
   ],
   "source": [
    "smask =7\n",
    "nskills=3 #3 bits range\n",
    "if smask == ((1<<nskills)-1):\n",
    "    print('Yes')\n",
    "else:\n",
    "    print('No')"
   ]
  },
  {
   "cell_type": "markdown",
   "id": "extraordinary-remove",
   "metadata": {},
   "source": [
    "### Minimum Developer required  - Not correct ans"
   ]
  },
  {
   "cell_type": "code",
   "execution_count": 40,
   "id": "civic-editor",
   "metadata": {
    "scrolled": true
   },
   "outputs": [
    {
     "name": "stdout",
     "output_type": "stream",
     "text": [
      "3\n",
      "a\n",
      "b\n",
      "c\n",
      "{'a': 0, 'b': 1, 'c': 2}\n",
      "3\n",
      "1\n",
      "a\n",
      "0\n",
      "1\n",
      "b\n",
      "1\n",
      "2\n",
      "b\n",
      "1\n",
      "c\n",
      "2\n",
      "[2]\n",
      "[1]\n",
      "[1, 2]\n",
      "[0]\n",
      "[0, 2]\n",
      "[0, 1]\n",
      "[0, 1, 2]\n",
      "[]\n"
     ]
    }
   ],
   "source": [
    "def solution(people,nskills,cp,onesol,smask):\n",
    "    sol=[]\n",
    "    #cp is current person\n",
    "    #smask is 0 initially, we do OR operation with people[cp]\n",
    "    #onesol will hold the number of persons required\n",
    "    if cp==len(people): #when all persons are over\n",
    "        #Consider only those whose all bits are set\n",
    "        if smask == ((1<<nskills)-1):\n",
    "            if len(sol)==0 or len(onesol)<len(sol):\n",
    "                sol=onesol\n",
    "        return\n",
    "            \n",
    "        \n",
    "    solution(people,nskills,cp+1,onesol,smask) #when NO\n",
    "    \n",
    "    onesol.append(cp)\n",
    "    print(onesol)\n",
    "    solution(people,nskills,cp+1,onesol,(smask|people[cp]))\n",
    "    onesol.remove(onesol[-1])\n",
    "    return onesol\n",
    "n=int(input())\n",
    "smap = dict()\n",
    "for i in range(n):\n",
    "    smap[input()] = i\n",
    "print(smap)\n",
    "np = int(input())\n",
    "people = [0]*np\n",
    "for i in range(np):\n",
    "    personSkills = int(input())\n",
    "    for j in range(personSkills):\n",
    "        skill = input()\n",
    "        snum = smap[skill]\n",
    "        print(snum)\n",
    "        people[i] = people[i] | (1<<snum)\n",
    "onesol1=[]\n",
    "sol = solution(people, n, 0, onesol1, 0) \n",
    "print(sol)\n",
    "\n",
    "\n",
    "    \n",
    "    \n",
    "\n"
   ]
  },
  {
   "cell_type": "markdown",
   "id": "false-symposium",
   "metadata": {},
   "source": [
    "## Find the two non-repeating elements in an array of repeating elements twice"
   ]
  },
  {
   "cell_type": "code",
   "execution_count": 42,
   "id": "intensive-drive",
   "metadata": {},
   "outputs": [
    {
     "data": {
      "text/plain": [
       "(42, 56)"
      ]
     },
     "execution_count": 42,
     "metadata": {},
     "output_type": "execute_result"
    }
   ],
   "source": [
    "import math\n",
    "def solution(arr):\n",
    "    n=len(arr)\n",
    "    xxory=0\n",
    "    for i in range(n):\n",
    "        xxory=xxory^arr[i]\n",
    "    \n",
    "    ##Find out the rightmost set bit position\n",
    "    rsbpos = int(math.log2(xxory&-xxory))\n",
    "    \n",
    "    ## Separate elements with 1 and 0 at rsbpos\n",
    "    rsb1 = []\n",
    "    rsb0 = []    \n",
    "    for i in range(len(arr)):\n",
    "        ele = arr[i]\n",
    "        mask = (1<<rsbpos)\n",
    "        if(ele & mask)!=0: #Check whether ith bit is set or not\n",
    "            rsb1.append(ele)\n",
    "        else:\n",
    "            rsb0.append(ele)\n",
    "    a = 0\n",
    "    for i in range(len(rsb1)):\n",
    "        a = a ^ rsb1[i]\n",
    "    b = 0\n",
    "    for i in range(len(rsb0)):\n",
    "        b = b ^ rsb0[i]\n",
    "    \n",
    "    return a,b\n",
    "\n",
    "arr = [36,50,24,56,36,24,42,50]\n",
    "a,b = solution(arr)\n",
    "a,b"
   ]
  },
  {
   "cell_type": "markdown",
   "id": "unknown-islam",
   "metadata": {},
   "source": [
    "## Finding Duplicate and Missing element in list"
   ]
  },
  {
   "cell_type": "code",
   "execution_count": 44,
   "id": "virtual-reporter",
   "metadata": {},
   "outputs": [
    {
     "data": {
      "text/plain": [
       "(2, 4)"
      ]
     },
     "execution_count": 44,
     "metadata": {},
     "output_type": "execute_result"
    }
   ],
   "source": [
    "import math\n",
    "def solution(arr):\n",
    "    n=len(arr)\n",
    "    #XOR all elements in given array and the array we created with 1 to n elements\n",
    "    xxory=0\n",
    "    for i in range(n):\n",
    "        xxory=xxory^arr[i]\n",
    "    for i in range(1,n+1): ## 1 to 7 elements - XOR\n",
    "        xxory=xxory^i\n",
    "    \n",
    "    ##Find out the rightmost set bit position\n",
    "    rsbpos = int(math.log2(xxory&-xxory))\n",
    "    \n",
    "    ## Separate elements with 1 and 0 at rsbpos\n",
    "    rsb1 = []\n",
    "    rsb0 = []    \n",
    "    for i in range(len(arr)):\n",
    "        ele = arr[i]\n",
    "        mask = (1<<rsbpos)\n",
    "        if(ele & mask)!=0: #Check whether ith bit is set or not\n",
    "            rsb1.append(ele)\n",
    "        else:\n",
    "            rsb0.append(ele)\n",
    "    a = 0\n",
    "    for i in range(len(rsb1)):\n",
    "        a = a ^ rsb1[i]\n",
    "    b = 0\n",
    "    for i in range(len(rsb0)):\n",
    "        b = b ^ rsb0[i]\n",
    "    \n",
    "    return a,b\n",
    "\n",
    "arr = [3,6,2,5,1,2,7]\n",
    "a,b = solution(arr)\n",
    "a,b"
   ]
  },
  {
   "cell_type": "markdown",
   "id": "instant-pavilion",
   "metadata": {},
   "source": [
    "### Swap even bits with odd bits"
   ]
  },
  {
   "cell_type": "code",
   "execution_count": 66,
   "id": "particular-oklahoma",
   "metadata": {},
   "outputs": [
    {
     "name": "stdout",
     "output_type": "stream",
     "text": [
      "10\n",
      "5\n"
     ]
    }
   ],
   "source": [
    "n = int(input())\n",
    "oddmask = 0x55555555  #5 in hex is 0101 = 0101010101010101 = 32 bits(int)\n",
    "evenmask = 0xAAAAAAAA #A in hex is 1010 = 1010101010101010 = 32 bits(int)\n",
    "\n",
    "odds = (n&oddmask)\n",
    "evens = (n&evenmask)\n",
    "\n",
    "odds<<=1\n",
    "evens>>=1\n",
    "\n",
    "n = (odds | evens)\n",
    "print(n)"
   ]
  },
  {
   "cell_type": "markdown",
   "id": "laden-victim",
   "metadata": {},
   "source": [
    "### Check if binary string is divisible by 3"
   ]
  },
  {
   "cell_type": "code",
   "execution_count": 2,
   "id": "breeding-portland",
   "metadata": {},
   "outputs": [
    {
     "name": "stdout",
     "output_type": "stream",
     "text": [
      "1\n",
      "0\n",
      "0\n",
      "1\n",
      "True\n"
     ]
    }
   ],
   "source": [
    "def divby3(string):\n",
    "    even = 0\n",
    "    odd = 0\n",
    "    for i in range(len(string)):\n",
    "#         bit = ord(string[i]) - ord('0') #String value to integer \n",
    "        bit = int(string[i]) #String value to integer\n",
    "        print(bit)\n",
    "        if i%2==0:\n",
    "            even+= bit\n",
    "        else:\n",
    "            odd+=bit\n",
    "    res = even-odd\n",
    "    if res%3==0: \n",
    "        print('True')\n",
    "    else:\n",
    "        print('False')\n",
    "        \n",
    "divby3('1001')    "
   ]
  },
  {
   "cell_type": "markdown",
   "id": "moved-elite",
   "metadata": {},
   "source": [
    "# RECURSION"
   ]
  },
  {
   "cell_type": "markdown",
   "id": "rotary-affiliation",
   "metadata": {},
   "source": [
    "## Palindrome on string using recursion : O(n)"
   ]
  },
  {
   "cell_type": "code",
   "execution_count": null,
   "id": "violent-barbados",
   "metadata": {},
   "outputs": [],
   "source": [
    "#Palindrome on string using recursion  O(n)\n",
    "def palindromic(s,l,r):\n",
    "    if l>=r:#if string has even characters and it is palindrome then l > r\n",
    "        return True\n",
    "    if s[l]!=s[r]:#if end elements are not same then False else increment l and decrement r and pass smaller string\n",
    "        return False\n",
    "    return palindromic(s,l+1,r-1)\n",
    "s = 'madam'\n",
    "l = 0\n",
    "r = len(s)-1\n",
    "ans = palindromic(s,l,r)\n",
    "ans"
   ]
  },
  {
   "cell_type": "markdown",
   "id": "cellular-pipeline",
   "metadata": {},
   "source": [
    "### TOWER OF HANOI (B is destination)\n",
    "\n"
   ]
  },
  {
   "cell_type": "code",
   "execution_count": 1,
   "id": "departmental-disease",
   "metadata": {},
   "outputs": [
    {
     "name": "stdout",
     "output_type": "stream",
     "text": [
      "Move disc 1 from A to B\n",
      "Move disc 2 from A to C\n",
      "Move disc 1 from B to C\n",
      "Move disc 3 from A to B\n",
      "Move disc 1 from C to A\n",
      "Move disc 2 from C to B\n",
      "Move disc 1 from A to B\n"
     ]
    }
   ],
   "source": [
    "#TOWER OF HANOI (B is destination)\n",
    "'''\n",
    "1. Move (n-1) disks from A to C using B\n",
    "2. Move a disc from A to B\n",
    "3. Move (n-1) disks from C to B using A\n",
    "''''''\n",
    "1. Move (n-1) disks from A to B using C\n",
    "2. Move a disc from A to C\n",
    "3. Move (n-1) disks from B to C using A\n",
    "'''\n",
    "def TOH(n,A,B,C):\n",
    "    if n>0:\n",
    "        TOH(n-1,A,C,B)\n",
    "        print('Move disc {} from {} to {}'.format(n,A,B))\n",
    "        TOH(n-1,C,B,A)\n",
    "TOH(3,'A','B','C')"
   ]
  },
  {
   "cell_type": "markdown",
   "id": "signed-copying",
   "metadata": {},
   "source": [
    "## Display array elements using recursion"
   ]
  },
  {
   "cell_type": "code",
   "execution_count": 22,
   "id": "increased-sailing",
   "metadata": {},
   "outputs": [
    {
     "name": "stdout",
     "output_type": "stream",
     "text": [
      "1\n",
      "2\n",
      "3\n",
      "4\n",
      "5\n",
      "**********\n",
      "1\n",
      "2\n",
      "3\n",
      "4\n",
      "5\n"
     ]
    }
   ],
   "source": [
    "def vis1(arr,idx):\n",
    "    if idx==len(arr):\n",
    "        return\n",
    "    print(arr[idx])\n",
    "    vis1(arr,idx+1)\n",
    "arr = [1,2,3,4,5]\n",
    "idx=0\n",
    "vis1(arr,idx)\n",
    "print('*'*10)\n",
    "    \n",
    "#---- OR ----  \n",
    "def vis(arr):\n",
    "    if len(arr)==0:\n",
    "        return\n",
    "    print(arr[0])\n",
    "    vis(arr[1:])\n",
    "vis([1,2,3,4,5])"
   ]
  },
  {
   "cell_type": "markdown",
   "id": "forbidden-motion",
   "metadata": {},
   "source": [
    "### Print array elements in Reverse usng recursion"
   ]
  },
  {
   "cell_type": "code",
   "execution_count": 45,
   "id": "boxed-dakota",
   "metadata": {},
   "outputs": [
    {
     "name": "stdout",
     "output_type": "stream",
     "text": [
      "5\n",
      "4\n",
      "3\n",
      "2\n",
      "1\n",
      "**********\n",
      "5\n",
      "4\n",
      "3\n",
      "2\n",
      "1\n"
     ]
    }
   ],
   "source": [
    "def vis1(arr,idx):\n",
    "    if idx==-1:\n",
    "        return\n",
    "    print(arr[idx])\n",
    "    vis1(arr,idx-1)\n",
    "    \n",
    "    \n",
    "arr = [1,2,3,4,5]\n",
    "idx=len(arr)-1\n",
    "vis1(arr,idx)\n",
    "print('*'*10)\n",
    "\n",
    "#-- OR -- \n",
    "def vis(arr):\n",
    "    if len(arr)==0:\n",
    "        return\n",
    "    print(arr[len(arr)-1])\n",
    "    vis(arr[:len(arr)-1])\n",
    "vis([1,2,3,4,5])"
   ]
  },
  {
   "cell_type": "markdown",
   "id": "composite-declaration",
   "metadata": {},
   "source": [
    "## Max element in array using Recursion"
   ]
  },
  {
   "cell_type": "code",
   "execution_count": 72,
   "id": "pediatric-orientation",
   "metadata": {},
   "outputs": [
    {
     "data": {
      "text/plain": [
       "33"
      ]
     },
     "execution_count": 72,
     "metadata": {},
     "output_type": "execute_result"
    }
   ],
   "source": [
    "def maxOfarray(arr,idx):\n",
    "    if idx == len(arr)-1:\n",
    "        return arr[idx]\n",
    "    misa = maxOfarray(arr,idx+1)\n",
    "    if misa>arr[idx]:\n",
    "        return misa\n",
    "    else:\n",
    "        return arr[idx]\n",
    "arr= [22,33,4,19,7]\n",
    "maxOfarray(arr,0)"
   ]
  },
  {
   "cell_type": "markdown",
   "id": "equal-setting",
   "metadata": {},
   "source": [
    "## Sum of array using Recursion"
   ]
  },
  {
   "cell_type": "code",
   "execution_count": 38,
   "id": "sophisticated-brooklyn",
   "metadata": {},
   "outputs": [
    {
     "data": {
      "text/plain": [
       "85"
      ]
     },
     "execution_count": 38,
     "metadata": {},
     "output_type": "execute_result"
    }
   ],
   "source": [
    "def sumOfarray(arr,idx):\n",
    "    if idx == len(arr)-1:\n",
    "        return arr[idx]\n",
    "    sums = sumOfarray(arr,idx+1)\n",
    "    return sums+arr[idx]\n",
    "arr= [22,33,4,19,7]\n",
    "s = sumOfarray(arr,0)\n",
    "s"
   ]
  },
  {
   "cell_type": "markdown",
   "id": "veterinary-lancaster",
   "metadata": {},
   "source": [
    "## First index of element in array using recursion"
   ]
  },
  {
   "cell_type": "code",
   "execution_count": 77,
   "id": "regular-massachusetts",
   "metadata": {},
   "outputs": [
    {
     "name": "stdout",
     "output_type": "stream",
     "text": [
      "CPU times: user 22 µs, sys: 1 µs, total: 23 µs\n",
      "Wall time: 26.2 µs\n"
     ]
    },
    {
     "data": {
      "text/plain": [
       "1"
      ]
     },
     "execution_count": 77,
     "metadata": {},
     "output_type": "execute_result"
    }
   ],
   "source": [
    "%%time\n",
    "def firstIndex(arr,idx,x):\n",
    "    if idx==len(arr):\n",
    "        return -1\n",
    "    \n",
    "    if arr[idx]==x:\n",
    "        return idx\n",
    "    else:\n",
    "        fiisa = firstIndex(arr,idx+1,x)\n",
    "        return fiisa\n",
    "    \n",
    "ans = firstIndex([2,3,6,9,8,3,2,6,2,4],0,3)\n",
    "ans"
   ]
  },
  {
   "cell_type": "markdown",
   "id": "competent-jimmy",
   "metadata": {},
   "source": [
    "## Last index of element in array using recursion"
   ]
  },
  {
   "cell_type": "code",
   "execution_count": 81,
   "id": "threatened-enclosure",
   "metadata": {},
   "outputs": [
    {
     "data": {
      "text/plain": [
       "7"
      ]
     },
     "execution_count": 81,
     "metadata": {},
     "output_type": "execute_result"
    }
   ],
   "source": [
    "def lastIndex(arr,idx,x):\n",
    "    if idx == len(arr):\n",
    "        return -1\n",
    "    liisa = lastIndex(arr,idx+1,x)\n",
    "    if liisa == -1:\n",
    "        if arr[idx] == x:\n",
    "            return idx\n",
    "        else:\n",
    "            return -1\n",
    "    else:\n",
    "        return liisa\n",
    "ans = lastIndex([2,3,6,9,8,3,2,3,6,4],0,3)\n",
    "ans"
   ]
  },
  {
   "cell_type": "markdown",
   "id": "internal-remedy",
   "metadata": {},
   "source": [
    "### Return all indices of an element as an array/list"
   ]
  },
  {
   "cell_type": "code",
   "execution_count": 84,
   "id": "statutory-kinase",
   "metadata": {},
   "outputs": [
    {
     "data": {
      "text/plain": [
       "[1, 5, 7]"
      ]
     },
     "execution_count": 84,
     "metadata": {},
     "output_type": "execute_result"
    }
   ],
   "source": [
    "def allIndices(arr,x,idx,fsf): \n",
    "    #fsf : found so far\n",
    "    #increment fsf and index when we find the same element else increment only index\n",
    "    if idx == len(arr):\n",
    "        return [0]*fsf #return array equal to size of element found how many times after reaching last of array\n",
    "    \n",
    "    if arr[idx] == x:\n",
    "        iarr = allIndices(arr,x,idx+1,fsf+1)\n",
    "        #fill the array with index found at return time in recursion\n",
    "        #this will fill from the last\n",
    "        iarr[fsf] = idx\n",
    "        return iarr\n",
    "    else:\n",
    "        iarr = allIndices(arr,x,idx+1,fsf)\n",
    "        return iarr\n",
    "arr = [2,3,6,9,8,3,2,3,6,4]\n",
    "x=3\n",
    "ans = allIndices(arr,x,0,0)\n",
    "ans"
   ]
  },
  {
   "cell_type": "markdown",
   "id": "pressing-nowhere",
   "metadata": {},
   "source": [
    "## Get Subsequences"
   ]
  },
  {
   "cell_type": "code",
   "execution_count": 2,
   "id": "faced-thanks",
   "metadata": {},
   "outputs": [
    {
     "data": {
      "text/plain": [
       "['',\n",
       " 'a',\n",
       " 'b',\n",
       " 'ab',\n",
       " 'c',\n",
       " 'ac',\n",
       " 'bc',\n",
       " 'abc',\n",
       " 'd',\n",
       " 'ad',\n",
       " 'bd',\n",
       " 'abd',\n",
       " 'cd',\n",
       " 'acd',\n",
       " 'bcd',\n",
       " 'abcd']"
      ]
     },
     "execution_count": 2,
     "metadata": {},
     "output_type": "execute_result"
    }
   ],
   "source": [
    "def getss(string):\n",
    "    \n",
    "    #Blanks string also has a subsequence = \"\"\n",
    "    if len(string)==0:\n",
    "        bres = []\n",
    "        bres.append(\"\")\n",
    "        return bres\n",
    "    \n",
    "    #extract first character and rest characters\n",
    "    ch = string[0] #first character\n",
    "    ros = string[1:] #rest of the string    \n",
    "    rres= []\n",
    "    rres.extend(getss(ros))\n",
    "    myres = []\n",
    "    for i in rres:\n",
    "        myres.append(\"\"+str(i)) \n",
    "        myres.append(ch[0]+str(i))\n",
    "        \n",
    "    return myres\n",
    "        \n",
    "ans = getss('abcd')\n",
    "ans"
   ]
  },
  {
   "cell_type": "markdown",
   "id": "adjusted-trade",
   "metadata": {},
   "source": [
    "## Print Subsequences\n",
    "- Since storing it in list would consume lot of memory for higher values of n,So just print it"
   ]
  },
  {
   "cell_type": "code",
   "execution_count": 11,
   "id": "wound-sullivan",
   "metadata": {},
   "outputs": [
    {
     "name": "stdout",
     "output_type": "stream",
     "text": [
      "yvTa\n",
      "yvT\n",
      "yva\n",
      "yv\n",
      "yTa\n",
      "yT\n",
      "ya\n",
      "y\n",
      "vTa\n",
      "vT\n",
      "va\n",
      "v\n",
      "Ta\n",
      "T\n",
      "a\n",
      "\n"
     ]
    }
   ],
   "source": [
    "def printss(ques,ans):\n",
    "    if len(ques)==0:\n",
    "        print(ans)\n",
    "        return\n",
    "    \n",
    "    ch = ques[0] #first character\n",
    "    ros = ques[1:] #rest of the string\n",
    "    printss(ros,ans+ch) #include the char\n",
    "    printss(ros,ans+\"\") #don't include the char\n",
    "printss('yvTa','')"
   ]
  },
  {
   "cell_type": "code",
   "execution_count": 5,
   "id": "indonesian-copying",
   "metadata": {},
   "outputs": [
    {
     "name": "stdout",
     "output_type": "stream",
     "text": [
      "yvTa\n",
      "yvT\n",
      "yva\n",
      "yv\n",
      "yTa\n",
      "yT\n",
      "ya\n",
      "y\n",
      "vTa\n",
      "vT\n",
      "va\n",
      "v\n",
      "Ta\n",
      "T\n",
      "a\n",
      "\n"
     ]
    }
   ],
   "source": [
    "#Position Technique\n",
    "def printAbbreviation(string,ans,position):\n",
    "    #Base Case\n",
    "    if position == len(string):\n",
    "        print(ans)\n",
    "        return\n",
    "    #YES Call\n",
    "    printAbbreviation(string,ans+string[position],position+1)\n",
    "    \n",
    "    #NO Call\n",
    "    printAbbreviation(string,ans+'',position+1)\n",
    "    \n",
    "    \n",
    "string = 'yvTa'    \n",
    "printAbbreviation(string,'',0)    "
   ]
  },
  {
   "cell_type": "markdown",
   "id": "bigger-china",
   "metadata": {},
   "source": [
    "## Key Pad Codes"
   ]
  },
  {
   "cell_type": "code",
   "execution_count": 38,
   "id": "alleged-shock",
   "metadata": {
    "scrolled": true
   },
   "outputs": [
    {
     "data": {
      "text/plain": [
       "['ptv',\n",
       " 'ptw',\n",
       " 'ptx',\n",
       " 'puv',\n",
       " 'puw',\n",
       " 'pux',\n",
       " 'qtv',\n",
       " 'qtw',\n",
       " 'qtx',\n",
       " 'quv',\n",
       " 'quw',\n",
       " 'qux',\n",
       " 'rtv',\n",
       " 'rtw',\n",
       " 'rtx',\n",
       " 'ruv',\n",
       " 'ruw',\n",
       " 'rux',\n",
       " 'stv',\n",
       " 'stw',\n",
       " 'stx',\n",
       " 'suv',\n",
       " 'suw',\n",
       " 'sux']"
      ]
     },
     "execution_count": 38,
     "metadata": {},
     "output_type": "execute_result"
    }
   ],
   "source": [
    "def getKPC(string):\n",
    "    codes = [\",;\",\"abc\",\"def\",\"ghi\",\"jkl\",\"mno\",\"pqrs\",\"tu\",\"vwx\",\"yz\"]\n",
    "    \n",
    "    #Blanks string also has a subsequence = \"\"\n",
    "    if len(string)==0:\n",
    "        bres = []\n",
    "        bres.append(\"\")\n",
    "        return bres\n",
    "    \n",
    "    #678\n",
    "    ch = string[0] #first character = 6\n",
    "    ros = string[1:] #rest of the string = 78\n",
    "    rres= []\n",
    "    rres.extend(getKPC(ros)) # 6 words of 78\n",
    "    myres = [] \n",
    "    \n",
    "    codeforch = codes[int(ch)] # got 'pqrs' from codes list\n",
    "    for i in range(len(codeforch)):\n",
    "        chcode = codeforch[i] #append each character to words of 78\n",
    "        for rstr in rres:\n",
    "            myres.append(str(chcode)+rstr)\n",
    "    return myres\n",
    "ans = getKPC(\"678\")\n",
    "ans"
   ]
  },
  {
   "cell_type": "markdown",
   "id": "stylish-cinema",
   "metadata": {},
   "source": [
    "## Print Keypad Codes"
   ]
  },
  {
   "cell_type": "code",
   "execution_count": 28,
   "id": "resident-chicken",
   "metadata": {
    "scrolled": true
   },
   "outputs": [
    {
     "name": "stdout",
     "output_type": "stream",
     "text": [
      "ptv\n",
      "ptw\n",
      "ptx\n",
      "puv\n",
      "puw\n",
      "pux\n",
      "qtv\n",
      "qtw\n",
      "qtx\n",
      "quv\n",
      "quw\n",
      "qux\n",
      "rtv\n",
      "rtw\n",
      "rtx\n",
      "ruv\n",
      "ruw\n",
      "rux\n",
      "stv\n",
      "stw\n",
      "stx\n",
      "suv\n",
      "suw\n",
      "sux\n"
     ]
    }
   ],
   "source": [
    "def printKPC(ques,ans):\n",
    "    codes = [\",;\",\"abc\",\"def\",\"ghi\",\"jkl\",\"mno\",\"pqrs\",\"tu\",\"vwx\",\"yz\"]\n",
    "    if len(ques)==0:\n",
    "        print(ans)\n",
    "        return\n",
    "    #678\n",
    "    ch = ques[0] #first character = 6\n",
    "    ros = ques[1:] #rest of the string = 78\n",
    "    codeforch = codes[int(ch)] #pqrs\n",
    "    \n",
    "    #append p/q/r/s at beginning of what we would get from ros\n",
    "    for i in range(len(codeforch)):\n",
    "        chcode = codeforch[i]\n",
    "        printKPC(ros,ans+chcode) #append it and print it in base condition\n",
    "        \n",
    "printKPC('678','')\n",
    "    \n",
    "    \n",
    "    "
   ]
  },
  {
   "cell_type": "markdown",
   "id": "federal-destination",
   "metadata": {},
   "source": [
    "## Get Stair Paths"
   ]
  },
  {
   "cell_type": "code",
   "execution_count": 40,
   "id": "upper-nowhere",
   "metadata": {},
   "outputs": [
    {
     "data": {
      "text/plain": [
       "['1111', '112', '121', '13', '211', '22', '31']"
      ]
     },
     "execution_count": 40,
     "metadata": {},
     "output_type": "execute_result"
    }
   ],
   "source": [
    "def getStairPaths(n):\n",
    "    if n==0:\n",
    "        bres = []\n",
    "        bres.append(\"\")\n",
    "        return bres\n",
    "    elif n<0:\n",
    "        bres=[]\n",
    "        return bres\n",
    "    \n",
    "    p1= []\n",
    "    p2= []\n",
    "    p3= []\n",
    "    p1.extend(getStairPaths(n-1))\n",
    "    p2.extend(getStairPaths(n-2))\n",
    "    p3.extend(getStairPaths(n-3))\n",
    "    \n",
    "    paths = []\n",
    "    \n",
    "    for path in p1:\n",
    "        paths.append(str(1)+path)\n",
    "    for path in p2:\n",
    "        paths.append(str(2)+path)\n",
    "    for path in p3:\n",
    "        paths.append(str(3)+path)\n",
    "    return paths\n",
    "ans = getStairPaths(4)\n",
    "ans\n",
    "    \n",
    "    "
   ]
  },
  {
   "cell_type": "markdown",
   "id": "willing-beverage",
   "metadata": {},
   "source": [
    "## Print Stair Path"
   ]
  },
  {
   "cell_type": "code",
   "execution_count": 36,
   "id": "happy-fight",
   "metadata": {},
   "outputs": [
    {
     "name": "stdout",
     "output_type": "stream",
     "text": [
      "1111\n",
      "112\n",
      "121\n",
      "13\n",
      "211\n",
      "22\n",
      "31\n"
     ]
    }
   ],
   "source": [
    "def getStairPaths(n,path):\n",
    "    if n==0:\n",
    "        print(path)\n",
    "        return\n",
    "    elif n<0: \n",
    "        return\n",
    "    \n",
    "    getStairPaths(n-1,path+'1') #append it and print it in base condition\n",
    "    getStairPaths(n-2,path+'2') #append it and print it in base condition\n",
    "    getStairPaths(n-3,path+'3') #append it and print it in base condition\n",
    "getStairPaths(4,'')\n",
    "    \n",
    "    "
   ]
  },
  {
   "cell_type": "markdown",
   "id": "guided-calendar",
   "metadata": {},
   "source": [
    "## Get Maze Paths"
   ]
  },
  {
   "cell_type": "code",
   "execution_count": 44,
   "id": "infrared-binary",
   "metadata": {},
   "outputs": [
    {
     "data": {
      "text/plain": [
       "['hhvv', 'hvhv', 'hvvh', 'vhhv', 'vhvh', 'vvhh']"
      ]
     },
     "execution_count": 44,
     "metadata": {},
     "output_type": "execute_result"
    }
   ],
   "source": [
    "def getMazePaths(sr,sc,dr,dc):\n",
    "    #sr: start row\n",
    "    #sc: start col\n",
    "    #dr: destination row\n",
    "    #dc: destination col\n",
    "    \n",
    "    if sr==dr and sc==dc:\n",
    "        bres= []\n",
    "        bres.append(\"\")\n",
    "        return bres\n",
    "    hpaths = []\n",
    "    vpaths = []\n",
    "    if sc<dc:\n",
    "        #if we are in last column then we can only do vertical move\n",
    "        hpaths.extend(getMazePaths(sr,sc+1,dr,dc))\n",
    "    if sr<dr:\n",
    "        #if we are in last row then we can only do horizontal move\n",
    "        vpaths.extend(getMazePaths(sr+1,sc,dr,dc))\n",
    "    \n",
    "    paths = []\n",
    "    for path in hpaths:\n",
    "        paths.append('h'+path)\n",
    "    for path in vpaths:\n",
    "        paths.append('v'+path)\n",
    "    return paths\n",
    "ans=  getMazePaths(1,1,3,3)\n",
    "ans"
   ]
  },
  {
   "cell_type": "markdown",
   "id": "selected-referral",
   "metadata": {},
   "source": [
    "## Print Maze Paths"
   ]
  },
  {
   "cell_type": "code",
   "execution_count": 44,
   "id": "recognized-yacht",
   "metadata": {
    "scrolled": true
   },
   "outputs": [
    {
     "name": "stdout",
     "output_type": "stream",
     "text": [
      "hhvv\n",
      "hvhv\n",
      "hvvh\n",
      "vhhv\n",
      "vhvh\n",
      "vvhh\n",
      "**************************************************\n",
      "hhvv\n",
      "hvhv\n",
      "hvvh\n",
      "vhhv\n",
      "vhvh\n",
      "vvhh\n"
     ]
    }
   ],
   "source": [
    "#Smart Calls, Base Case Normal\n",
    "def printMazePaths(sr,sc,dr,dc,path):\n",
    "    if sr==dr and sc==dc:\n",
    "        print(path)\n",
    "        return\n",
    "    if sc<dc:\n",
    "        #if we are in last column then we can only do vertical move\n",
    "        #until sc<dc , keep moving along the columns(horizontal) else move in rows(vertical)\n",
    "        printMazePaths(sr,sc+1,dr,dc,path+'h')\n",
    "    if sr<dr:\n",
    "        \n",
    "        #if we are in last row then we can only do horizontal move\n",
    "        printMazePaths(sr+1,sc,dr,dc,path+'v')\n",
    "printMazePaths(1,1,3,3,'')\n",
    "\n",
    "print('*'*50)\n",
    "\n",
    "#Stupid Calls, Base Case Smart\n",
    "def printMazePaths(sr,sc,dr,dc,path):\n",
    "    if sr>dr or sc>dc: #Base case to terminate when row or cols goes beyond destination coords\n",
    "        return\n",
    "    if sr==dr and sc==dc:\n",
    "        print(path)\n",
    "        return    \n",
    "    printMazePaths(sr,sc+1,dr,dc,path+'h')\n",
    "    printMazePaths(sr+1,sc,dr,dc,path+'v')\n",
    "    \n",
    "printMazePaths(1,1,3,3,'')"
   ]
  },
  {
   "cell_type": "markdown",
   "id": "competent-version",
   "metadata": {},
   "source": [
    "## Get Maze Paths with Jumps"
   ]
  },
  {
   "cell_type": "code",
   "execution_count": 4,
   "id": "boxed-mobility",
   "metadata": {
    "scrolled": true
   },
   "outputs": [
    {
     "data": {
      "text/plain": [
       "['h1h1v1v1',\n",
       " 'h1h1v2v1',\n",
       " 'h1h1v2',\n",
       " 'h1v1h1v1',\n",
       " 'h1v1v1h1',\n",
       " 'h1v1d1',\n",
       " 'h1v2h1v1',\n",
       " 'h1v2v1h1',\n",
       " 'h1v2d1',\n",
       " 'h1v2h1',\n",
       " 'h1d1v1',\n",
       " 'h2h1v1v1',\n",
       " 'h2h1v2v1',\n",
       " 'h2h1v2',\n",
       " 'h2v1h1v1',\n",
       " 'h2v1v1h1',\n",
       " 'h2v1d1',\n",
       " 'h2v2h1v1',\n",
       " 'h2v2v1h1',\n",
       " 'h2v2d1',\n",
       " 'h2v2h1',\n",
       " 'h2d1v1',\n",
       " 'h2v1v1',\n",
       " 'h2v2v1',\n",
       " 'h2v2',\n",
       " 'v1h1h1v1',\n",
       " 'v1h1v1h1',\n",
       " 'v1h1d1',\n",
       " 'v1h2h1v1',\n",
       " 'v1h2v1h1',\n",
       " 'v1h2d1',\n",
       " 'v1h2v1',\n",
       " 'v1v1h1h1',\n",
       " 'v1v1h2h1',\n",
       " 'v1v1h2',\n",
       " 'v1d1h1',\n",
       " 'v2h1h1v1',\n",
       " 'v2h1v1h1',\n",
       " 'v2h1d1',\n",
       " 'v2h2h1v1',\n",
       " 'v2h2v1h1',\n",
       " 'v2h2d1',\n",
       " 'v2h2v1',\n",
       " 'v2v1h1h1',\n",
       " 'v2v1h2h1',\n",
       " 'v2v1h2',\n",
       " 'v2d1h1',\n",
       " 'v2h1h1',\n",
       " 'v2h2h1',\n",
       " 'v2h2',\n",
       " 'd1h1v1',\n",
       " 'd1v1h1',\n",
       " 'd1d1',\n",
       " 'd2h1v1',\n",
       " 'd2v1h1',\n",
       " 'd2d1',\n",
       " 'd2']"
      ]
     },
     "execution_count": 4,
     "metadata": {},
     "output_type": "execute_result"
    }
   ],
   "source": [
    "def getMazePathswithJumps(sr,sc,dr,dc):\n",
    "    if sr==dr and sc==dc:\n",
    "        bres= []\n",
    "        bres.append(\"\")\n",
    "        return bres\n",
    "    paths = []\n",
    "    \n",
    "    #horizontal moves\n",
    "    hpaths = []\n",
    "    for ms in range(1,dc-sc+1): #Gap decides the jump size\n",
    "        hpaths.extend(getMazePathswithJumps(sr,sc+ms,dr,dc)) #Faith\n",
    "        for path in hpaths:\n",
    "            paths.append(\"h\"+str(ms)+path) #ms will give the 1,2,3 size jumps\n",
    "            \n",
    "    #vertical moves\n",
    "    vpaths = []\n",
    "    for ms in range(1,dr-sr+1): #Gap decides the jump size\n",
    "        vpaths.extend(getMazePathswithJumps(sr+ms,sc,dr,dc)) #Faith\n",
    "        for path in vpaths:\n",
    "            paths.append(\"v\"+str(ms)+path) #ms will give the 1,2,3 size jumps\n",
    "    \n",
    "    #diagonal moves\n",
    "    dpaths = []\n",
    "    ms=1\n",
    "    while ms<=(dc-sc) and ms<=(dr-sr): #this has to satisfy both conditions , so use while loop\n",
    "        dpaths.extend(getMazePathswithJumps(sr+ms,sc+ms,dr,dc)) #incr both when move in diagonal --  #Faith\n",
    "        for path in dpaths:\n",
    "            paths.append(\"d\"+str(ms)+path) #ms will give the 1,2,3 size jumps\n",
    "        ms+=1\n",
    "    return paths\n",
    "            \n",
    "ans = getMazePathswithJumps(1,1,3,3)\n",
    "ans       \n",
    "        "
   ]
  },
  {
   "cell_type": "markdown",
   "id": "romance-walter",
   "metadata": {},
   "source": [
    "## Print Maze Paths with Jumps"
   ]
  },
  {
   "cell_type": "code",
   "execution_count": 47,
   "id": "powered-frank",
   "metadata": {
    "scrolled": true
   },
   "outputs": [
    {
     "name": "stdout",
     "output_type": "stream",
     "text": [
      "h1h1v1v1\n",
      "h1h1v2\n",
      "h1v1h1v1\n",
      "h1v1v1h1\n",
      "h1v1d1\n",
      "h1v2h1\n",
      "h1d1v1\n",
      "h2v1v1\n",
      "h2v2\n",
      "v1h1h1v1\n",
      "v1h1v1h1\n",
      "v1h1d1\n",
      "v1h2v1\n",
      "v1v1h1h1\n",
      "v1v1h2\n",
      "v1d1h1\n",
      "v2h1h1\n",
      "v2h2\n",
      "d1h1v1\n",
      "d1v1h1\n",
      "d1d1\n",
      "d2\n"
     ]
    }
   ],
   "source": [
    "def printMazePathswithJumps(sr,sc,dr,dc,path):\n",
    "    if sr==dr and sc==dc:\n",
    "        print(path)\n",
    "        return\n",
    "    \n",
    "    for ms in range(1,dc-sc+1): #Gap decides the jump size\n",
    "        printMazePathswithJumps(sr,sc+ms,dr,dc,path+'h'+str(ms)) #incr col when move horizontal\n",
    "    for ms in range(1,dr-sr+1): #Gap decides the jump size\n",
    "        printMazePathswithJumps(sr+ms,sc,dr,dc,path+'v'+str(ms)) #incr row when move vertical\n",
    "        \n",
    "    ms=1\n",
    "    while ms<=(dc-sc) and ms<=(dr-sr): #this has to satisfy both conditions , so use while loop\n",
    "        printMazePathswithJumps(sr+ms,sc+ms,dr,dc,path+'d'+str(ms))#incr both when move in diagonal \n",
    "        ms+=1\n",
    "printMazePathswithJumps(1,1,3,3,'')"
   ]
  },
  {
   "cell_type": "markdown",
   "id": "finnish-density",
   "metadata": {},
   "source": [
    "## Print Permutations of a String"
   ]
  },
  {
   "cell_type": "code",
   "execution_count": 49,
   "id": "right-nickel",
   "metadata": {},
   "outputs": [
    {
     "name": "stdout",
     "output_type": "stream",
     "text": [
      "abc\n",
      "acb\n",
      "bac\n",
      "bca\n",
      "cab\n",
      "cba\n"
     ]
    }
   ],
   "source": [
    "def printPermutation(ques,ans):\n",
    "    if len(ques)==0:\n",
    "        print(ans)\n",
    "        return\n",
    "    \n",
    "    for i in range(len(ques)):\n",
    "        #abcdef  #see explanation in copy\n",
    "        ch = ques[i] #say when i=2, ch = c\n",
    "        qlpart = ques[:i] # ab\n",
    "        rlpart = ques[i+1:] # def\n",
    "        roq = qlpart + rlpart #abdef\n",
    "        printPermutation(roq,ans+ch)\n",
    "        \n",
    "printPermutation('abc','')    "
   ]
  },
  {
   "cell_type": "markdown",
   "id": "committed-authorization",
   "metadata": {},
   "source": [
    "## Print Encodings"
   ]
  },
  {
   "cell_type": "code",
   "execution_count": 1,
   "id": "mighty-matrix",
   "metadata": {},
   "outputs": [
    {
     "name": "stdout",
     "output_type": "stream",
     "text": [
      "c\n",
      "97\n",
      "c\n"
     ]
    }
   ],
   "source": [
    "#Things to remember\n",
    "print(chr(99))\n",
    "print(ord('a'))\n",
    "print(chr(ord('a')+3-1))"
   ]
  },
  {
   "cell_type": "code",
   "execution_count": 13,
   "id": "victorian-laugh",
   "metadata": {},
   "outputs": [
    {
     "name": "stdout",
     "output_type": "stream",
     "text": [
      "abc\n",
      "aw\n",
      "lc\n"
     ]
    }
   ],
   "source": [
    "def printEncodings(ques,ans):\n",
    "    if len(ques) == 0:\n",
    "        print(ans)\n",
    "        return\n",
    "    elif len(ques) == 1:\n",
    "        ch = ques[0]\n",
    "        if ch == '0':\n",
    "            return\n",
    "        else:\n",
    "            chv = ord(ch) - ord('0') #String to integer #say ch = 3\n",
    "            code = chr(ord('a')+chv-1) #code = c since  Encoding :  3--> c\n",
    "            ans = ans+code\n",
    "            print(ans)\n",
    "    else:\n",
    "        ch = ques[0] #extract first character\n",
    "        roq = ques[1:]# rest of string\n",
    "        if ch == '0':\n",
    "            return\n",
    "        else:\n",
    "            chv = ord(ch) - ord('0') #String to integer #say ch = 12\n",
    "            code = chr(ord('a')+chv-1) #code = l since  Encoding :  12 --> l\n",
    "            printEncodings(roq,ans+code)\n",
    "            \n",
    "        ch12 = ques[:2] #extract first 2 characters\n",
    "        ch12v = int(ch12)\n",
    "        roq = ques[2:] #rest of string\n",
    "        if ch12v <=26: #ch12v in range of 1 to 26\n",
    "            code = chr(ord('a')+ch12v-1) \n",
    "            printEncodings(roq,ans+code)\n",
    "            \n",
    "            \n",
    "printEncodings('123','')     "
   ]
  },
  {
   "cell_type": "markdown",
   "id": "surprising-contrary",
   "metadata": {},
   "source": [
    "## Rat in Maze"
   ]
  },
  {
   "cell_type": "code",
   "execution_count": 10,
   "id": "rubber-affect",
   "metadata": {},
   "outputs": [
    {
     "name": "stdout",
     "output_type": "stream",
     "text": [
      "Enter rows: 4\n",
      "Enter cols: 3\n",
      "0\n",
      "1\n",
      "1\n",
      "0\n",
      "0\n",
      "1\n",
      "1\n",
      "0\n",
      "0\n",
      "0\n",
      "1\n",
      "0\n",
      "drdrd\n"
     ]
    }
   ],
   "source": [
    "def ratinmaze(maze,row,col,path,visited):\n",
    "    '''NEGATIVE BASE CASE'''\n",
    "    #You are out of board\n",
    "    #write the obstruction case at last so that it returns already if it is not on board\n",
    "    #and then checks if onboard but there is obstruction\n",
    "    #then then whether it was already visited or not\n",
    "    if row<0 or col<0 or row==len(maze) or col==len(maze[0]) or maze[row][col]==1 or visited[row][col] == True:\n",
    "        return\n",
    "    \n",
    "    '''POSITIVE BASE CASE'''\n",
    "    #You have reached destination\n",
    "    if row==len(maze)-1 and col == len(maze[0])-1:\n",
    "        print(path)\n",
    "        return\n",
    "    \n",
    "    #Before doing top/left/down/top, mark the current cell as visited\n",
    "    visited[row][col] = True\n",
    "    \n",
    "    #Options\n",
    "    ratinmaze(maze,row-1,col,path+'t',visited)\n",
    "    ratinmaze(maze,row,col-1,path+'l',visited)\n",
    "    ratinmaze(maze,row+1,col,path+'d',visited)\n",
    "    ratinmaze(maze,row,col+1,path+'r',visited)\n",
    "    \n",
    "    #We have to again mark it as False else you wont be able to visit other paths, since it will be marked as  \n",
    "    #visited during first path\n",
    "    #so this backtracking is necessary to freshly explore new paths\n",
    "    visited[row][col] = False\n",
    "    \n",
    "    \n",
    "    \n",
    "R = int(input('Enter rows: '))\n",
    "C = int(input('Enter cols: '))\n",
    "# one-liner logic to take input for rows and columns \n",
    "maze = [[int(input()) for x in range (C)] for y in range(R)]\n",
    "\n",
    "visited = [[False]*C for _ in range(R)]\n",
    "ratinmaze(maze,0,0,'',visited)"
   ]
  },
  {
   "cell_type": "markdown",
   "id": "congressional-protection",
   "metadata": {},
   "source": [
    "## Target Sum Subsets"
   ]
  },
  {
   "cell_type": "code",
   "execution_count": 14,
   "id": "alert-recorder",
   "metadata": {},
   "outputs": [
    {
     "name": "stdout",
     "output_type": "stream",
     "text": [
      "10,20,40,.\n",
      "20,50,.\n",
      "30,40,.\n"
     ]
    }
   ],
   "source": [
    "def targetSumSubsets(arr,idx,subset,sos, tar):\n",
    "    #sos : sum of subset\n",
    "    #tar : target\n",
    "    if sos>tar:\n",
    "        return\n",
    "    if idx == len(arr):\n",
    "        if sos == tar:\n",
    "            print(subset+'.')\n",
    "        return\n",
    "    \n",
    "    #Stupid Calls , but smart base case\n",
    "    targetSumSubsets(arr,idx+1,subset+str(arr[idx])+',',sos+arr[idx], tar) #when element is included in subset\n",
    "    targetSumSubsets(arr,idx+1,subset,sos, tar) #when element is not included in subset\n",
    "    \n",
    "    \n",
    "arr = [10,20,30,40,50]\n",
    "tar = 70\n",
    "targetSumSubsets(arr,0,'',0,tar)"
   ]
  },
  {
   "cell_type": "markdown",
   "id": "positive-reset",
   "metadata": {},
   "source": [
    "## N Queens using Recursion and Backtracking"
   ]
  },
  {
   "cell_type": "code",
   "execution_count": 7,
   "id": "killing-usage",
   "metadata": {},
   "outputs": [
    {
     "name": "stdout",
     "output_type": "stream",
     "text": [
      "i: 4 j: 5\n",
      "i: 6 j: 7\n"
     ]
    }
   ],
   "source": [
    "for i, j in zip(range(4,7,2), range(5,8,2)):\n",
    "    print('i:', i, 'j:', j)"
   ]
  },
  {
   "cell_type": "code",
   "execution_count": 29,
   "id": "tribal-accent",
   "metadata": {},
   "outputs": [
    {
     "name": "stdout",
     "output_type": "stream",
     "text": [
      "Enter the number of queens\n",
      "4\n",
      "0-1,1-3,2-0,3-2,.\n",
      "0 1 0 0 \n",
      "0 0 0 1 \n",
      "1 0 0 0 \n",
      "0 0 1 0 \n",
      "\n",
      "0-2,1-0,2-3,3-1,.\n",
      "0 0 1 0 \n",
      "1 0 0 0 \n",
      "0 0 0 1 \n",
      "0 1 0 0 \n",
      "\n"
     ]
    }
   ],
   "source": [
    "def displayBoard(chess):\n",
    "    for i in range(len(chess)):\n",
    "        for j in range(len(chess[0])):\n",
    "            print(chess[i][j],end=' ')\n",
    "        print()\n",
    "    print()\n",
    "    \n",
    "def isSafe(chess,row,col):\n",
    "    #Top Vertical check\n",
    "    for i in range(row-1,-1,-1):\n",
    "        j=col\n",
    "        if chess[i][j]==1: #not safe queen=1 present\n",
    "            return False\n",
    "        \n",
    "    #Left Diagonal Check   \n",
    "    for i, j in zip(range(row-1,-1,-1), range(col-1,-1,-1)):\n",
    "        if chess[i][j]==1: #not safe queen=1 present\n",
    "            return False\n",
    "        \n",
    "    #Right Diagonal Check   \n",
    "    for i, j in zip(range(row-1,-1,-1), range(col+1,len(chess))):\n",
    "        if chess[i][j]==1: #not safe queen=1 present\n",
    "            return False\n",
    "    return True\n",
    "        \n",
    "def printnqueens(chess,qsf,row):\n",
    "    if row==len(chess):\n",
    "        print(qsf+'.')\n",
    "        displayBoard(chess)\n",
    "        return\n",
    "    \n",
    "    for col in range(len(chess)):\n",
    "        if isSafe(chess,row,col):            \n",
    "            chess[row][col] = 1\n",
    "            printnqueens(chess,qsf+str(row)+'-'+str(col)+',',row+1)\n",
    "            chess[row][col] = 0 #Backtrack and make that path as 0\n",
    "    \n",
    "\n",
    "    \n",
    "    \n",
    "print (\"Enter the number of queens\")\n",
    "N = int(input())\n",
    "#chessboard\n",
    "#NxN matrix with all elements 0\n",
    "#example for N=4 : board = [[0, 0, 0, 0], [0, 0, 0, 0], [0, 0, 0, 0], [0, 0, 0, 0]]\n",
    "chess = [[0]*N for _ in range(N)]\n",
    "\n",
    "printnqueens(chess,\"\",0)    "
   ]
  },
  {
   "cell_type": "markdown",
   "id": "closing-cannon",
   "metadata": {},
   "source": [
    "## Knights Tour"
   ]
  },
  {
   "cell_type": "code",
   "execution_count": 28,
   "id": "sought-milton",
   "metadata": {
    "scrolled": true
   },
   "outputs": [
    {
     "name": "stdout",
     "output_type": "stream",
     "text": [
      "Enter the size: \n",
      "5\n",
      "2\n",
      "2\n",
      "21 12 7 2 19 \n",
      "6 17 20 13 8 \n",
      "11 22 1 18 3 \n",
      "16 5 24 9 14 \n",
      "23 10 15 4 25 \n",
      "\n",
      "23 12 7 2 25 \n",
      "6 17 24 13 8 \n",
      "11 22 1 18 3 \n",
      "16 5 20 9 14 \n",
      "21 10 15 4 19 \n",
      "\n",
      "23 12 7 2 21 \n",
      "6 17 22 13 8 \n",
      "11 24 1 20 3 \n",
      "16 5 18 9 14 \n",
      "25 10 15 4 19 \n",
      "\n",
      "21 12 7 2 23 \n",
      "6 17 22 13 8 \n",
      "11 20 1 24 3 \n",
      "16 5 18 9 14 \n",
      "19 10 15 4 25 \n",
      "\n",
      "23 8 13 2 21 \n",
      "14 3 22 7 12 \n",
      "9 24 1 20 17 \n",
      "4 15 18 11 6 \n",
      "25 10 5 16 19 \n",
      "\n",
      "21 8 13 2 23 \n",
      "14 3 22 7 12 \n",
      "9 20 1 24 17 \n",
      "4 15 18 11 6 \n",
      "19 10 5 16 25 \n",
      "\n",
      "25 8 13 2 19 \n",
      "14 3 18 7 12 \n",
      "9 24 1 20 17 \n",
      "4 15 22 11 6 \n",
      "23 10 5 16 21 \n",
      "\n",
      "19 8 13 2 25 \n",
      "14 3 18 7 12 \n",
      "9 20 1 24 17 \n",
      "4 15 22 11 6 \n",
      "21 10 5 16 23 \n",
      "\n",
      "21 6 17 12 19 \n",
      "16 11 20 7 2 \n",
      "5 22 1 18 13 \n",
      "10 15 24 3 8 \n",
      "23 4 9 14 25 \n",
      "\n",
      "23 6 17 12 25 \n",
      "16 11 24 7 2 \n",
      "5 22 1 18 13 \n",
      "10 15 20 3 8 \n",
      "21 4 9 14 19 \n",
      "\n",
      "25 6 17 12 23 \n",
      "16 11 24 7 2 \n",
      "5 18 1 22 13 \n",
      "10 15 20 3 8 \n",
      "19 4 9 14 21 \n",
      "\n",
      "19 6 17 12 21 \n",
      "16 11 20 7 2 \n",
      "5 18 1 22 13 \n",
      "10 15 24 3 8 \n",
      "25 4 9 14 23 \n",
      "\n",
      "25 14 3 8 23 \n",
      "4 9 24 13 2 \n",
      "15 18 1 22 7 \n",
      "10 5 20 17 12 \n",
      "19 16 11 6 21 \n",
      "\n",
      "19 14 3 8 21 \n",
      "4 9 20 13 2 \n",
      "15 18 1 22 7 \n",
      "10 5 24 17 12 \n",
      "25 16 11 6 23 \n",
      "\n",
      "25 14 3 8 19 \n",
      "4 9 18 13 2 \n",
      "15 24 1 20 7 \n",
      "10 5 22 17 12 \n",
      "23 16 11 6 21 \n",
      "\n",
      "19 14 3 8 25 \n",
      "4 9 18 13 2 \n",
      "15 20 1 24 7 \n",
      "10 5 22 17 12 \n",
      "21 16 11 6 23 \n",
      "\n",
      "23 16 11 6 21 \n",
      "10 5 22 17 12 \n",
      "15 24 1 20 7 \n",
      "4 9 18 13 2 \n",
      "25 14 3 8 19 \n",
      "\n",
      "21 16 11 6 23 \n",
      "10 5 22 17 12 \n",
      "15 20 1 24 7 \n",
      "4 9 18 13 2 \n",
      "19 14 3 8 25 \n",
      "\n",
      "25 16 11 6 23 \n",
      "10 5 24 17 12 \n",
      "15 18 1 22 7 \n",
      "4 9 20 13 2 \n",
      "19 14 3 8 21 \n",
      "\n",
      "19 16 11 6 21 \n",
      "10 5 20 17 12 \n",
      "15 18 1 22 7 \n",
      "4 9 24 13 2 \n",
      "25 14 3 8 23 \n",
      "\n",
      "21 4 9 14 19 \n",
      "10 15 20 3 8 \n",
      "5 22 1 18 13 \n",
      "16 11 24 7 2 \n",
      "23 6 17 12 25 \n",
      "\n",
      "23 4 9 14 25 \n",
      "10 15 24 3 8 \n",
      "5 22 1 18 13 \n",
      "16 11 20 7 2 \n",
      "21 6 17 12 19 \n",
      "\n",
      "25 4 9 14 23 \n",
      "10 15 24 3 8 \n",
      "5 18 1 22 13 \n",
      "16 11 20 7 2 \n",
      "19 6 17 12 21 \n",
      "\n",
      "19 4 9 14 21 \n",
      "10 15 20 3 8 \n",
      "5 18 1 22 13 \n",
      "16 11 24 7 2 \n",
      "25 6 17 12 23 \n",
      "\n",
      "25 10 15 4 19 \n",
      "16 5 18 9 14 \n",
      "11 24 1 20 3 \n",
      "6 17 22 13 8 \n",
      "23 12 7 2 21 \n",
      "\n",
      "19 10 15 4 25 \n",
      "16 5 18 9 14 \n",
      "11 20 1 24 3 \n",
      "6 17 22 13 8 \n",
      "21 12 7 2 23 \n",
      "\n",
      "21 10 15 4 19 \n",
      "16 5 20 9 14 \n",
      "11 22 1 18 3 \n",
      "6 17 24 13 8 \n",
      "23 12 7 2 25 \n",
      "\n",
      "23 10 15 4 25 \n",
      "16 5 24 9 14 \n",
      "11 22 1 18 3 \n",
      "6 17 20 13 8 \n",
      "21 12 7 2 19 \n",
      "\n",
      "23 10 5 16 21 \n",
      "4 15 22 11 6 \n",
      "9 24 1 20 17 \n",
      "14 3 18 7 12 \n",
      "25 8 13 2 19 \n",
      "\n",
      "21 10 5 16 23 \n",
      "4 15 22 11 6 \n",
      "9 20 1 24 17 \n",
      "14 3 18 7 12 \n",
      "19 8 13 2 25 \n",
      "\n",
      "25 10 5 16 19 \n",
      "4 15 18 11 6 \n",
      "9 24 1 20 17 \n",
      "14 3 22 7 12 \n",
      "23 8 13 2 21 \n",
      "\n",
      "19 10 5 16 25 \n",
      "4 15 18 11 6 \n",
      "9 20 1 24 17 \n",
      "14 3 22 7 12 \n",
      "21 8 13 2 23 \n",
      "\n",
      "25 16 5 10 19 \n",
      "6 11 18 15 4 \n",
      "17 24 1 20 9 \n",
      "12 7 22 3 14 \n",
      "23 2 13 8 21 \n",
      "\n",
      "19 16 5 10 25 \n",
      "6 11 18 15 4 \n",
      "17 20 1 24 9 \n",
      "12 7 22 3 14 \n",
      "21 2 13 8 23 \n",
      "\n",
      "23 16 5 10 21 \n",
      "6 11 22 15 4 \n",
      "17 24 1 20 9 \n",
      "12 7 18 3 14 \n",
      "25 2 13 8 19 \n",
      "\n",
      "21 16 5 10 23 \n",
      "6 11 22 15 4 \n",
      "17 20 1 24 9 \n",
      "12 7 18 3 14 \n",
      "19 2 13 8 25 \n",
      "\n",
      "25 4 15 10 23 \n",
      "14 9 24 5 16 \n",
      "3 18 1 22 11 \n",
      "8 13 20 17 6 \n",
      "19 2 7 12 21 \n",
      "\n",
      "19 4 15 10 21 \n",
      "14 9 20 5 16 \n",
      "3 18 1 22 11 \n",
      "8 13 24 17 6 \n",
      "25 2 7 12 23 \n",
      "\n",
      "25 4 15 10 19 \n",
      "14 9 18 5 16 \n",
      "3 24 1 20 11 \n",
      "8 13 22 17 6 \n",
      "23 2 7 12 21 \n",
      "\n",
      "19 4 15 10 25 \n",
      "14 9 18 5 16 \n",
      "3 20 1 24 11 \n",
      "8 13 22 17 6 \n",
      "21 2 7 12 23 \n",
      "\n",
      "21 14 9 4 19 \n",
      "8 3 20 15 10 \n",
      "13 22 1 18 5 \n",
      "2 7 24 11 16 \n",
      "23 12 17 6 25 \n",
      "\n",
      "23 14 9 4 25 \n",
      "8 3 24 15 10 \n",
      "13 22 1 18 5 \n",
      "2 7 20 11 16 \n",
      "21 12 17 6 19 \n",
      "\n",
      "25 14 9 4 23 \n",
      "8 3 24 15 10 \n",
      "13 18 1 22 5 \n",
      "2 7 20 11 16 \n",
      "19 12 17 6 21 \n",
      "\n",
      "19 14 9 4 21 \n",
      "8 3 20 15 10 \n",
      "13 18 1 22 5 \n",
      "2 7 24 11 16 \n",
      "25 12 17 6 23 \n",
      "\n",
      "21 6 11 16 19 \n",
      "12 17 20 5 10 \n",
      "7 22 1 18 15 \n",
      "2 13 24 9 4 \n",
      "23 8 3 14 25 \n",
      "\n",
      "23 6 11 16 25 \n",
      "12 17 24 5 10 \n",
      "7 22 1 18 15 \n",
      "2 13 20 9 4 \n",
      "21 8 3 14 19 \n",
      "\n",
      "23 6 11 16 21 \n",
      "12 17 22 5 10 \n",
      "7 24 1 20 15 \n",
      "2 13 18 9 4 \n",
      "25 8 3 14 19 \n",
      "\n",
      "21 6 11 16 23 \n",
      "12 17 22 5 10 \n",
      "7 20 1 24 15 \n",
      "2 13 18 9 4 \n",
      "19 8 3 14 25 \n",
      "\n",
      "25 8 3 14 19 \n",
      "2 13 18 9 4 \n",
      "7 24 1 20 15 \n",
      "12 17 22 5 10 \n",
      "23 6 11 16 21 \n",
      "\n",
      "19 8 3 14 25 \n",
      "2 13 18 9 4 \n",
      "7 20 1 24 15 \n",
      "12 17 22 5 10 \n",
      "21 6 11 16 23 \n",
      "\n",
      "21 8 3 14 19 \n",
      "2 13 20 9 4 \n",
      "7 22 1 18 15 \n",
      "12 17 24 5 10 \n",
      "23 6 11 16 25 \n",
      "\n",
      "23 8 3 14 25 \n",
      "2 13 24 9 4 \n",
      "7 22 1 18 15 \n",
      "12 17 20 5 10 \n",
      "21 6 11 16 19 \n",
      "\n",
      "21 12 17 6 19 \n",
      "2 7 20 11 16 \n",
      "13 22 1 18 5 \n",
      "8 3 24 15 10 \n",
      "23 14 9 4 25 \n",
      "\n",
      "23 12 17 6 25 \n",
      "2 7 24 11 16 \n",
      "13 22 1 18 5 \n",
      "8 3 20 15 10 \n",
      "21 14 9 4 19 \n",
      "\n",
      "25 12 17 6 23 \n",
      "2 7 24 11 16 \n",
      "13 18 1 22 5 \n",
      "8 3 20 15 10 \n",
      "19 14 9 4 21 \n",
      "\n",
      "19 12 17 6 21 \n",
      "2 7 20 11 16 \n",
      "13 18 1 22 5 \n",
      "8 3 24 15 10 \n",
      "25 14 9 4 23 \n",
      "\n",
      "25 2 13 8 19 \n",
      "12 7 18 3 14 \n",
      "17 24 1 20 9 \n",
      "6 11 22 15 4 \n",
      "23 16 5 10 21 \n",
      "\n",
      "19 2 13 8 25 \n",
      "12 7 18 3 14 \n",
      "17 20 1 24 9 \n",
      "6 11 22 15 4 \n",
      "21 16 5 10 23 \n",
      "\n",
      "23 2 13 8 21 \n",
      "12 7 22 3 14 \n",
      "17 24 1 20 9 \n",
      "6 11 18 15 4 \n",
      "25 16 5 10 19 \n",
      "\n",
      "21 2 13 8 23 \n",
      "12 7 22 3 14 \n",
      "17 20 1 24 9 \n",
      "6 11 18 15 4 \n",
      "19 16 5 10 25 \n",
      "\n",
      "23 2 7 12 21 \n",
      "8 13 22 17 6 \n",
      "3 24 1 20 11 \n",
      "14 9 18 5 16 \n",
      "25 4 15 10 19 \n",
      "\n",
      "21 2 7 12 23 \n",
      "8 13 22 17 6 \n",
      "3 20 1 24 11 \n",
      "14 9 18 5 16 \n",
      "19 4 15 10 25 \n",
      "\n",
      "25 2 7 12 23 \n",
      "8 13 24 17 6 \n",
      "3 18 1 22 11 \n",
      "14 9 20 5 16 \n",
      "19 4 15 10 21 \n",
      "\n",
      "19 2 7 12 21 \n",
      "8 13 20 17 6 \n",
      "3 18 1 22 11 \n",
      "14 9 24 5 16 \n",
      "25 4 15 10 23 \n",
      "\n"
     ]
    }
   ],
   "source": [
    "def displayBoard(chess):\n",
    "    for i in range(len(chess)):\n",
    "        for j in range(len(chess[0])):\n",
    "            print(chess[i][j],end=' ')\n",
    "        print()\n",
    "    print()\n",
    "def printKnightsTour(chess,r,c,move):\n",
    "    #knight can move out of board for 2 moves too\n",
    "    #negative base cases\n",
    "    #chess[r][c]>0 check if the cell is occupied with some number greater than 0\n",
    "    if r<0 or c<0 or r>=len(chess) or c>=len(chess) or chess[r][c]>0:\n",
    "        return\n",
    "    #we are doing this step since 1st move was already given, so we have to put the last move\n",
    "    elif move == len(chess)*len(chess): #eg. for 5x5 chess board, we have to move 25 boxes\n",
    "        chess[r][c] = move #25th box on 25th move \n",
    "        displayBoard(chess)\n",
    "        chess[r][c] = 0 #Backtrack for 25th move as well\n",
    "        return\n",
    "    #move:tracks the number of times we visited the cell\n",
    "    #put your move and then call\n",
    "    chess[r][c] = move\n",
    "    #Options\n",
    "    printKnightsTour(chess,r-2,c+1,move+1)\n",
    "    printKnightsTour(chess,r-1,c+2,move+1)\n",
    "    printKnightsTour(chess,r+1,c+2,move+1)\n",
    "    printKnightsTour(chess,r+2,c+1,move+1)\n",
    "    printKnightsTour(chess,r+2,c-1,move+1)\n",
    "    printKnightsTour(chess,r+1,c-2,move+1)\n",
    "    printKnightsTour(chess,r-1,c-2,move+1)\n",
    "    printKnightsTour(chess,r-2,c-1,move+1)\n",
    "    \n",
    "    #Backtracking\n",
    "    chess[r][c] = 0\n",
    "    \n",
    "    \n",
    "    \n",
    "print (\"Enter the size: \")\n",
    "N = int(input())\n",
    "#chessboard\n",
    "#NxN matrix with all elements 0\n",
    "#example for N=4 : board = [[0, 0, 0, 0], [0, 0, 0, 0], [0, 0, 0, 0], [0, 0, 0, 0]]\n",
    "chess = [[0]*N for _ in range(N)]\n",
    "r = int(input())\n",
    "c = int(input())\n",
    "printKnightsTour(chess,r,c,1)      "
   ]
  }
 ],
 "metadata": {
  "kernelspec": {
   "display_name": "Python 3",
   "language": "python",
   "name": "python3"
  },
  "language_info": {
   "codemirror_mode": {
    "name": "ipython",
    "version": 3
   },
   "file_extension": ".py",
   "mimetype": "text/x-python",
   "name": "python",
   "nbconvert_exporter": "python",
   "pygments_lexer": "ipython3",
   "version": "3.7.4"
  }
 },
 "nbformat": 4,
 "nbformat_minor": 5
}
