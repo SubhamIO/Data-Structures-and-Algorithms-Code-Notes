{
 "cells": [
  {
   "cell_type": "markdown",
   "id": "ongoing-negative",
   "metadata": {},
   "source": [
    "## Print Abbreviations"
   ]
  },
  {
   "cell_type": "code",
   "execution_count": 4,
   "id": "stylish-airfare",
   "metadata": {},
   "outputs": [
    {
     "name": "stdout",
     "output_type": "stream",
     "text": [
      "pep\n",
      "pe1\n",
      "p1p\n",
      "p2\n",
      "1ep\n",
      "1e1\n",
      "2p\n",
      "3\n"
     ]
    }
   ],
   "source": [
    "def printAbbreviation(string,ans,count,position):\n",
    "    #Base Case\n",
    "    if position == len(string):\n",
    "        if count == 0:\n",
    "            print(ans)\n",
    "        else:\n",
    "            print(ans+str(count))\n",
    "        return\n",
    "    #YES Call\n",
    "    if count>0:\n",
    "        printAbbreviation(string,ans+str(count)+string[position],0,position+1)\n",
    "    else:\n",
    "        printAbbreviation(string,ans+string[position],0,position+1)\n",
    "    \n",
    "    #NO Call\n",
    "    printAbbreviation(string,ans,count+1,position+1)\n",
    "    \n",
    "    \n",
    "string = 'pep'    \n",
    "printAbbreviation(string,'',0,0)    "
   ]
  },
  {
   "cell_type": "markdown",
   "id": "cleared-clark",
   "metadata": {},
   "source": [
    "## N Queen's - Branch and Bound"
   ]
  },
  {
   "cell_type": "code",
   "execution_count": 17,
   "id": "marked-portuguese",
   "metadata": {},
   "outputs": [
    {
     "name": "stdout",
     "output_type": "stream",
     "text": [
      "4\n",
      "0-1,1-3,2-0,3-2,.\n",
      "0 1 0 0 \n",
      "0 0 0 1 \n",
      "1 0 0 0 \n",
      "0 0 1 0 \n",
      "\n",
      "0-2,1-0,2-3,3-1,.\n",
      "0 0 1 0 \n",
      "1 0 0 0 \n",
      "0 0 0 1 \n",
      "0 1 0 0 \n",
      "\n"
     ]
    }
   ],
   "source": [
    "def displayBoard(chess):\n",
    "    for i in range(len(chess)):\n",
    "        for j in range(len(chess[0])):\n",
    "            print(chess[i][j],end=' ')\n",
    "        print()\n",
    "    print()\n",
    "    \n",
    "def solve(board,row,cols,ndiag,rdiag,asf):\n",
    "    #Base cond\n",
    "    if row==len(board):\n",
    "        print(asf+'.')\n",
    "        displayBoard(board)\n",
    "        return\n",
    "    \n",
    "    for col in range(len(board[0])): #Loop in columns\n",
    "        if cols[col]==False and ndiag[row+col]==False and rdiag[row-col+len(board)-1]==False:\n",
    "            board[row][col] = 1\n",
    "            cols[col] = True\n",
    "            ndiag[row+col]=True\n",
    "            rdiag[row-col+len(board)-1]=True\n",
    "            \n",
    "            solve(board,row+1,cols,ndiag,rdiag,asf+str(row)+'-'+str(col)+',')\n",
    "            \n",
    "            board[row][col] = 0 #Backtrack and make that path as 0\n",
    "            cols[col] = False\n",
    "            ndiag[row+col]=False\n",
    "            rdiag[row-col+len(board)-1]=False\n",
    "            \n",
    "\n",
    "n = int(input())\n",
    "board = [[0]*n for _ in range(n)]\n",
    "cols = [False]*n\n",
    "ndiag = [False]*(2*n-1)\n",
    "rdiag = [False]*(2*n-1)\n",
    "\n",
    "solve(board,0,cols,ndiag,rdiag,\"\")"
   ]
  },
  {
   "cell_type": "markdown",
   "id": "separated-functionality",
   "metadata": {},
   "source": [
    "## Leetcode Accepted Solution - N Queens -Branch and Bound"
   ]
  },
  {
   "cell_type": "code",
   "execution_count": 35,
   "id": "attractive-ecuador",
   "metadata": {},
   "outputs": [
    {
     "name": "stdout",
     "output_type": "stream",
     "text": [
      "4\n"
     ]
    },
    {
     "data": {
      "text/plain": [
       "2"
      ]
     },
     "execution_count": 35,
     "metadata": {},
     "output_type": "execute_result"
    }
   ],
   "source": [
    "def insertBoard(board):\n",
    "        new_board = []\n",
    "        for i in board:\n",
    "            new_board.append(\"\".join(i))\n",
    "        \n",
    "        ans.append(new_board)\n",
    "    \n",
    "def solve(board,row,cols,ndiag,rdiag,asf):\n",
    "    #Base cond\n",
    "    if row==len(board):\n",
    "        \n",
    "        insertBoard(board)\n",
    "        return \n",
    "    \n",
    "    for col in range(len(board[0])): #Loop in columns\n",
    "        if cols[col]==False and ndiag[row+col]==False and rdiag[row-col+len(board)-1]==False:\n",
    "            board[row][col] = 'Q'\n",
    "            cols[col] = True\n",
    "            ndiag[row+col]=True\n",
    "            rdiag[row-col+len(board)-1]=True\n",
    "            \n",
    "            solve(board,row+1,cols,ndiag,rdiag,asf+str(row)+'-'+str(col)+',')\n",
    "            \n",
    "            board[row][col] = '.' #Backtrack and make that path as 0\n",
    "            cols[col] = False\n",
    "            ndiag[row+col]=False\n",
    "            rdiag[row-col+len(board)-1]=False\n",
    "        \n",
    "            \n",
    "ans = []\n",
    "n = int(input())\n",
    "board = [['.']*n for _ in range(n)]\n",
    "cols = [False]*n\n",
    "ndiag = [False]*(2*n-1)\n",
    "rdiag = [False]*(2*n-1)\n",
    "\n",
    "solve(board,0,cols,ndiag,rdiag,\"\")\n",
    "len(ans)"
   ]
  },
  {
   "cell_type": "markdown",
   "id": "compatible-logic",
   "metadata": {},
   "source": [
    "## Maximum Score of Words"
   ]
  },
  {
   "cell_type": "code",
   "execution_count": 43,
   "id": "statutory-victor",
   "metadata": {},
   "outputs": [],
   "source": [
    "def solution(words, farr, score, idx):\n",
    "    #words = list of words\n",
    "    #farr = list of character frequencies\n",
    "    #score = list of character scores(a-z)\n",
    "    #idx = current word\n",
    "    \n",
    "    '''Base Case'''\n",
    "    if idx == len(words):\n",
    "        return 0\n",
    "    \n",
    "    #No call - Current words in not added\n",
    "    score_no = 0 + solution(words, farr, score, idx+1)\n",
    "    \n",
    "    \n",
    "    score_idx_word = 0\n",
    "    #check the word frequency is allowed or not\n",
    "    word = words[idx]\n",
    "    flag = True #Yes call mari ja sakti hai\n",
    "    for i in range(len(word)):\n",
    "        ch = word[i]\n",
    "        if farr[ord(ch)-ord('a')] == 0:#Freq kisi character tka 0 ho gaya to call nhi mar sakte\n",
    "            flag = False\n",
    "        \n",
    "        #Minus the frequency when used\n",
    "        farr[ord(ch)-ord('a')]-=1\n",
    "        score_idx_word+= score[ord(ch)-ord('a')]\n",
    "        \n",
    "    #Yes call - Current word included -     \n",
    "    score_yes = 0\n",
    "    if flag == True:\n",
    "        score_yes = score_idx_word + solution(words, farr, score, idx+1)\n",
    "        \n",
    "    '''Backtrack'''\n",
    "    #freq arr mein jo change laaya thha wo undo krna padhega\n",
    "    for i in range(len(word)):\n",
    "        ch = word[i]\n",
    "        farr[ord(ch)-ord('a')]+=1\n",
    "        \n",
    "    #Word ko include krke behtar scoreaata hai ya include nhi krke\n",
    "    return max(score_no,score_yes)\n",
    "    \n",
    "def main():    \n",
    "    nofWords = int(input())\n",
    "    words = [None]*nofWords\n",
    "    for i in range(len(words)):\n",
    "        words[i] = input()\n",
    "\n",
    "    nofLetters = int(input())\n",
    "    letters = [None]*nofLetters\n",
    "    for i in range(len(letters)):\n",
    "        letters[i] = input()[0]\n",
    "\n",
    "    score = [None]*26;\n",
    "    for i in range(len(score)):\n",
    "        score[i] =int(input())\n",
    "\n",
    "    if (words == None or len(words) == 0 or letters == None or len(letters) == 0 or score == None or len(score) == 0):\n",
    "        print(0)\n",
    "        return\n",
    "\n",
    "    farr = [0]*len(score)\n",
    "    for ch in letters:\n",
    "        farr[ord(ch) - ord('a')]+=1\n",
    "\n",
    "    print(solution(words, farr, score, 0))\n",
    "main()\n"
   ]
  },
  {
   "cell_type": "markdown",
   "id": "tender-plain",
   "metadata": {},
   "source": [
    "## Josephus Problem"
   ]
  },
  {
   "cell_type": "code",
   "execution_count": 47,
   "id": "removed-climate",
   "metadata": {},
   "outputs": [
    {
     "name": "stdout",
     "output_type": "stream",
     "text": [
      "8\n",
      "3\n"
     ]
    },
    {
     "data": {
      "text/plain": [
       "6"
      ]
     },
     "execution_count": 47,
     "metadata": {},
     "output_type": "execute_result"
    }
   ],
   "source": [
    "def solve(n,k):\n",
    "    #Base case\n",
    "    #Agar ek hi banda hai, uska index = 0\n",
    "    if n == 1:\n",
    "        return 0\n",
    "    x = solve(n-1,k) #survivor from n-1\n",
    "    y = (x+k)%n\n",
    "    return y\n",
    "    \n",
    "n = int(input())\n",
    "k = int(input())\n",
    "\n",
    "res = solve(n,k)\n",
    "res"
   ]
  },
  {
   "cell_type": "markdown",
   "id": "posted-migration",
   "metadata": {},
   "source": [
    "## Print Lexicographically"
   ]
  },
  {
   "cell_type": "code",
   "execution_count": 50,
   "id": "welsh-denver",
   "metadata": {},
   "outputs": [
    {
     "name": "stdout",
     "output_type": "stream",
     "text": [
      "13\n",
      "1\n",
      "10\n",
      "11\n",
      "12\n",
      "13\n",
      "2\n",
      "3\n",
      "4\n",
      "5\n",
      "6\n",
      "7\n",
      "8\n"
     ]
    }
   ],
   "source": [
    "def dfs(i,n):\n",
    "    if i > n:\n",
    "        return\n",
    "    print(i)#Preorder pe Euler chalega and print\n",
    "    for j in range(10):\n",
    "        dfs(10*i+j,n)#for i = 1, children = 10,11....,19\n",
    "        \n",
    "    \n",
    "    \n",
    "n = int(input())\n",
    "#Pehle 1-9 children pe call lagana hoga\n",
    "for i in range(1,9):\n",
    "    dfs(i,n) #1 se lekr 9 tak ki families print krke laa\n",
    "    \n",
    "\n",
    "    "
   ]
  },
  {
   "cell_type": "markdown",
   "id": "photographic-billy",
   "metadata": {},
   "source": [
    "## Gold Mine - 2"
   ]
  },
  {
   "cell_type": "code",
   "execution_count": 54,
   "id": "interpreted-variety",
   "metadata": {},
   "outputs": [
    {
     "name": "stdout",
     "output_type": "stream",
     "text": [
      "3\n",
      "3\n",
      "0\n",
      "6\n",
      "0\n",
      "5\n",
      "8\n",
      "7\n",
      "0\n",
      "9\n",
      "0\n",
      "35\n"
     ]
    }
   ],
   "source": [
    "def travelAndCollect(arr,i,j,visited,bag):\n",
    "    \n",
    "    if i<0 or j<0 or i>=len(arr) or j>=len(arr[0]) or arr[i][j] == 0 or visited[i][j]==True:\n",
    "        return\n",
    "    \n",
    "    visited[i][j] = True\n",
    "    bag.append(arr[i][j])\n",
    "    #Now visit neighbours in 2D matrix arr\n",
    "    #Stupid calls\n",
    "    travelAndCollect(arr,i-1,j,visited,bag) #TOP\n",
    "    travelAndCollect(arr,i,j+1,visited,bag) #RIGHT\n",
    "    travelAndCollect(arr,i,j-1,visited,bag) #LEFT\n",
    "    travelAndCollect(arr,i+1,j,visited,bag) #DOWN\n",
    "\n",
    "\n",
    "\n",
    "def getMaxGold(arr):\n",
    "    global maxm\n",
    "    visited = [[False]*(len(arr[0])) for _ in range(len(arr))]\n",
    "    #har vertex/cell ko mauka denge\n",
    "    for i in range(len(arr)):\n",
    "        for j in range(len(arr[0])):\n",
    "            #When not a blocker and not visited\n",
    "            if arr[i][j]!=0 and visited[i][j]==False:\n",
    "                bag = [] #iss bag ko bhar ke lao\n",
    "                travelAndCollect(arr,i,j,visited,bag)#pass arr, start i,start j, visited\n",
    "                \n",
    "                #issbar kitna gold collect hua hai\n",
    "                s = 0\n",
    "                for val in bag:\n",
    "                    s+=val\n",
    "                if s>maxm:\n",
    "                    maxm = s\n",
    "                \n",
    "\n",
    "n = int(input())\n",
    "m = int(input())\n",
    "arr = [[int(input()) for x in range(m)] for y in range(n)]\n",
    "maxm = 0\n",
    "getMaxGold(arr)\n",
    "print(maxm)"
   ]
  },
  {
   "cell_type": "markdown",
   "id": "dangerous-technical",
   "metadata": {},
   "source": [
    "## Crossword Puzzle"
   ]
  },
  {
   "cell_type": "code",
   "execution_count": 55,
   "id": "adaptive-nightmare",
   "metadata": {},
   "outputs": [
    {
     "data": {
      "text/plain": [
       "[[0, 0, 0, 0, 0, 0, 0, 0, 0, 0],\n",
       " [0, 0, 0, 0, 0, 0, 0, 0, 0, 0],\n",
       " [0, 0, 0, 0, 0, 0, 0, 0, 0, 0],\n",
       " [0, 0, 0, 0, 0, 0, 0, 0, 0, 0],\n",
       " [0, 0, 0, 0, 0, 0, 0, 0, 0, 0],\n",
       " [0, 0, 0, 0, 0, 0, 0, 0, 0, 0],\n",
       " [0, 0, 0, 0, 0, 0, 0, 0, 0, 0],\n",
       " [0, 0, 0, 0, 0, 0, 0, 0, 0, 0],\n",
       " [0, 0, 0, 0, 0, 0, 0, 0, 0, 0],\n",
       " [0, 0, 0, 0, 0, 0, 0, 0, 0, 0]]"
      ]
     },
     "execution_count": 55,
     "metadata": {},
     "output_type": "execute_result"
    }
   ],
   "source": [
    "arr = [[0]*10]*10\n",
    "for i in range(len(arr)):\n",
    "    string = input()\n",
    "    arr[i] = "
   ]
  },
  {
   "cell_type": "markdown",
   "id": "cognitive-insert",
   "metadata": {},
   "source": [
    "## Word Pattern Matching using Backtracking"
   ]
  },
  {
   "cell_type": "code",
   "execution_count": 11,
   "id": "rural-awareness",
   "metadata": {},
   "outputs": [
    {
     "name": "stdout",
     "output_type": "stream",
     "text": [
      "dogdog\n",
      "ab\n",
      "a->d\n",
      "b->ogdog\n",
      ".\n",
      "a->do\n",
      "b->gdog\n",
      ".\n",
      "a->dog\n",
      "b->dog\n",
      ".\n",
      "a->dogd\n",
      "b->og\n",
      ".\n",
      "a->dogdo\n",
      "b->g\n",
      ".\n"
     ]
    }
   ],
   "source": [
    "def solve(string,pattern,d,ori_pattern):\n",
    "    \n",
    "    if len(pattern) == 0:\n",
    "        if len(string) == 0:\n",
    "            '''map the pattern to string for printing'''\n",
    "            alreadyPrinted = set()\n",
    "            for i in range(len(ori_pattern)):\n",
    "                ch = ori_pattern[i] \n",
    "                if ch not in alreadyPrinted:\n",
    "                    print(ch+\"->\"+str(d[ch]))\n",
    "                    alreadyPrinted.add(ch)\n",
    "            print('.')\n",
    "        return\n",
    "    \n",
    "    ch = pattern[0]#get the patterns first character\n",
    "    rop = pattern[1:]#rest of the pattern\n",
    "    #character pehle se mapped hai, toh kiske sath mapped thha?\n",
    "    if ch in d.keys():\n",
    "        prevMapping = d[ch]\n",
    "        \n",
    "        if len(string)>=len(prevMapping):\n",
    "            prefix = string[0:len(prevMapping)]\n",
    "            ros = string[len(prevMapping):]\n",
    "            \n",
    "            if prevMapping == prefix:#dekho string ke shuruwat mein whi padha hai ya nhi\n",
    "                solve(ros,rop,d,ori_pattern)\n",
    "                \n",
    "            \n",
    "    \n",
    "    else:\n",
    "        for i in range(len(string)):\n",
    "            prefix = string[0:i+1]\n",
    "            ros = string[i+1:]\n",
    "            \n",
    "            d[ch] = prefix#map the pattern to string\n",
    "            \n",
    "            solve(ros,rop,d,ori_pattern)\n",
    "            \n",
    "            d.pop(ch)#jaate huye remove the matching to accomodate other matches as well## BACKTRACKING\n",
    "        \n",
    "\n",
    "string = input()\n",
    "pattern = input()\n",
    "d = dict()\n",
    "solve(string,pattern,d,pattern)#2 times pattern to compare with original"
   ]
  },
  {
   "cell_type": "code",
   "execution_count": null,
   "id": "legal-hunger",
   "metadata": {},
   "outputs": [],
   "source": []
  }
 ],
 "metadata": {
  "kernelspec": {
   "display_name": "Python 3",
   "language": "python",
   "name": "python3"
  },
  "language_info": {
   "codemirror_mode": {
    "name": "ipython",
    "version": 3
   },
   "file_extension": ".py",
   "mimetype": "text/x-python",
   "name": "python",
   "nbconvert_exporter": "python",
   "pygments_lexer": "ipython3",
   "version": "3.7.4"
  }
 },
 "nbformat": 4,
 "nbformat_minor": 5
}
