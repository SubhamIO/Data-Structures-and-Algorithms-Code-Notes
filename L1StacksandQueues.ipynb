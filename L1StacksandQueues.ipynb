{
 "cells": [
  {
   "cell_type": "markdown",
   "id": "advisory-preview",
   "metadata": {},
   "source": [
    "## Duplicate Brackets"
   ]
  },
  {
   "cell_type": "code",
   "execution_count": 3,
   "id": "suited-affair",
   "metadata": {},
   "outputs": [
    {
     "name": "stdout",
     "output_type": "stream",
     "text": [
      "(a+(b) /c) \n",
      "False\n"
     ]
    }
   ],
   "source": [
    "def duplicateBrackets(string):\n",
    "    stack = []\n",
    "\n",
    "    for i in range(len(string)):\n",
    "        ch = string[i]\n",
    "        if ch ==')':\n",
    "            if stack[-1] == '(':\n",
    "                print(True)\n",
    "                return\n",
    "            else:\n",
    "                while stack[-1]!='(':\n",
    "                    stack.pop()\n",
    "                stack.pop() #opening bracket ko v urana hai\n",
    "        else:\n",
    "            stack.append(ch)\n",
    "    print(False)\n",
    "    \n",
    "string = input()\n",
    "duplicateBrackets(string)\n",
    "    "
   ]
  },
  {
   "cell_type": "markdown",
   "id": "choice-figure",
   "metadata": {},
   "source": [
    "## Balance Brackets"
   ]
  },
  {
   "cell_type": "code",
   "execution_count": 108,
   "id": "colored-nomination",
   "metadata": {},
   "outputs": [
    {
     "name": "stdout",
     "output_type": "stream",
     "text": [
      "(a+(b) /c)\n",
      "True\n"
     ]
    }
   ],
   "source": [
    "def balanceBrackets(string):\n",
    "    bracket_store = dict()\n",
    "    bracket_store[')'] = '('\n",
    "    bracket_store['}'] = '{'\n",
    "    bracket_store[']'] = '['\n",
    "    \n",
    "    stack = []\n",
    "    \n",
    "    for i in range(len(string)):\n",
    "        ch = string[i]\n",
    "        if ch in ['(','{','[']:\n",
    "            stack.append(ch)\n",
    "        elif ch in [')','}',']']:\n",
    "            if len(stack)>0:\n",
    "                if stack[-1] == bracket_store[ch]:\n",
    "                    stack.pop()\n",
    "                else:\n",
    "                    print('False and bracket mismatch: ch={} but stack[-1]={} '.format(ch,stack[-1]))\n",
    "                    return\n",
    "            else:\n",
    "                print('False .. More closing brackets')\n",
    "                return\n",
    "        else:\n",
    "            continue\n",
    "    if len(stack)>0:\n",
    "        print('False .. More opening brackets')\n",
    "        return\n",
    "        \n",
    "    print(True)\n",
    "    \n",
    "    \n",
    "string = input()\n",
    "balanceBrackets(string)\n",
    "    "
   ]
  },
  {
   "cell_type": "markdown",
   "id": "virgin-steps",
   "metadata": {},
   "source": [
    "## Next Greater Element to the Right"
   ]
  },
  {
   "cell_type": "code",
   "execution_count": 110,
   "id": "spread-terry",
   "metadata": {},
   "outputs": [
    {
     "name": "stdout",
     "output_type": "stream",
     "text": [
      "[2, -1, -1]\n"
     ]
    }
   ],
   "source": [
    "def nextGreaterElementtoRight(arr):\n",
    "    res = [0]*len(arr)\n",
    "    stack = []\n",
    "    #Put the last element and -1 initially\n",
    "    stack.append(arr[len(arr)-1])\n",
    "    res[len(arr)-1] = -1\n",
    "    \n",
    "    for i in range(len(arr)-2,-1,-1):\n",
    "        ch = arr[i]\n",
    "        #pop() -- jab tak stack mein log hai aur current element bada hai stack ke top element se\n",
    "        while len(stack)>0 and ch>=stack[-1]:\n",
    "            stack.pop()\n",
    "        \n",
    "        #If ch has popped everyone so, it is the greatest element\n",
    "        if len(stack)==0:\n",
    "            res[i] = -1\n",
    "        #else jo stack ke top pe hoga wo hi next greater hoga\n",
    "        else:\n",
    "            res[i] = stack[-1]\n",
    "        \n",
    "        stack.append(ch)\n",
    "    return res\n",
    "            \n",
    "\n",
    "        \n",
    "arr = [1,2,1]\n",
    "res = nextGreaterElementtoRight(arr)        \n",
    "print(res)"
   ]
  },
  {
   "cell_type": "markdown",
   "id": "complimentary-jacksonville",
   "metadata": {},
   "source": [
    "## Next Smaller Element to the left"
   ]
  },
  {
   "cell_type": "code",
   "execution_count": 59,
   "id": "extended-bhutan",
   "metadata": {},
   "outputs": [
    {
     "name": "stdout",
     "output_type": "stream",
     "text": [
      "[-1, 2, 5, 2, -1, 1, 1, 6, 6]\n"
     ]
    }
   ],
   "source": [
    "def nextSmallerElementtoLeft(arr):\n",
    "    res = [0]*len(arr)\n",
    "    stack = []\n",
    "    #Put the last element and -1 initially\n",
    "    stack.append(arr[0])\n",
    "    res[0] = -1\n",
    "    \n",
    "    for i in range(1,len(arr)):\n",
    "        ch = arr[i]\n",
    "        #pop() -- jab tak stack mein log hai aur current element bada hai stack ke top element se\n",
    "        while len(stack)>0 and ch<stack[-1]:\n",
    "            stack.pop()\n",
    "        \n",
    "        #If ch has popped everyone so, it is the greatest element\n",
    "        if len(stack)==0:\n",
    "            res[i] = -1\n",
    "        #else jo stack ke top pe hoga wo hi next greater hoga\n",
    "        else:\n",
    "            res[i] = stack[-1]\n",
    "        \n",
    "        stack.append(ch)\n",
    "    return res\n",
    "            \n",
    "\n",
    "        \n",
    "arr = [2,5,9,3,1,12,6,8,7]\n",
    "res = nextSmallerElementtoLeft(arr)        \n",
    "print(res)"
   ]
  },
  {
   "cell_type": "markdown",
   "id": "conservative-research",
   "metadata": {},
   "source": [
    "## Stock Span"
   ]
  },
  {
   "cell_type": "code",
   "execution_count": 58,
   "id": "confirmed-noise",
   "metadata": {},
   "outputs": [
    {
     "name": "stdout",
     "output_type": "stream",
     "text": [
      "[1, 2, 3, 1, 1, 6, 1, 2, 1]\n"
     ]
    }
   ],
   "source": [
    "def stockSpan(arr):\n",
    "    res = [0]*len(arr)\n",
    "    stack = []\n",
    "\n",
    "    stack.append(arr[0])\n",
    "    res[0] = 1\n",
    "    \n",
    "    for i in range(1,len(arr)):\n",
    "        ch = arr[i]\n",
    "        #pop() -- jab tak stack mein log hai aur current element bada hai stack ke top element se\n",
    "        while len(stack)>0 and ch>stack[-1]:\n",
    "            stack.pop()\n",
    "        \n",
    "        #If ch has popped everyone so, it is the greatest element\n",
    "        #stack khali kr diya toh span = index+1\n",
    "        if len(stack)==0:\n",
    "            res[i] = i+1\n",
    "        #else jo stack ke top pe hoga wo hi next greater hoga\n",
    "        #else i-stack ke top wale ka index in arr\n",
    "        else:\n",
    "            res[i] = i - arr.index(stack[-1])\n",
    "        \n",
    "        stack.append(ch)\n",
    "    return res\n",
    "            \n",
    "\n",
    "        \n",
    "arr = [2,5,9,3,1,12,6,8,7]\n",
    "res = stockSpan(arr)        \n",
    "print(res)"
   ]
  },
  {
   "cell_type": "markdown",
   "id": "duplicate-camping",
   "metadata": {},
   "source": [
    "## Largest Area Histogram\n",
    "- We dont need next smaller or greater element here, we just need their index to find the gap."
   ]
  },
  {
   "cell_type": "code",
   "execution_count": 106,
   "id": "acknowledged-departure",
   "metadata": {},
   "outputs": [
    {
     "name": "stdout",
     "output_type": "stream",
     "text": [
      "10\n"
     ]
    }
   ],
   "source": [
    "def largestAreaHistogram(arr):\n",
    "    '''RIGHT BOUNDARY'''\n",
    "    right_boundary = [0]*len(arr)#store next smaller element index on the right\n",
    "    stack = []\n",
    "    stack.append(len(arr)-1)\n",
    "    #for any element if there is no next smaller element on right\n",
    "    #then assign it len(arr)\n",
    "    right_boundary[len(arr)-1] = len(arr)\n",
    "    \n",
    "    for i in range(len(arr)-2,-1,-1):\n",
    "        ch = arr[i]\n",
    "        #POP\n",
    "        while(len(stack)>0 and ch<=arr[stack[-1]]): #saare baro ko urayega, next smaller chaiye isiliye\n",
    "            stack.pop()\n",
    "        #PRINT\n",
    "        if len(stack) == 0:\n",
    "            right_boundary[i] = len(arr)\n",
    "        else:\n",
    "            right_boundary[i] = stack[-1]\n",
    "        #PUSH\n",
    "        stack.append(i)\n",
    "        \n",
    "    '''LEFT BOUNDARY'''\n",
    "    left_boundary = [0]*len(arr)#store next smaller element index on the left\n",
    "    stack = []\n",
    "    stack.append(0)\n",
    "    #for any element if there is no next smaller element on left\n",
    "    #then assign it -1\n",
    "    left_boundary[0] = -1\n",
    "    \n",
    "    for i in range(1,len(arr)):\n",
    "        ch = arr[i]\n",
    "        #POP\n",
    "        while(len(stack)>0 and ch<=arr[stack[-1]]): #saare baro ko urayega, next smaller chaiye isiliye\n",
    "            stack.pop()\n",
    "        #PRINT\n",
    "        if len(stack) == 0:\n",
    "            left_boundary[i] = -1\n",
    "        else:\n",
    "            left_boundary[i] = stack[-1]\n",
    "        #PUSH   \n",
    "        stack.append(i)\n",
    "    \n",
    "    \n",
    "    max_area = 0\n",
    "    \n",
    "    for i in range(len(arr)):\n",
    "        height = arr[i] #say 4\n",
    "        width = right_boundary[i] - left_boundary[i] - 1 #5-1-1 = 3\n",
    "        area = height * width\n",
    "        \n",
    "        if area>max_area:\n",
    "            max_area= area\n",
    "    print(max_area)\n",
    "    \n",
    "arr = [2,1,5,6,2,3]\n",
    "largestAreaHistogram(arr)        \n"
   ]
  },
  {
   "cell_type": "markdown",
   "id": "vulnerable-colon",
   "metadata": {},
   "source": [
    "## Trapping Rain Water"
   ]
  },
  {
   "cell_type": "code",
   "execution_count": 72,
   "id": "spectacular-suffering",
   "metadata": {
    "scrolled": true
   },
   "outputs": [
    {
     "name": "stdout",
     "output_type": "stream",
     "text": [
      "[3, 3, 4, 8, 8, 8, 8]\n",
      "[8, 8, 8, 8, 7, 5, 5]\n"
     ]
    },
    {
     "data": {
      "text/plain": [
       "5"
      ]
     },
     "execution_count": 72,
     "metadata": {},
     "output_type": "execute_result"
    }
   ],
   "source": [
    "#Optimal than above - O(n) time and O(n) space\n",
    "def trappingWater2(arr,n):\n",
    "    #Code here\n",
    "    left = [0]*n\n",
    "    right = [0]*n\n",
    "    res = 0\n",
    "\n",
    "    #Find the bounding well type design to hold the water\n",
    "\n",
    "    # Fill left array to get left largest wall\n",
    "    left[0] = arr[0]\n",
    "    for i in range(1, n):\n",
    "        left[i] = max(left[i-1], arr[i])\n",
    "    print(left)\n",
    "    # Fill right array to get right largest wall\n",
    "    right[n-1] = arr[n-1]\n",
    "    for i in range(n-2, -1, -1):\n",
    "        right[i] = max(right[i + 1], arr[i]);\n",
    "    print(right)\n",
    "    # Calculate the accumulated water element by element\n",
    "    # consider the amount of water on i'th bar, the\n",
    "    # amount of water accumulated on this particular\n",
    "    # bar will be equal to min(left[i], right[i]) - arr[i] .\n",
    "    for i in range(0, n):\n",
    "        res += min(left[i], right[i]) - arr[i]\n",
    "\n",
    "    return res\n",
    "    \n",
    "arr = [3,1,4,8,7,2,5]\n",
    "n=len(arr)\n",
    "res=trappingWater2(arr,n)\n",
    "res"
   ]
  },
  {
   "cell_type": "markdown",
   "id": "emotional-waters",
   "metadata": {},
   "source": [
    "## Sliding Window Maximum - O(n)"
   ]
  },
  {
   "cell_type": "code",
   "execution_count": 111,
   "id": "comprehensive-margin",
   "metadata": {},
   "outputs": [
    {
     "data": {
      "text/plain": [
       "[3, 3, 5, 5, 6, 7]"
      ]
     },
     "execution_count": 111,
     "metadata": {},
     "output_type": "execute_result"
    }
   ],
   "source": [
    "def slidingWindow(arr,k):\n",
    "    result = []\n",
    "    #First find the Next Greater elements indexes to right list\n",
    "    nge = [0]*len(arr)\n",
    "    stack = []\n",
    "    #Initial\n",
    "    stack.append(len(arr)-1)\n",
    "    nge[len(arr)-1]=len(arr)#rightmost boundary marker\n",
    "    for i in range(len(arr)-2,-1,-1):\n",
    "        ch = arr[i] \n",
    "        #POP\n",
    "        while(len(stack)>0 and ch>=arr[stack[-1]]): #saare chhoto ko urayega, next greater chaiye isiliye\n",
    "            stack.pop()\n",
    "        #PRINT\n",
    "        if len(stack) == 0:\n",
    "            nge[i] = len(arr)\n",
    "        else:\n",
    "            nge[i] = stack[-1]\n",
    "        #PUSH\n",
    "        stack.append(i)\n",
    "    \n",
    "    j=0\n",
    "    for i in range(len(arr)-k+1): #i ko 'length-k' tak chalaye, else j ould go outside\n",
    "        #enter the loop to find the maximum of window starting at i\n",
    "        #j = i, j peechey padh jaaye i se so equal kr lo\n",
    "        if j<i:\n",
    "            j=i\n",
    "        #if element's nge index is within that window index range\n",
    "        while nge[j] < i+k:\n",
    "            j = nge[j]\n",
    "        #present outside the window so print that element on j\n",
    "        #print(arr[j],end=' ')\n",
    "        result.append(arr[j])\n",
    "    return result\n",
    "            \n",
    "    \n",
    "arr = [1,3,-1,-3,5,3,6,7]\n",
    "k = 3\n",
    "res = slidingWindow(arr,k)\n",
    "res"
   ]
  },
  {
   "cell_type": "markdown",
   "id": "quick-closure",
   "metadata": {},
   "source": [
    "## INFIX EVALUATION"
   ]
  },
  {
   "cell_type": "code",
   "execution_count": 22,
   "id": "manual-diana",
   "metadata": {},
   "outputs": [
    {
     "name": "stdout",
     "output_type": "stream",
     "text": [
      "2 + 6 * 4 / 8 - 3\n",
      "Ans:  2.0\n"
     ]
    }
   ],
   "source": [
    "#defining a utility precedence function to find the precedence of operators\n",
    "def precedence(operator):\n",
    "    if operator == '+':\n",
    "        return 1\n",
    "    elif operator == '-':\n",
    "        return 1\n",
    "        \n",
    "    elif operator == '*':\n",
    "        return 2\n",
    "    elif operator == '/':\n",
    "        return 2    \n",
    "    else:\n",
    "        return 0\n",
    "#defining a operations function\n",
    "def operation(v1,v2,operator):\n",
    "    if operator == '+':\n",
    "        return v1+v2\n",
    "    elif operator == '-':\n",
    "        return v1-v2\n",
    "        \n",
    "    elif operator == '*':\n",
    "        return v1*v2\n",
    "        \n",
    "    else:\n",
    "        return v1/v2\n",
    "\n",
    "exp = input()\n",
    "operator_stack = []\n",
    "operand_stack = []\n",
    "\n",
    "for i in range(len(exp)):\n",
    "    ch = exp[i]\n",
    "    \n",
    "    if ch == '(':\n",
    "        operator_stack.append(ch)\n",
    "        \n",
    "    elif ch.isdigit():\n",
    "        operand_stack.append(ord(ch)-ord('0'))\n",
    "        \n",
    "    elif ch == ')':\n",
    "        #pop until you get a '('\n",
    "        while operator_stack[-1]!='(':\n",
    "            \n",
    "            #when we pop 1 val from operatorm we pop 2 val from operands\n",
    "            op = operator_stack.pop()\n",
    "            v2 = operand_stack.pop()\n",
    "            v1 = operand_stack.pop()\n",
    "            \n",
    "            #calculate the result and append it to operand_stack \n",
    "            result = operation(v1,v2,op)\n",
    "            operand_stack.append(result)\n",
    "        \n",
    "        operator_stack.pop()\n",
    "    \n",
    "    elif ch == '+' or ch == '-' or ch == '*' or ch == '/':\n",
    "        #ch is wanting higher priority operators to solve first \n",
    "        while len(operator_stack)>0 and operator_stack[-1]!='(' and precedence(ch)<=precedence(operator_stack[-1]):\n",
    "            \n",
    "            #when we pop 1 val from operatorm we pop 2 val from operands\n",
    "            op = operator_stack.pop()\n",
    "            v2 = operand_stack.pop()\n",
    "            v1 = operand_stack.pop()\n",
    "            \n",
    "            #calculate the result and append it to operand_stack \n",
    "            result = operation(v1,v2,op)\n",
    "            operand_stack.append(result)\n",
    "        #dont forget to push current operator after the above operations   \n",
    "        operator_stack.append(ch)\n",
    "    \n",
    "#kuch reh jaate hai toh jab tak stack khali na ho tab tak firse chala do\n",
    "while len(operator_stack)!=0:\n",
    "    #when we pop 1 val from operatorm we pop 2 val from operands\n",
    "    op = operator_stack.pop()\n",
    "    v2 = operand_stack.pop()\n",
    "    v1 = operand_stack.pop()\n",
    "\n",
    "    #calculate the result and append it to operand_stack \n",
    "    result = operation(v1,v2,op)\n",
    "    operand_stack.append(result)\n",
    "\n",
    "print('Ans: ',operand_stack[-1])"
   ]
  },
  {
   "cell_type": "markdown",
   "id": "identified-think",
   "metadata": {},
   "source": [
    "## INFIX CONVERSIONS - to PREFIX and POSTFIX"
   ]
  },
  {
   "cell_type": "code",
   "execution_count": 5,
   "id": "extreme-wound",
   "metadata": {},
   "outputs": [
    {
     "name": "stdout",
     "output_type": "stream",
     "text": [
      "a*(b-c)/d+e\n",
      "Prefix:  +/*a-bcde\n",
      "Prefix:  abc-*d/e+\n"
     ]
    }
   ],
   "source": [
    "#defining a utility precedence function to find the precedence of operators\n",
    "def precedence(operator):\n",
    "    if operator == '+':\n",
    "        return 1\n",
    "    elif operator == '-':\n",
    "        return 1\n",
    "        \n",
    "    elif operator == '*':\n",
    "        return 2\n",
    "    elif operator == '/':\n",
    "        return 2    \n",
    "    else:\n",
    "        return 0\n",
    "\n",
    "exp = input()\n",
    "operator_stack = []\n",
    "pre_operand_stack = []\n",
    "post_operand_stack = []\n",
    "\n",
    "for i in range(len(exp)):\n",
    "    ch = exp[i]\n",
    "    \n",
    "    if ch == '(':\n",
    "        operator_stack.append(ch)\n",
    "        \n",
    "    elif ch.isdigit() or ch.isalpha():\n",
    "        pre_operand_stack.append(str(ch))\n",
    "        post_operand_stack.append(str(ch))\n",
    "      \n",
    "    elif ch == ')':\n",
    "        #pop until you get a '('\n",
    "        while operator_stack[-1]!='(':\n",
    "            '''PRE'''\n",
    "            #when we pop 1 val from operatorm we pop 2 val from operands\n",
    "            op = operator_stack.pop()\n",
    "            \n",
    "            prev2 = pre_operand_stack.pop()\n",
    "            prev1 = pre_operand_stack.pop()\n",
    "            #calculate the result and append it to operand_stack \n",
    "            preresult = str(op)+str(prev1)+str(prev2)\n",
    "            pre_operand_stack.append(preresult)\n",
    "            \n",
    "            '''POST'''\n",
    "            postv2 = post_operand_stack.pop()\n",
    "            postv1 = post_operand_stack.pop()\n",
    "            #calculate the result and append it to operand_stack \n",
    "            postresult = str(postv1)+str(postv2)+str(op)\n",
    "            post_operand_stack.append(postresult)\n",
    "        \n",
    "        operator_stack.pop()\n",
    "    \n",
    "    elif ch == '+' or ch == '-' or ch == '*' or ch == '/':\n",
    "        #ch is wanting higher priority operators to solve first \n",
    "        while len(operator_stack)>0 and operator_stack[-1]!='(' and precedence(ch)<=precedence(operator_stack[-1]):\n",
    "            '''PRE'''\n",
    "            #when we pop 1 val from operatorm we pop 2 val from operands\n",
    "            op = operator_stack.pop()\n",
    "            \n",
    "            prev2 = pre_operand_stack.pop()\n",
    "            prev1 = pre_operand_stack.pop()\n",
    "            #calculate the result and append it to operand_stack \n",
    "            preresult = str(op)+str(prev1)+str(prev2)\n",
    "            pre_operand_stack.append(preresult)\n",
    "            \n",
    "            '''POST'''\n",
    "            postv2 = post_operand_stack.pop()\n",
    "            postv1 = post_operand_stack.pop()\n",
    "            #calculate the result and append it to operand_stack \n",
    "            postresult = str(postv1)+str(postv2)+str(op)\n",
    "            post_operand_stack.append(postresult)\n",
    "            \n",
    "        #dont forget to push current operator after the above operations   \n",
    "        operator_stack.append(ch)\n",
    "    \n",
    "#kuch reh jaate hai toh jab tak stack khali na ho tab tak firse chala do\n",
    "while len(operator_stack)!=0:\n",
    "    '''PRE'''\n",
    "    #when we pop 1 val from operatorm we pop 2 val from operands\n",
    "    op = operator_stack.pop()\n",
    "    prev2 = pre_operand_stack.pop()\n",
    "    prev1 = pre_operand_stack.pop()\n",
    "    #calculate the result and append it to operand_stack \n",
    "    preresult = str(op)+str(prev1)+str(prev2)\n",
    "    pre_operand_stack.append(preresult)\n",
    "\n",
    "    '''POST'''\n",
    "    postv2 = post_operand_stack.pop()\n",
    "    postv1 = post_operand_stack.pop()\n",
    "    #calculate the result and append it to operand_stack \n",
    "    postresult = str(postv1)+str(postv2)+str(op)\n",
    "    post_operand_stack.append(postresult)\n",
    "\n",
    "print('Prefix: ',pre_operand_stack[-1])\n",
    "print('Prefix: ',post_operand_stack[-1])"
   ]
  },
  {
   "cell_type": "markdown",
   "id": "answering-moses",
   "metadata": {},
   "source": [
    "## Celebrity Problem\n",
    "- information is O(n^2), but have to do it in O(n)"
   ]
  },
  {
   "cell_type": "code",
   "execution_count": 10,
   "id": "prescription-holmes",
   "metadata": {},
   "outputs": [
    {
     "name": "stdout",
     "output_type": "stream",
     "text": [
      "4\n",
      "0\n",
      "1\n",
      "1\n",
      "1\n",
      "1\n",
      "0\n",
      "1\n",
      "0\n",
      "0\n",
      "0\n",
      "0\n",
      "0\n",
      "1\n",
      "1\n",
      "1\n",
      "0\n",
      "Celebrity 2\n"
     ]
    }
   ],
   "source": [
    "def findCelebrity(arr):\n",
    "    stack = []\n",
    "    for i in range(len(arr)):\n",
    "        stack.append(i)\n",
    "    #jab tak stack mein 2 ya 2 se zyada log hai hum 2 pops krenge    \n",
    "    while len(stack)>=2:\n",
    "        i = stack.pop()\n",
    "        j = stack.pop()\n",
    "        \n",
    "        #check whether i knows j\n",
    "        if arr[i][j] == 1:\n",
    "            #if i knows j , then i is not a Celebrity\n",
    "            stack.append(j)\n",
    "        else:\n",
    "            #if i dosnt know j, then j is not a Celebrity\n",
    "            stack.append(i)\n",
    "    can_be_celeb = stack.pop()\n",
    "    \n",
    "    \n",
    "    #now check its entire row and column to be sure it is a celeb\n",
    "    for i in range(len(arr)):\n",
    "        #check for all rows and cols except index-->(can_be_celeb,can_be_celeb)\n",
    "        if i != can_be_celeb:\n",
    "            #koi mil jaye ki 'i' dosnt know 'can_be_celeb'\n",
    "            #or 'can_be_celeb' knows any 'i', then 'can_be_celeb' cant be celeb\n",
    "            if arr[i][can_be_celeb] == 0 or arr[can_be_celeb][i] == 1:\n",
    "                print('none')\n",
    "                return\n",
    "    print('Celebrity',can_be_celeb)\n",
    "                \n",
    "  \n",
    "        \n",
    "n = int(input())\n",
    "arr = [[int(input()) for x in range(n)] for y in range(n)]\n",
    "\n",
    "findCelebrity(arr)\n"
   ]
  },
  {
   "cell_type": "markdown",
   "id": "mental-sending",
   "metadata": {},
   "source": [
    "## POSTFIX EVALUATION"
   ]
  },
  {
   "cell_type": "code",
   "execution_count": 6,
   "id": "built-disclosure",
   "metadata": {},
   "outputs": [
    {
     "name": "stdout",
     "output_type": "stream",
     "text": [
      "264*8/+3-\n",
      "2\n",
      "-+2/*6483\n",
      "((2+((6*4)/8))-3)\n"
     ]
    }
   ],
   "source": [
    "def operation(v1,v2,operator):\n",
    "    if operator == '+':\n",
    "        return v1+v2\n",
    "    elif operator == '-':\n",
    "        return v1-v2\n",
    "        \n",
    "    elif operator == '*':\n",
    "        return v1*v2\n",
    "        \n",
    "    else:\n",
    "        return v1//v2\n",
    "    \n",
    "exp = input()\n",
    "\n",
    "#Make 3 stacks \n",
    "value_stack = []\n",
    "prefix_stack = []\n",
    "infix_stack = []\n",
    "\n",
    "for i in range(len(exp)):\n",
    "    ch = exp[i]\n",
    "    \n",
    "    #check whether it is operator or operand\n",
    "    if ch == '+' or ch == '-' or ch == '*' or ch == '/':\n",
    "        #Evaluation\n",
    "        v2 = value_stack.pop()\n",
    "        v1 = value_stack.pop()\n",
    "        result = operation(v1,v2,ch)\n",
    "        value_stack.append(result)\n",
    "        \n",
    "        #prefix Conversion\n",
    "        v2 = prefix_stack.pop()\n",
    "        v1 = prefix_stack.pop()\n",
    "        #calculate the result and append it to operand_stack \n",
    "        result = str(ch)+str(v1)+str(v2)\n",
    "        prefix_stack.append(result)\n",
    "        \n",
    "        #infix Conversion\n",
    "        v2 = infix_stack.pop()\n",
    "        v1 = infix_stack.pop()\n",
    "        #calculate the result and append it to operand_stack \n",
    "        result = '('+str(v1)+str(ch)+str(v2)+')'\n",
    "        infix_stack.append(result)\n",
    " \n",
    "    else:\n",
    "        value_stack.append(int(ch))\n",
    "        prefix_stack.append(ch)\n",
    "        infix_stack.append(ch)\n",
    "print(value_stack[-1])\n",
    "print(prefix_stack[-1])\n",
    "print(infix_stack[-1])"
   ]
  },
  {
   "cell_type": "markdown",
   "id": "standard-recipient",
   "metadata": {},
   "source": [
    "## Merge Overlapping Intervals - Meeting Merger"
   ]
  },
  {
   "cell_type": "code",
   "execution_count": 17,
   "id": "accessible-quantity",
   "metadata": {},
   "outputs": [
    {
     "name": "stdout",
     "output_type": "stream",
     "text": [
      "4\n",
      "1 3\n",
      "2 6\n",
      "8 10\n",
      "15 18\n",
      "[[1, 6], [8, 10], [15, 18]]\n"
     ]
    }
   ],
   "source": [
    "class Pair():\n",
    "    def __init__(self,st,et):\n",
    "        self.st = st\n",
    "        self.et = et\n",
    "    def __lt__(self,pair): #Sort Pairs using start time\n",
    "        if self.st!=pair.st:\n",
    "            return self.st < pair.st\n",
    "        else:\n",
    "            return self.et < pair.et #if both start time are same, sort using end time\n",
    "\n",
    "def mergeOverlapping(arr):\n",
    "    pairs = [None]*(len(arr))\n",
    "    for i in range(len(arr)):\n",
    "        pairs[i] = Pair(arr[i][0],arr[i][1])\n",
    "    \n",
    "    pairs.sort() #This will sort Pairs using start time\n",
    "    \n",
    "    #Make a stack\n",
    "    st = []\n",
    "    for i in range(len(pairs)):\n",
    "        #pehle bande ko direct push\n",
    "        if i ==0:\n",
    "            st.append(pairs[i])\n",
    "        #agar dusra banda hai\n",
    "        else:\n",
    "            top = st[-1]\n",
    "                \n",
    "            if top.et<pairs[i].st:\n",
    "                st.append(pairs[i])\n",
    "            else:\n",
    "                top.et = max(pairs[i].et,top.et)\n",
    "    \n",
    "    #Printing in ascending order so did FIFO\n",
    "    while(len(st)>0):\n",
    "        ele = st.pop(0)\n",
    "        print(ele.st,ele.et)\n",
    "        \n",
    "    #For leetcode    \n",
    "#     res = []\n",
    "#     while(len(st)>0):\n",
    "#         sublist = []\n",
    "#         ele = st.pop(0)\n",
    "#         sublist.append(ele.st)\n",
    "#         sublist.append(ele.et)\n",
    "#         res.append(sublist)\n",
    "#     print(res)\n",
    "    \n",
    "\n",
    "    \n",
    "if __name__ == '__main__':\n",
    "    n = int(input())\n",
    "    arr = [[0]*2 for _ in range(n)]\n",
    "    for i in range(n):\n",
    "        line = input()\n",
    "        arr[i][0] = int(line.split()[0])\n",
    "        arr[i][1] = int(line.split()[1])\n",
    "    mergeOverlapping(arr)"
   ]
  },
  {
   "cell_type": "markdown",
   "id": "boring-season",
   "metadata": {},
   "source": [
    "## Any Infix Equation solver- Leetcode Soln"
   ]
  },
  {
   "cell_type": "code",
   "execution_count": null,
   "id": "considerable-mixture",
   "metadata": {},
   "outputs": [],
   "source": [
    "class Solution:\n",
    "    def calculate(self, s: str) -> int:\n",
    "        num_stack, sign_stack = [], []\n",
    "        cur_sum, i, cur_sign = 0, 0, 1\n",
    "        while i < len(s):\n",
    "            x = s[i]\n",
    "            if x.isspace():\n",
    "                i += 1\n",
    "                continue\n",
    "            if x == '+':\n",
    "                cur_sign = 1\n",
    "                i += 1\n",
    "            elif x == '-':\n",
    "                cur_sign = -1\n",
    "                i += 1\n",
    "            elif x == '(':\n",
    "                sign_stack += [cur_sign]\n",
    "                num_stack += [cur_sum]\n",
    "                cur_sum = 0\n",
    "                cur_sign = 1\n",
    "                i += 1\n",
    "            elif x == ')':\n",
    "                prev_sum = num_stack.pop()\n",
    "                prev_sign = sign_stack.pop()\n",
    "                cur_sum = cur_sum * prev_sign + prev_sum\n",
    "                i += 1\n",
    "            else:\n",
    "                cur_num = 0\n",
    "                while i < len(s) and s[i].isdigit():\n",
    "                    cur_num = 10 * cur_num + int(s[i])\n",
    "                    i += 1\n",
    "                cur_num *= cur_sign\n",
    "                cur_sum += cur_num\n",
    "        return cur_sum"
   ]
  },
  {
   "cell_type": "markdown",
   "id": "professional-perth",
   "metadata": {},
   "source": [
    "## PREFIX EVALUATION AND CONVERSION"
   ]
  },
  {
   "cell_type": "code",
   "execution_count": 36,
   "id": "mineral-brooks",
   "metadata": {},
   "outputs": [
    {
     "name": "stdout",
     "output_type": "stream",
     "text": [
      "-+2/*6483\n",
      "2\n",
      "264*8/+3-\n",
      "((2+((6*4)/8))-3)\n"
     ]
    }
   ],
   "source": [
    "def operation(v1,v2,operator):\n",
    "    if operator == '+':\n",
    "        return v1+v2\n",
    "    elif operator == '-':\n",
    "        return v1-v2\n",
    "        \n",
    "    elif operator == '*':\n",
    "        return v1*v2\n",
    "        \n",
    "    else:\n",
    "        return v1//v2\n",
    "    \n",
    "exp = input()\n",
    "\n",
    "#Make 3 stacks \n",
    "value_stack = []\n",
    "postfix_stack = []\n",
    "infix_stack = []\n",
    "\n",
    "'''Changes from prefix'''\n",
    "#ulta loop , v1,v2 interchange ---\n",
    "for i in range(len(exp)-1,-1,-1):\n",
    "    ch = exp[i]\n",
    "    \n",
    "    #check whether it is operator or operand\n",
    "    if ch == '+' or ch == '-' or ch == '*' or ch == '/':\n",
    "        #Evaluation\n",
    "        v1 = value_stack.pop()\n",
    "        v2 = value_stack.pop()\n",
    "        result = operation(v1,v2,ch)\n",
    "        value_stack.append(result)\n",
    "        \n",
    "        #postfix Conversion\n",
    "        v1 = postfix_stack.pop()\n",
    "        v2 = postfix_stack.pop()\n",
    "        #calculate the result and append it to operand_stack \n",
    "        result = str(v1)+str(v2)+str(ch)\n",
    "        postfix_stack.append(result)\n",
    "        \n",
    "        #infix Conversion\n",
    "        v1 = infix_stack.pop()\n",
    "        v2 = infix_stack.pop()\n",
    "        #calculate the result and append it to operand_stack \n",
    "        result = '('+str(v1)+str(ch)+str(v2)+')'\n",
    "        infix_stack.append(result)\n",
    " \n",
    "    else:\n",
    "        value_stack.append(int(ch))\n",
    "        postfix_stack.append(ch)\n",
    "        infix_stack.append(ch)\n",
    "print(value_stack[-1])\n",
    "print(postfix_stack[-1])\n",
    "print(infix_stack[-1])"
   ]
  }
 ],
 "metadata": {
  "kernelspec": {
   "display_name": "Python 3",
   "language": "python",
   "name": "python3"
  },
  "language_info": {
   "codemirror_mode": {
    "name": "ipython",
    "version": 3
   },
   "file_extension": ".py",
   "mimetype": "text/x-python",
   "name": "python",
   "nbconvert_exporter": "python",
   "pygments_lexer": "ipython3",
   "version": "3.7.4"
  }
 },
 "nbformat": 4,
 "nbformat_minor": 5
}
