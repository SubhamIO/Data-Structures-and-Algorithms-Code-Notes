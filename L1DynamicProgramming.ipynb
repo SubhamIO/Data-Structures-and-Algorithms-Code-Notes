{
 "cells": [
  {
   "cell_type": "markdown",
   "id": "thick-uruguay",
   "metadata": {},
   "source": [
    "### Fibinacci - DP"
   ]
  },
  {
   "cell_type": "code",
   "execution_count": 4,
   "id": "sudden-gibraltar",
   "metadata": {
    "scrolled": true
   },
   "outputs": [
    {
     "name": "stdout",
     "output_type": "stream",
     "text": [
      "Hello:  10\n",
      "Hello:  9\n",
      "Hello:  8\n",
      "Hello:  7\n",
      "Hello:  6\n",
      "Hello:  5\n",
      "Hello:  4\n",
      "Hello:  3\n",
      "Hello:  2\n",
      "Hello:  2\n",
      "Hello:  3\n",
      "Hello:  2\n",
      "Hello:  4\n",
      "Hello:  3\n",
      "Hello:  2\n",
      "Hello:  2\n",
      "Hello:  5\n",
      "Hello:  4\n",
      "Hello:  3\n",
      "Hello:  2\n",
      "Hello:  2\n",
      "Hello:  3\n",
      "Hello:  2\n",
      "Hello:  6\n",
      "Hello:  5\n",
      "Hello:  4\n",
      "Hello:  3\n",
      "Hello:  2\n",
      "Hello:  2\n",
      "Hello:  3\n",
      "Hello:  2\n",
      "Hello:  4\n",
      "Hello:  3\n",
      "Hello:  2\n",
      "Hello:  2\n",
      "Hello:  7\n",
      "Hello:  6\n",
      "Hello:  5\n",
      "Hello:  4\n",
      "Hello:  3\n",
      "Hello:  2\n",
      "Hello:  2\n",
      "Hello:  3\n",
      "Hello:  2\n",
      "Hello:  4\n",
      "Hello:  3\n",
      "Hello:  2\n",
      "Hello:  2\n",
      "Hello:  5\n",
      "Hello:  4\n",
      "Hello:  3\n",
      "Hello:  2\n",
      "Hello:  2\n",
      "Hello:  3\n",
      "Hello:  2\n",
      "Hello:  8\n",
      "Hello:  7\n",
      "Hello:  6\n",
      "Hello:  5\n",
      "Hello:  4\n",
      "Hello:  3\n",
      "Hello:  2\n",
      "Hello:  2\n",
      "Hello:  3\n",
      "Hello:  2\n",
      "Hello:  4\n",
      "Hello:  3\n",
      "Hello:  2\n",
      "Hello:  2\n",
      "Hello:  5\n",
      "Hello:  4\n",
      "Hello:  3\n",
      "Hello:  2\n",
      "Hello:  2\n",
      "Hello:  3\n",
      "Hello:  2\n",
      "Hello:  6\n",
      "Hello:  5\n",
      "Hello:  4\n",
      "Hello:  3\n",
      "Hello:  2\n",
      "Hello:  2\n",
      "Hello:  3\n",
      "Hello:  2\n",
      "Hello:  4\n",
      "Hello:  3\n",
      "Hello:  2\n",
      "Hello:  2\n"
     ]
    },
    {
     "data": {
      "text/plain": [
       "55"
      ]
     },
     "execution_count": 4,
     "metadata": {},
     "output_type": "execute_result"
    }
   ],
   "source": [
    "#In recursion you are calculating fib(k) multiple times which is unnecessary\n",
    "def Fib(n):\n",
    "    if n==0 or n==1:\n",
    "        return n\n",
    "    else:\n",
    "        print('Hello: ',n) #Just look at the repititions\n",
    "        fibn1 = Fib(n-1)\n",
    "        fibn2 = Fib(n-2)\n",
    "        fibn = fibn1+fibn2\n",
    "        return fibn\n",
    "Fib(10)\n",
    "    "
   ]
  },
  {
   "cell_type": "code",
   "execution_count": 13,
   "id": "reduced-essence",
   "metadata": {},
   "outputs": [
    {
     "name": "stdout",
     "output_type": "stream",
     "text": [
      "5\n",
      "Hello 5\n",
      "Hello 4\n",
      "Hello 3\n",
      "Hello 2\n",
      "[0, 0, 0, 0, 0, 0]\n",
      "[0, 0, 0, 0, 0, 0]\n",
      "[0, 0, 1, 0, 0, 0]\n"
     ]
    },
    {
     "data": {
      "text/plain": [
       "5"
      ]
     },
     "execution_count": 13,
     "metadata": {},
     "output_type": "execute_result"
    }
   ],
   "source": [
    "def displayqb(qb):\n",
    "    print(qb)\n",
    "    \n",
    "def FibMemoised(n,qb):\n",
    "    if n==0 or n==1:\n",
    "        return n\n",
    "    #if anyone calls fib(n) which is already present in qb, then it will not run the calls, \n",
    "    #it would return the answer present in the qb itself\n",
    "    if qb[n]!=0:\n",
    "        return qb[n]\n",
    "    else:\n",
    "        print('Hello',n) #Look at the optimised version with no repitition\n",
    "        fibn1 = FibMemoised(n-1,qb)\n",
    "        fibn2 = FibMemoised(n-2,qb)\n",
    "        fibn = fibn1+fibn2\n",
    "        \n",
    "        qb[n] = fibn\n",
    "        return fibn\n",
    "    \n",
    "    \n",
    "n = int(input())\n",
    "qb = [0]*(n+1) #question bank size is (n+1) since we are storing all values till n\n",
    "FibMemoised(n,qb)"
   ]
  },
  {
   "cell_type": "markdown",
   "id": "classified-mexico",
   "metadata": {},
   "source": [
    "## Climb Paths - DP[Tabulation]"
   ]
  },
  {
   "cell_type": "markdown",
   "id": "voluntary-reset",
   "metadata": {},
   "source": [
    "### Simple recursion"
   ]
  },
  {
   "cell_type": "code",
   "execution_count": 15,
   "id": "prime-easter",
   "metadata": {
    "scrolled": true
   },
   "outputs": [
    {
     "name": "stdout",
     "output_type": "stream",
     "text": [
      "Hello 6\n",
      "Hello 5\n",
      "Hello 4\n",
      "Hello 3\n",
      "Hello 2\n",
      "Hello 1\n",
      "Hello 1\n",
      "Hello 2\n",
      "Hello 1\n",
      "Hello 1\n",
      "Hello 3\n",
      "Hello 2\n",
      "Hello 1\n",
      "Hello 1\n",
      "Hello 2\n",
      "Hello 1\n",
      "Hello 4\n",
      "Hello 3\n",
      "Hello 2\n",
      "Hello 1\n",
      "Hello 1\n",
      "Hello 2\n",
      "Hello 1\n",
      "Hello 1\n",
      "Hello 3\n",
      "Hello 2\n",
      "Hello 1\n",
      "Hello 1\n"
     ]
    },
    {
     "data": {
      "text/plain": [
       "24"
      ]
     },
     "execution_count": 15,
     "metadata": {},
     "output_type": "execute_result"
    }
   ],
   "source": [
    "def countPaths(n):\n",
    "    if n==0:\n",
    "        return 1 #0 to 0 there is 1 path(earlier we returned list with empty string)\n",
    "    elif n<0:\n",
    "        return 0\n",
    "    print('Hello',n) #Check the repititions\n",
    "    nm1= countPaths(n-1)\n",
    "    nm2= countPaths(n-2)\n",
    "    nm3= countPaths(n-3)\n",
    "    cp = nm1+nm2+nm3 #Check theory in copy\n",
    "    return cp\n",
    "countPaths(6)"
   ]
  },
  {
   "cell_type": "markdown",
   "id": "southeast-sociology",
   "metadata": {},
   "source": [
    "### DP - Recursion + Memoisation"
   ]
  },
  {
   "cell_type": "code",
   "execution_count": 17,
   "id": "obvious-winning",
   "metadata": {},
   "outputs": [
    {
     "name": "stdout",
     "output_type": "stream",
     "text": [
      "6\n",
      "Hello 6\n",
      "Hello 5\n",
      "Hello 4\n",
      "Hello 3\n",
      "Hello 2\n",
      "Hello 1\n"
     ]
    },
    {
     "data": {
      "text/plain": [
       "24"
      ]
     },
     "execution_count": 17,
     "metadata": {},
     "output_type": "execute_result"
    }
   ],
   "source": [
    "def countPathsMemoised(n,qb):\n",
    "    if n==0:\n",
    "        return 1 #0 to 0 there is 1 path(earlier we returned list with empty string)\n",
    "    elif n<0:\n",
    "        return 0\n",
    "    if qb[n]>0:\n",
    "        return qb[n]\n",
    "    print('Hello',n) #Check the repititions, none at all\n",
    "    nm1= countPathsMemoised(n-1,qb)\n",
    "    nm2= countPathsMemoised(n-2,qb)\n",
    "    nm3= countPathsMemoised(n-3,qb)\n",
    "    cp = nm1+nm2+nm3 #Check theory in copy\n",
    "    \n",
    "    qb[n] = cp #Dynamic Programming\n",
    "    return cp\n",
    "n = int(input())\n",
    "qb = [0]*(n+1) #question bank size is (n+1) since we are storing all values till n\n",
    "countPathsMemoised(n,qb)"
   ]
  },
  {
   "cell_type": "markdown",
   "id": "christian-brown",
   "metadata": {},
   "source": [
    "### DP - Iteration + Tabulation"
   ]
  },
  {
   "cell_type": "code",
   "execution_count": 3,
   "id": "domestic-regulation",
   "metadata": {},
   "outputs": [
    {
     "data": {
      "text/plain": [
       "24"
      ]
     },
     "execution_count": 3,
     "metadata": {},
     "output_type": "execute_result"
    }
   ],
   "source": [
    "def countPathsTabulation(n):\n",
    "    dp = [0]*(n+1)\n",
    "    dp[0] = 1 #0 to 0  = 1 path(base case)\n",
    "    for i in range(1,n+1):\n",
    "        #put conditions for i==1 and i==2, else it would go out of board(dp)\n",
    "        if i==1:\n",
    "            dp[i] = dp[i-1]\n",
    "        elif i==2:\n",
    "            dp[i] = dp[i-1] + dp[i-2]\n",
    "        else:    \n",
    "            dp[i] = dp[i-1] + dp[i-2] + dp[i-3]\n",
    "    return dp[n] #since direction is from left to right, so print last element in dp\n",
    "ans = countPathsTabulation(6)       \n",
    "ans"
   ]
  },
  {
   "cell_type": "markdown",
   "id": "lasting-right",
   "metadata": {},
   "source": [
    "## Climb Stairs with Variable jumps"
   ]
  },
  {
   "cell_type": "code",
   "execution_count": 22,
   "id": "limiting-mother",
   "metadata": {
    "scrolled": true
   },
   "outputs": [
    {
     "name": "stdout",
     "output_type": "stream",
     "text": [
      "13\n",
      "5\n",
      "5\n",
      "2\n",
      "4\n",
      "1\n",
      "5\n",
      "9\n",
      "8\n",
      "6\n",
      "3\n",
      "8\n",
      "9\n",
      "1\n",
      "2044\n"
     ]
    }
   ],
   "source": [
    "n = int(input())\n",
    "arr=[]\n",
    "for i in range(n):\n",
    "    arr.append(int(input()))\n",
    "dp = [0]*(n+1) #Storage\n",
    "dp[n] = 1 #Meaning eg: 6 to 6 there is only 1 path\n",
    "for i in range(n-1,-1,-1): #Direction\n",
    "    for j in range(1,arr[i]+1):#eg. from copy:  1,2,3 jumps from step 5\n",
    "        if (i+j)<len(dp): #should not go out of board(dp)\n",
    "            dp[i] += dp[i+j] #from ith index , jth jumps, so: dp[i] = dp[i+1]+dp[i+2]+dp[i+3]\n",
    "print(dp[0]) #since direction is from right to left, so print first element in dp\n",
    "     "
   ]
  },
  {
   "cell_type": "markdown",
   "id": "ordinary-demand",
   "metadata": {},
   "source": [
    "## Climb Stairs with minimum moves"
   ]
  },
  {
   "cell_type": "code",
   "execution_count": 11,
   "id": "fundamental-islam",
   "metadata": {},
   "outputs": [],
   "source": [
    "# a=float('inf')\n",
    "# b=float('-inf')"
   ]
  },
  {
   "cell_type": "code",
   "execution_count": 6,
   "id": "imperial-prerequisite",
   "metadata": {},
   "outputs": [
    {
     "name": "stdout",
     "output_type": "stream",
     "text": [
      "10\n",
      "1\n",
      "1\n",
      "1\n",
      "4\n",
      "9\n",
      "8\n",
      "1\n",
      "1\n",
      "10\n",
      "1\n",
      "5\n"
     ]
    }
   ],
   "source": [
    "n = int(input())\n",
    "arr=[]\n",
    "for i in range(n):\n",
    "    arr.append(int(input()))\n",
    "dp = [None]*(n+1) #Storage : create None array\n",
    "dp[n] = 0 #n to n : 0 moves\n",
    "for i in range(n-1,-1,-1): #Direction\n",
    "    if arr[i]>0: #where jumps =0 let it be None\n",
    "        '''Calculate minimum from all the jumps'''\n",
    "        min_val = float('inf')\n",
    "        for j in range(1,arr[i]+1):#eg. from copy:  1,2,3 jumps from step 5\n",
    "            if (i+j)<len(dp) and dp[i+j]!=None: #while taking min, dont take None else we will get error\n",
    "                min_val = min(min_val,dp[i+j]) #min values of the jumps\n",
    "        '''Got minimum value from all jumps'''        \n",
    "        \n",
    "        #suppose, for all the jumps every value was None, then even there it will be null moves        \n",
    "        if min_val!=float('inf'): #min_val changed from float('inf'), when there was valid jumps\n",
    "            dp[i] = 1+min_val\n",
    "        else:\n",
    "            dp[i] = None\n",
    "print(dp[0])\n",
    "        \n",
    "        "
   ]
  },
  {
   "cell_type": "markdown",
   "id": "included-kitchen",
   "metadata": {},
   "source": [
    "## Min Cost Climbing Stairs - Leetcode Accepted Solution\n",
    "#### Example 1:\n",
    "- Input: cost = [10,15,20]\n",
    "- Output: 15\n",
    "- Explanation: Cheapest is: start on cost[1], pay that cost, and go to the top.\n",
    "\n",
    "#### Example 2:\n",
    "- Input: cost = [1,100,1,1,1,100,1,1,100,1]\n",
    "- Output: 6\n",
    "- Explanation: Cheapest is: start on cost[0], and only step on 1s, skipping cost[3]."
   ]
  },
  {
   "cell_type": "code",
   "execution_count": null,
   "id": "sacred-lodging",
   "metadata": {},
   "outputs": [],
   "source": [
    "class Solution:\n",
    "    def minCostClimbingStairs(self, cost: List[int]) -> int:\n",
    "        n = len(cost)\n",
    "        dp = [0]*(n)\n",
    "        dp[n-1] = cost[n-1]\n",
    "        dp[n-2] = cost[n-2]\n",
    "        for i in range(n-3,-1,-1):\n",
    "            dp[i] = cost[i]+min(dp[i+1],dp[i+2])\n",
    "        return min(dp[0],dp[1])\n",
    "        "
   ]
  },
  {
   "cell_type": "markdown",
   "id": "minimal-satin",
   "metadata": {},
   "source": [
    "## Minimum cost path in Maze Traversal"
   ]
  },
  {
   "cell_type": "code",
   "execution_count": 6,
   "id": "retired-private",
   "metadata": {},
   "outputs": [
    {
     "name": "stdout",
     "output_type": "stream",
     "text": [
      "Enter rows: 3\n",
      "Enter cols: 3\n",
      "1\n",
      "3\n",
      "1\n",
      "1\n",
      "5\n",
      "1\n",
      "4\n",
      "2\n",
      "1\n",
      "7\n"
     ]
    }
   ],
   "source": [
    "n = int(input('Enter rows: '))\n",
    "m = int(input('Enter cols: '))\n",
    "# one-liner logic to take input for rows and columns \n",
    "arr = [[int(input()) for x in range (m)] for y in range(n)]\n",
    "\n",
    "#Storage\n",
    "dp = [[0]*m for _ in range(n)]\n",
    "\n",
    "#Direction : Down to Up and right to left\n",
    "for i in range(len(dp)-1,-1,-1):\n",
    "    for j in range(len(dp[0])-1,-1,-1):\n",
    "        \n",
    "        #We are in last cell(i and j at extreme points) : region A\n",
    "        if i==len(dp)-1 and j==len(dp[0])-1:\n",
    "            dp[i][j] = arr[i][j]\n",
    "        #We are in last row(i is at extreme point) : region B\n",
    "        elif i==len(dp)-1:\n",
    "            dp[i][j] = dp[i][j+1] + arr[i][j]\n",
    "        #We are in last col(j is at extreme point): : region C\n",
    "        elif j==len(dp[0])-1:\n",
    "            dp[i][j] = dp[i+1][j] + arr[i][j]\n",
    "        #We are in region D(2 way travellers)  : region D\n",
    "        else:\n",
    "            dp[i][j] = arr[i][j] + min(dp[i][j+1],dp[i+1][j])\n",
    "            \n",
    "print(dp[0][0])       "
   ]
  },
  {
   "cell_type": "markdown",
   "id": "common-wrist",
   "metadata": {},
   "source": [
    "## Path with Maximum Gold"
   ]
  },
  {
   "cell_type": "code",
   "execution_count": 8,
   "id": "first-toyota",
   "metadata": {
    "scrolled": true
   },
   "outputs": [
    {
     "name": "stdout",
     "output_type": "stream",
     "text": [
      "Enter rows: 3\n",
      "Enter cols: 3\n",
      "0\n",
      "6\n",
      "0\n",
      "5\n",
      "8\n",
      "7\n",
      "0\n",
      "9\n",
      "0\n",
      "21\n"
     ]
    }
   ],
   "source": [
    "n = int(input('Enter rows: '))\n",
    "m = int(input('Enter cols: '))\n",
    "# one-liner logic to take input for rows and columns \n",
    "arr = [[int(input()) for x in range (m)] for y in range(n)]\n",
    "\n",
    "#Storage\n",
    "dp = [[0]*m for _ in range(n)]\n",
    "#Direction : Down to Up and right to left\n",
    "for j in range(len(dp[0])-1,-1,-1):\n",
    "    for i in range(len(dp)-1,-1,-1):\n",
    "        #We are in last column(put vlues as it is, nowhere to travel) : region C\n",
    "        if j==len(dp[0])-1:\n",
    "            dp[i][j] = arr[i][j]\n",
    "        #We are in first row(2 way travellers) : region A\n",
    "        elif i==0:\n",
    "            dp[i][j] = arr[i][j] + max(dp[i][j+1],dp[i+1][j+1])\n",
    "            \n",
    "        #We are in last row(2 way travellers)region B\n",
    "        elif i==len(dp)-1:\n",
    "            dp[i][j] = arr[i][j] + max(dp[i][j+1],dp[i-1][j+1])\n",
    "            \n",
    "        #We are in region D(3 way travellers)  : region D\n",
    "        else:\n",
    "            dp[i][j] = arr[i][j] + max(dp[i][j+1],dp[i+1][j+1],dp[i-1][j+1])\n",
    "max_val = float('-inf')\n",
    "for i in range(len(dp)):\n",
    "    if dp[i][0]>max_val:\n",
    "        max_val = dp[i][0]\n",
    "print(max_val)\n",
    "    "
   ]
  },
  {
   "cell_type": "markdown",
   "id": "central-magazine",
   "metadata": {},
   "source": [
    "## Target Sum Subsequence using DP - Tabulation\n",
    "- Check whether there is any subsets which sum up to the target :  __O/P: true/false__"
   ]
  },
  {
   "cell_type": "code",
   "execution_count": 12,
   "id": "polyphonic-trout",
   "metadata": {},
   "outputs": [
    {
     "name": "stdout",
     "output_type": "stream",
     "text": [
      "5\n",
      "23\n",
      "2\n",
      "6\n",
      "4\n",
      "7\n",
      "13\n",
      "True\n"
     ]
    }
   ],
   "source": [
    "n = int(input())\n",
    "arr=[]\n",
    "for i in range(n):\n",
    "    arr.append(int(input()))\n",
    "tar = int(input())\n",
    "\n",
    "#Storage\n",
    "dp = [[False]*(tar+1) for _ in range(n+1)]\n",
    "\n",
    "#Direction top to down\n",
    "for i in range(len(dp)): #array elements index\n",
    "    for j in range(len(dp[0])): #Target index\n",
    "        \n",
    "        #check in copy for regions\n",
    "        if i==0 and j==0: #Region A\n",
    "            dp[i][j] = True\n",
    "        elif i==0: # Region B\n",
    "            dp[i][j] = False\n",
    "        elif j==0: #Region C\n",
    "            dp[i][j] = True\n",
    "        else:\n",
    "            #look upper cell and check whether array element have already reached target(True) or not\n",
    "            if dp[i-1][j]==True:\n",
    "                dp[i][j]=True\n",
    "            #To look backwards j cells and check whether that above cell is True\n",
    "            else:\n",
    "                val = arr[i-1] #1 index shift --> check in copy diagram\n",
    "                if j>=val: #we can look backwards only after reaching the target value else we will look out of board\n",
    "                    if dp[i-1][j-val]==True: #check whether element at (j-val) position upper cell(i-1) was True\n",
    "                        dp[i][j] = True\n",
    "                    \n",
    "print(dp[len(arr)][tar])           "
   ]
  },
  {
   "cell_type": "markdown",
   "id": "empty-bacteria",
   "metadata": {},
   "source": [
    "## Coin Change Combination"
   ]
  },
  {
   "cell_type": "code",
   "execution_count": null,
   "id": "floral-pottery",
   "metadata": {},
   "outputs": [],
   "source": [
    "n = int(input())\n",
    "arr=[] #[2,3,5]\n",
    "for i in range(n):\n",
    "    arr.append(int(input()))\n",
    "    \n",
    "tar_amt = int(input())\n",
    "\n",
    "#Storage\n",
    "dp = [0]*(tar_amt+1)\n",
    "dp[0] = 1 #paying 0 has 1 way i.e. 1 [ Since, 2^0 = 1]\n",
    "#Direction\n",
    "for i in range(len(arr)): #loop through coins , first 2,then 3 , then 5 , This is responsible for Combination\n",
    "    for j in range(arr[i],len(dp)): #loop through dp array - Target , from that element\n",
    "        #dp[7] we added dp[5] when looping through element 2\n",
    "        '''Pay using 2 and check how many combinations were there for dp[5]'''\n",
    "        \n",
    "        #dp[7] we added dp[4] when looping through element 3\n",
    "        '''Pay using 3 and check how many combinations were there for dp[4]'''\n",
    "        \n",
    "        #dp[7] we added dp[2] when looping through element 5\n",
    "        '''Pay using 5 and check how many combinations were there for dp[2]'''\n",
    "        \n",
    "        dp[j] += dp[j-arr[i]]\n",
    "print(dp[tar_amt])"
   ]
  },
  {
   "cell_type": "markdown",
   "id": "clear-punishment",
   "metadata": {},
   "source": [
    "#### changing loops meaning to understand intuitively"
   ]
  },
  {
   "cell_type": "code",
   "execution_count": 13,
   "id": "greater-recording",
   "metadata": {},
   "outputs": [
    {
     "name": "stdout",
     "output_type": "stream",
     "text": [
      "3\n",
      "1\n",
      "2\n",
      "5\n",
      "11\n",
      "11\n"
     ]
    }
   ],
   "source": [
    "n = int(input())\n",
    "arr=[] #[2,3,5]\n",
    "for i in range(n):\n",
    "    arr.append(int(input()))\n",
    "    \n",
    "tar_amt = int(input())\n",
    "\n",
    "#Storage\n",
    "dp = [0]*(tar_amt+1)\n",
    "dp[0] = 1 #paying 0 has 1 way i.e. 1 [ Since, 2^0 = 1]\n",
    "#Direction\n",
    "for coin in arr: #loop through coins , first 2,then 3 , then 5 , This is responsible for Combination\n",
    "    for amt in range(1,tar_amt+1): #loop through dp array - Target\n",
    "        if amt>=coin:\n",
    "            #dp[7] we added dp[5] when looping through element 2\n",
    "            '''Pay using 2 and check how many combinations were there for dp[5]'''\n",
    "\n",
    "            #dp[7] we added dp[4] when looping through element 3\n",
    "            '''Pay using 3 and check how many combinations were there for dp[4]'''\n",
    "\n",
    "            #dp[7] we added dp[2] when looping through element 5\n",
    "            '''Pay using 5 and check how many combinations were there for dp[2]'''\n",
    "            remaining_amt = amt - coin\n",
    "\n",
    "            dp[amt] += dp[remaining_amt] # eg. dp[7] = d[5]+dp[4]+dp[2]\n",
    "print(dp[tar_amt])"
   ]
  },
  {
   "cell_type": "markdown",
   "id": "handmade-mediterranean",
   "metadata": {},
   "source": [
    "## Coin Change - Leetcode Accepted Soln\n",
    "- You are given an integer array coins representing coins of different denominations and an integer amount representing a total amount of money.\n",
    "\n",
    "- Return the fewest number of coins that you need to make up that amount. If that amount of money cannot be made up by any combination of the coins, return -1.\n",
    "\n",
    "- You may assume that you have an infinite number of each kind of coin.\n",
    "\n"
   ]
  },
  {
   "cell_type": "code",
   "execution_count": 29,
   "id": "confirmed-equilibrium",
   "metadata": {},
   "outputs": [
    {
     "name": "stdout",
     "output_type": "stream",
     "text": [
      "3\n",
      "1\n",
      "2\n",
      "5\n",
      "11\n",
      "3\n"
     ]
    }
   ],
   "source": [
    "n = int(input())\n",
    "arr=[] #[2,3,5]\n",
    "for i in range(n):\n",
    "    arr.append(int(input()))\n",
    "    \n",
    "tar_amt = int(input())\n",
    "\n",
    "#Storage\n",
    "dp = [float('inf')]*(tar_amt+1)\n",
    "dp[0] = 0 #paying 0 has 1 way i.e. 1 [ Since, 2^0 = 1]\n",
    "#Direction\n",
    "for coin in arr: #loop through coins , first 2,then 3 , then 5 , This is responsible for Combination\n",
    "    for amt in range(1,len(dp)): #loop through dp array - Target\n",
    "        if coin > amt:\n",
    "            continue\n",
    "                    \n",
    "        elif coin == amt:\n",
    "            dp[amt] = 1\n",
    "             \n",
    "        else:    \n",
    "            remaining_amt = amt - coin\n",
    "\n",
    "            dp[amt] = min(dp[remaining_amt]+1,dp[amt]) # eg. dp[7] = d[5]+dp[4]+dp[2]\n",
    "if dp[-1] == float('inf'):\n",
    "    print(-1)\n",
    "    \n",
    "print(dp[-1])"
   ]
  },
  {
   "cell_type": "markdown",
   "id": "partial-advice",
   "metadata": {},
   "source": [
    "# Coin Change Permutation"
   ]
  },
  {
   "cell_type": "code",
   "execution_count": 14,
   "id": "quick-hamilton",
   "metadata": {},
   "outputs": [
    {
     "name": "stdout",
     "output_type": "stream",
     "text": [
      "3\n",
      "2\n",
      "3\n",
      "5\n",
      "7\n",
      "5\n"
     ]
    }
   ],
   "source": [
    "n = int(input())\n",
    "arr=[] #[2,3,5]\n",
    "for i in range(n):\n",
    "    arr.append(int(input()))\n",
    "    \n",
    "tar_amt = int(input())\n",
    "\n",
    "#Storage\n",
    "dp = [0]*(tar_amt+1)\n",
    "dp[0] = 1 #paying 0 has 1 way i.e. 1 [ Since, 2^0 = 1]\n",
    "#Direction\n",
    "for i in range(1,len(dp)): #On every target we will use all the coins -- This is responsible for Permutation\n",
    "    for j in range(len(arr)): #loop through coins array\n",
    "        if i>=arr[j]: # Target should be >= coin\n",
    "            dp[i] += dp[i-arr[j]]\n",
    "print(dp[tar_amt])"
   ]
  },
  {
   "cell_type": "markdown",
   "id": "analyzed-associate",
   "metadata": {},
   "source": [
    "#### changing loops meaning to understand intuitively\n",
    "- from coin change combination problem, just interchnage the loops and get the permutations from combination"
   ]
  },
  {
   "cell_type": "code",
   "execution_count": 17,
   "id": "provincial-brazil",
   "metadata": {},
   "outputs": [
    {
     "name": "stdout",
     "output_type": "stream",
     "text": [
      "3\n",
      "2\n",
      "3\n",
      "5\n",
      "7\n",
      "5\n"
     ]
    }
   ],
   "source": [
    "n = int(input())\n",
    "arr=[] #[2,3,5,6]\n",
    "for i in range(n):\n",
    "    arr.append(int(input()))\n",
    "    \n",
    "tar_amt = int(input())\n",
    "\n",
    "#Storage\n",
    "dp = [0]*(tar_amt+1)\n",
    "dp[0] = 1 #paying 0 has 1 way i.e. 1 [ Since, 2^0 = 1]\n",
    "#Direction\n",
    "for amt in range(1,tar_amt+1): #On every target we will use all the coins -- This is responsible for Permutation\n",
    "    for coin in arr: #loop through coins array\n",
    "        if amt>=coin: # Target should be >= coin\n",
    "            remaining_amt = amt-coin\n",
    "            dp[amt] += dp[remaining_amt]# eg. dp[8] = dp[6]+dp[5]+dp[3]+dp[2]\n",
    "print(dp[tar_amt])"
   ]
  },
  {
   "cell_type": "markdown",
   "id": "resident-salmon",
   "metadata": {},
   "source": [
    "## 0-1 Knapsack"
   ]
  },
  {
   "cell_type": "code",
   "execution_count": 2,
   "id": "mathematical-tribune",
   "metadata": {},
   "outputs": [
    {
     "name": "stdout",
     "output_type": "stream",
     "text": [
      "5\n",
      "15\n",
      "14\n",
      "10\n",
      "45\n",
      "30\n",
      "2\n",
      "5\n",
      "1\n",
      "3\n",
      "4\n",
      "7\n",
      "75\n"
     ]
    }
   ],
   "source": [
    "n = int(input())\n",
    "vals=[]\n",
    "for i in range(n):\n",
    "    vals.append(int(input()))\n",
    "wts=[]\n",
    "for i in range(n):\n",
    "    wts.append(int(input()))\n",
    "cap = int(input())\n",
    "dp = [[0]*(cap+1) for _ in range(n+1)]\n",
    "for i in range(1,len(dp)): # i represents players/items\n",
    "    for j in range(1,len(dp[0])): # j represents balls/weights\n",
    "        upper_cell_val = dp[i-1][j] #if he dosnt bat , then check upper_cell_value\n",
    "        w = wts[i-1] #1 index shift --> check in copy diagram\n",
    "        if j>=w:#we can look backwards w times only after reaching the target value else we will look out of board\n",
    "            v = vals[i-1] #1 index shift --> check in copy diagram\n",
    "            upper_cell_val_b4 = dp[i-1][j-w]\n",
    "            dp[i][j] = max(upper_cell_val_b4+v , upper_cell_val)\n",
    "        else: #when i dosn't bat\n",
    "            dp[i][j]=upper_cell_val \n",
    "            \n",
    "            \n",
    "print(dp[len(vals)][cap])            \n"
   ]
  },
  {
   "cell_type": "markdown",
   "id": "major-taxation",
   "metadata": {},
   "source": [
    "## Unbounded Knapsack"
   ]
  },
  {
   "cell_type": "code",
   "execution_count": 3,
   "id": "descending-recruitment",
   "metadata": {},
   "outputs": [
    {
     "name": "stdout",
     "output_type": "stream",
     "text": [
      "5\n",
      "15\n",
      "14\n",
      "10\n",
      "45\n",
      "30\n",
      "2\n",
      "5\n",
      "1\n",
      "3\n",
      "4\n",
      "7\n",
      "[0, 10, 20, 45, 55, 65, 90, 100]\n",
      "For Capacity of : 7 Max Profit is : 100 \n"
     ]
    }
   ],
   "source": [
    "n = int(input())\n",
    "vals=[]\n",
    "for i in range(n):\n",
    "    vals.append(int(input()))\n",
    "wts=[]\n",
    "for i in range(n):\n",
    "    wts.append(int(input()))\n",
    "    \n",
    "#2 lists as key-value pairs\n",
    "d = dict(zip(wts, vals))\n",
    "cap = int(input())\n",
    "\n",
    "#Storage\n",
    "dp = [0]*(cap+1)\n",
    "dp[0] = 0 #Max profit for target 0 is 0\n",
    "\n",
    "#Direction\n",
    "for amt in range(1,cap+1): #On every capacity/target we will use all the wts -- This is same as Coin Permutation problem\n",
    "    max_val = float('-inf')\n",
    "    for w in wts: #loop through wts array        \n",
    "        if amt>=w: #take wts which are less than or equal to the capacity/target\n",
    "            #find max profit using all the choices            \n",
    "            profit = dp[amt-w]+d[w]\n",
    "            if profit>max_val:\n",
    "                max_val=profit\n",
    "            dp[amt] = max_val\n",
    "print(dp) \n",
    "print('For Capacity of : {} Max Profit is : {} '.format(cap,dp[cap]))"
   ]
  },
  {
   "cell_type": "markdown",
   "id": "distant-branch",
   "metadata": {},
   "source": [
    "## Count Binary String\n",
    "- Find no. of binary strings of length(n) which has no consecutive zeroes"
   ]
  },
  {
   "cell_type": "code",
   "execution_count": 10,
   "id": "foreign-absolute",
   "metadata": {},
   "outputs": [
    {
     "name": "stdout",
     "output_type": "stream",
     "text": [
      "Enter length : 6\n",
      "[0, 1, 1, 2, 3, 5, 8]\n",
      "[0, 1, 2, 3, 5, 8, 13]\n",
      "Total binary string of length 6 with no consecutive zeroes is: 21 \n"
     ]
    }
   ],
   "source": [
    "n = int(input('Enter length : '))\n",
    "dp_zeroes = [0]*(n+1)\n",
    "dp_ones = [0]*(n+1)\n",
    "#Trivial cases\n",
    "dp_zeroes[0] = 0\n",
    "dp_ones[0] = 0\n",
    "dp_zeroes[1] = 1\n",
    "dp_ones[1] = 1\n",
    "\n",
    "#Direction\n",
    "for i in range(2,n+1):\n",
    "    dp_zeroes[i] = dp_ones[i-1]\n",
    "    dp_ones[i] = dp_zeroes[i-1]+dp_ones[i-1]\n",
    "print(dp_zeroes)\n",
    "print(dp_ones)\n",
    "\n",
    "print('Total binary string of length {} with no consecutive zeroes is: {} '.format(n,dp_zeroes[n]+dp_ones[n]))"
   ]
  },
  {
   "cell_type": "markdown",
   "id": "communist-maldives",
   "metadata": {},
   "source": [
    "__but we don't need array to solve this question. we can use 4 variables to solve this__"
   ]
  },
  {
   "cell_type": "code",
   "execution_count": 15,
   "id": "legendary-appeal",
   "metadata": {},
   "outputs": [
    {
     "name": "stdout",
     "output_type": "stream",
     "text": [
      "Enter length : 6\n",
      "Total binary string of length 6 with no consecutive zeroes is: 21 \n"
     ]
    }
   ],
   "source": [
    "n = int(input('Enter length : '))\n",
    "#start count from 1 else answer will not increment\n",
    "prev_zeroes_ct = 1\n",
    "prev_ones_ct = 1\n",
    "\n",
    "#Direction\n",
    "for i in range(2,n+1): #start loop from 2 since, we have started from count 1 i.e for length 1 strings\n",
    "    new_zeroes_ct = prev_ones_ct\n",
    "    new_ones_ct = prev_zeroes_ct + prev_ones_ct\n",
    "    \n",
    "    prev_zeroes_ct = new_zeroes_ct\n",
    "    prev_ones_ct = new_ones_ct\n",
    "\n",
    "print('Total binary string of length {} with no consecutive zeroes is: {} '.format(n,prev_zeroes_ct+prev_ones_ct))"
   ]
  },
  {
   "cell_type": "markdown",
   "id": "imported-insulation",
   "metadata": {},
   "source": [
    "## Arrange Buildings(Buildings and Spaces)"
   ]
  },
  {
   "cell_type": "code",
   "execution_count": 22,
   "id": "caroline-vision",
   "metadata": {},
   "outputs": [
    {
     "name": "stdout",
     "output_type": "stream",
     "text": [
      "Enter length : 5\n",
      "Total binary string of length 5 with no consecutive zeroes is: 169 \n"
     ]
    }
   ],
   "source": [
    "n = int(input('Enter length : '))\n",
    "#start count from 1 else answer will not increment\n",
    "prev_building_ct = 1\n",
    "prev_space_ct = 1\n",
    "\n",
    "#Direction\n",
    "for i in range(2,n+1): #start loop from 2 since, we have started from count 1 i.e for length 1 strings\n",
    "    new_building_ct = prev_space_ct\n",
    "    new_space_ct = prev_building_ct + prev_space_ct\n",
    "    \n",
    "    prev_building_ct = new_building_ct\n",
    "    prev_space_ct = new_space_ct\n",
    "\n",
    "\n",
    "print('Total binary string of length {} with no consecutive zeroes is: {} '.format(n,(prev_building_ct+prev_space_ct)**2))"
   ]
  },
  {
   "cell_type": "markdown",
   "id": "nutritional-worry",
   "metadata": {},
   "source": [
    "## Decode ways / Print Encodings"
   ]
  },
  {
   "cell_type": "code",
   "execution_count": 35,
   "id": "collaborative-toronto",
   "metadata": {},
   "outputs": [
    {
     "name": "stdout",
     "output_type": "stream",
     "text": [
      "1201234\n",
      "3\n"
     ]
    }
   ],
   "source": [
    "str = input()\n",
    "dp =[0]*len(str)\n",
    "dp[0] = 1 \n",
    "for i in range(1,len(dp)):\n",
    "    #handling special case with last 2 characters\n",
    "    #when 0,0 --> no calls possible so dp[i] = 0\n",
    "    if str[i-1] == '0' and str[i] == '0': #invalid,invalid\n",
    "        dp[i] = 0\n",
    "        \n",
    "    #when 0,non 0 --> call with non 0 possible only,  so dp[i] = d[i-1]   \n",
    "    elif str[i-1] == '0' and str[i] != '0': #valid,invalid\n",
    "        dp[i] = dp[i-1]\n",
    "        \n",
    "    #when non 0, 0 --> call with (non 0,0) possible only,  so dp[i] = d[i-2] \n",
    "    elif str[i-1] != '0' and str[i] == '0': #invalid,valid\n",
    "        if int(str[i-1:i+1])<=26:\n",
    "            if i>=2:\n",
    "                dp[i] = dp[i-2]\n",
    "            else:\n",
    "                dp[i] = 1 #add just 1 count\n",
    "        else: #if number is greater than 26, it is invalid\n",
    "            dp[i] = 0\n",
    "            \n",
    "    #when non 0,non 0 --> both calls  possible ,  so dp[i] = d[i-1] + dp[i-2]\n",
    "    else:\n",
    "        if int(str[i-1:i+1])<=26:\n",
    "            if i>=2:\n",
    "                dp[i] = dp[i-1]+ dp[i-2]\n",
    "            else:\n",
    "                dp[i] = dp[i-1] + 1 #add just 1 count\n",
    "        else:\n",
    "            dp[i] = dp[i-1]\n",
    "print(dp[len(str)-1])"
   ]
  },
  {
   "cell_type": "markdown",
   "id": "satisfied-clinton",
   "metadata": {},
   "source": [
    "__suppose we have calculated till i-2 (handled in base cases here), looping from 2 to end in dp array__\n"
   ]
  },
  {
   "cell_type": "code",
   "execution_count": 36,
   "id": "pursuant-offset",
   "metadata": {},
   "outputs": [
    {
     "name": "stdout",
     "output_type": "stream",
     "text": [
      "1201234\n",
      "3\n"
     ]
    }
   ],
   "source": [
    "str = input()\n",
    "dp =[0]*len(str)\n",
    "\n",
    "if len(str)<3:\n",
    "    dp[0] = 1 \n",
    "    if str[1]=='0':\n",
    "        dp[1] = 1\n",
    "    else:\n",
    "        dp[1] = 2\n",
    "    print(dp[len(str)-1])\n",
    "else:\n",
    "    dp[0] = 1\n",
    "    if str[1]=='0':\n",
    "        dp[1] = 1\n",
    "    else:\n",
    "        dp[1] = 2\n",
    "    for i in range(2,len(dp)):\n",
    "        #handling special case with last 2 characters\n",
    "        #when 0,0 --> no calls possible so dp[i] = 0\n",
    "        if str[i-1] == '0' and str[i] == '0': #invalid,invalid\n",
    "            dp[i] = 0\n",
    "\n",
    "        #when 0,non 0 --> call with non 0 possible only,  so dp[i] = d[i-1]   \n",
    "        elif str[i-1] == '0' and str[i] != '0': #valid,invalid\n",
    "            dp[i] = dp[i-1]\n",
    "\n",
    "        #when non 0, 0 --> call with (non 0,0) possible only,  so dp[i] = d[i-2] \n",
    "        elif str[i-1] != '0' and str[i] == '0': #invalid,valid\n",
    "            if int(str[i-1:i+1])<=26:\n",
    "                dp[i] = dp[i-2]\n",
    "            else: #if number is greater than 26, it is invalid\n",
    "                dp[i] = 0\n",
    "\n",
    "        #when non 0,non 0 --> both calls  possible ,  so dp[i] = d[i-1] + dp[i-2]\n",
    "        else:\n",
    "            if int(str[i-1:i+1])<=26:\n",
    "\n",
    "                dp[i] = dp[i-1]+ dp[i-2]\n",
    "\n",
    "            else:\n",
    "                dp[i] = dp[i-1]\n",
    "    print(dp[len(str)-1])"
   ]
  },
  {
   "cell_type": "markdown",
   "id": "recognized-automation",
   "metadata": {},
   "source": [
    "## Count Subsequences of form a+b+c+ \n",
    "- first all a's, then all b's, then all c's"
   ]
  },
  {
   "cell_type": "code",
   "execution_count": 41,
   "id": "union-ozone",
   "metadata": {},
   "outputs": [
    {
     "name": "stdout",
     "output_type": "stream",
     "text": [
      "abcabc\n",
      "7\n"
     ]
    }
   ],
   "source": [
    "str = input()\n",
    "\n",
    "#Initialise counts with 0\n",
    "a = 0\n",
    "ab = 0\n",
    "abc = 0\n",
    "\n",
    "for i in range(len(str)):\n",
    "    ch = str[i]\n",
    "    if ch == 'a':\n",
    "        a  = 2*a+1\n",
    "    elif ch == 'b':\n",
    "        ab  = 2*ab+a\n",
    "    elif ch == 'c':\n",
    "        abc  = 2*abc+ab\n",
    "\n",
    "print(abc)"
   ]
  },
  {
   "cell_type": "markdown",
   "id": "coordinated-cooking",
   "metadata": {},
   "source": [
    "## Maximum Sum non adjacent elements"
   ]
  },
  {
   "cell_type": "code",
   "execution_count": 45,
   "id": "advance-travel",
   "metadata": {},
   "outputs": [
    {
     "name": "stdout",
     "output_type": "stream",
     "text": [
      "6\n",
      "5\n",
      "10\n",
      "10\n",
      "100\n",
      "5\n",
      "6\n",
      "116 110\n",
      "116\n"
     ]
    }
   ],
   "source": [
    "n = int(input())\n",
    "lst = []\n",
    "for i in range(n):\n",
    "    lst.append(int(input()))\n",
    "\n",
    "#Initialise counts with 0\n",
    "prev_incl = 0\n",
    "prev_excl = 0\n",
    "\n",
    "for i in range(len(lst)):\n",
    "    ele = lst[i]\n",
    "    new_excl = max(prev_incl,prev_excl)\n",
    "    new_incl = prev_excl+ele\n",
    "    \n",
    "    prev_incl = new_incl\n",
    "    prev_excl = new_excl\n",
    "#print(prev_incl,prev_excl)   \n",
    "print(max(prev_incl,prev_excl))\n",
    "    "
   ]
  },
  {
   "cell_type": "markdown",
   "id": "portuguese-hunger",
   "metadata": {},
   "source": [
    "## Paint Houses - RBG (3) colours\n",
    "- Print the Minimum Cost of painting all houses without painting any consecutive house with same colour"
   ]
  },
  {
   "cell_type": "code",
   "execution_count": 9,
   "id": "abstract-lawyer",
   "metadata": {},
   "outputs": [
    {
     "name": "stdout",
     "output_type": "stream",
     "text": [
      "4\n",
      "1\n",
      "5\n",
      "7\n",
      "5\n",
      "8\n",
      "4\n",
      "3\n",
      "2\n",
      "9\n",
      "1\n",
      "2\n",
      "4\n",
      "Minimum Cost:  8\n"
     ]
    }
   ],
   "source": [
    "n = int(input())\n",
    "arr = [[int(input()) for x in range (3)] for y in range(n)]\n",
    "dp = [[0]*n for _ in range(3)]\n",
    "dp[0][0] = arr[0][0]\n",
    "dp[1][0] = arr[0][1]\n",
    "dp[2][0] = arr[0][2]\n",
    "\n",
    "for i in range(1,len(dp[0])):\n",
    "    #From arr pick that cost for painting that house\n",
    "    #From dp pick the cost for painting previos houses\n",
    "    dp[0][i] = min(dp[1][i-1],dp[2][i-1])+arr[i][0]\n",
    "    dp[1][i] = min(dp[0][i-1],dp[2][i-1])+arr[i][1]\n",
    "    dp[2][i] = min(dp[0][i-1],dp[1][i-1])+arr[i][2]\n",
    "    \n",
    "ans = min(dp[0][n-1],dp[1][n-1],dp[2][n-1])\n",
    "print('Minimum Cost: ', ans)\n",
    "    \n",
    "    "
   ]
  },
  {
   "cell_type": "markdown",
   "id": "incorporate-grocery",
   "metadata": {},
   "source": [
    "## Paint House - Many Colours"
   ]
  },
  {
   "cell_type": "markdown",
   "id": "backed-paragraph",
   "metadata": {},
   "source": [
    "### Unoptimised Aproach - O(n^3)"
   ]
  },
  {
   "cell_type": "code",
   "execution_count": 12,
   "id": "pressed-klein",
   "metadata": {},
   "outputs": [
    {
     "name": "stdout",
     "output_type": "stream",
     "text": [
      "Enter number of houses : 4\n",
      "Enter number of colours : 3\n",
      "1\n",
      "5\n",
      "7\n",
      "5\n",
      "8\n",
      "4\n",
      "3\n",
      "2\n",
      "9\n",
      "1\n",
      "2\n",
      "4\n",
      "Minimum Cost:  8\n"
     ]
    }
   ],
   "source": [
    "n = int(input('Enter number of houses : '))\n",
    "c = int(input('Enter number of colours : '))\n",
    "arr = [[int(input()) for x in range (m)] for y in range(n)]\n",
    "dp = [[0]*c for _ in range(n)]\n",
    "\n",
    "#Fill the first row(house1) with the same cost as in i/p arr\n",
    "for j in range(len(arr[0])):\n",
    "    dp[0][j] = arr[0][j]\n",
    "\n",
    "for i in range(1,len(dp)): # i is house number\n",
    "    for j in range(0,len(dp[0])): #j is colour number\n",
    "        \n",
    "        '''Find min of all colors except own cost from prev row'''\n",
    "        min_val = float('inf')\n",
    "        for k in range(0,len(dp[0])):\n",
    "            if k!=j: #all elements/colors/columns except jth elements/colors/columns\n",
    "                if dp[i-1][k]<min_val: #above row(i-1),all columns\n",
    "                    min_val = dp[i-1][k]\n",
    "                    \n",
    "        dp[i][j] = arr[i][j] + min_val #own color + min of all prev colors \n",
    "        \n",
    "#Find minimum of last row in DP array    \n",
    "min_val = float('inf')\n",
    "for k in range(0,len(dp[0])):\n",
    "    if dp[n-1][k]<min_val: #above row(i-1),all columns\n",
    "        min_val = dp[n-1][k]\n",
    "print('Minimum Cost: ', min_val)\n",
    "    \n",
    "    "
   ]
  },
  {
   "cell_type": "markdown",
   "id": "complex-newsletter",
   "metadata": {},
   "source": [
    "### Optimised Solution - O(n^2)"
   ]
  },
  {
   "cell_type": "code",
   "execution_count": 16,
   "id": "pediatric-execution",
   "metadata": {},
   "outputs": [
    {
     "name": "stdout",
     "output_type": "stream",
     "text": [
      "Enter number of houses : 4\n",
      "Enter number of colours : 3\n",
      "1\n",
      "5\n",
      "7\n",
      "5\n",
      "8\n",
      "4\n",
      "3\n",
      "2\n",
      "9\n",
      "1\n",
      "2\n",
      "4\n",
      "Minimum Cost:  8\n"
     ]
    }
   ],
   "source": [
    "n = int(input('Enter number of houses : '))\n",
    "c = int(input('Enter number of colours : '))\n",
    "arr = [[int(input()) for x in range (c)] for y in range(n)]\n",
    "dp = [[0]*c for _ in range(n)]\n",
    "\n",
    "least = float('inf') #least of all elements\n",
    "sleast = float('inf') #least of remaining elements except that element\n",
    "\n",
    "#Fill the first row(house1) with the same cost as in i/p arr\n",
    "#calculate least and second least for 1st row\n",
    "for j in range(len(arr[0])):\n",
    "    dp[0][j] = arr[0][j]\n",
    "    \n",
    "    #Filled, now calculate least and second least\n",
    "    if arr[0][j]<=least:\n",
    "        sleast = least\n",
    "        least = arr[0][j]\n",
    "        \n",
    "    elif arr[0][j]<=sleast:\n",
    "        sleast = arr[0][j]\n",
    "        \n",
    "#filling DP array\n",
    "#while filling each row keep calculating least and second least \n",
    "for i in range(1,len(dp)): # i is house number\n",
    "    new_least = float('inf') #least of all elements\n",
    "    new_sleast = float('inf')\n",
    "    for j in range(0,len(dp[0])): # j is colour number\n",
    "        \n",
    "        if dp[i-1][j] == least:\n",
    "            dp[i][j] = arr[i][j] + sleast\n",
    "        else:\n",
    "            dp[i][j] = arr[i][j] + least\n",
    "            \n",
    "        #Filled, now calculate least and second least for each row        \n",
    "        if dp[i][j]<=new_least:\n",
    "            new_sleast = new_least\n",
    "            new_least = dp[i][j]\n",
    "        \n",
    "        elif dp[i][j]<=new_sleast:\n",
    "            new_sleast = dp[i][j]\n",
    "            \n",
    "    #Before going to new row update it        \n",
    "    least = new_least\n",
    "    sleast = new_sleast\n",
    "    \n",
    "    \n",
    "print('Minimum Cost: ', least)"
   ]
  },
  {
   "cell_type": "markdown",
   "id": "brazilian-oregon",
   "metadata": {},
   "source": [
    "## Paint Fence (Leetcode)\n",
    "- Print no. of ways in which the fences could be painted so that not more than 2 consecutive fences have same colors"
   ]
  },
  {
   "cell_type": "code",
   "execution_count": 21,
   "id": "dirty-delivery",
   "metadata": {},
   "outputs": [
    {
     "name": "stdout",
     "output_type": "stream",
     "text": [
      "8\n",
      "3\n",
      "3672\n"
     ]
    }
   ],
   "source": [
    "n = int(input())\n",
    "k = int(input())\n",
    "\n",
    "ii = k*1\n",
    "ij = k*(k-1)\n",
    "\n",
    "total = ii+ij\n",
    "\n",
    "for i in range(3,n+1):\n",
    "    new_ii = ij * 1 #last ke same krne ke 1 option hai\n",
    "    new_ij = total * (k-1) #last ke 2 different krne ke k-1 options hai    \n",
    "    new_total = new_ii + new_ij\n",
    "    \n",
    "    ii = new_ii\n",
    "    ij = new_ij\n",
    "    total = new_total\n",
    "print(total)"
   ]
  },
  {
   "cell_type": "markdown",
   "id": "virgin-sierra",
   "metadata": {},
   "source": [
    "## Tiling with 2x1 tiles for floor space of n\n",
    "- This is nothing but Fibonacci series"
   ]
  },
  {
   "cell_type": "code",
   "execution_count": 25,
   "id": "lined-reset",
   "metadata": {},
   "outputs": [
    {
     "name": "stdout",
     "output_type": "stream",
     "text": [
      "10\n",
      "[0, 1, 2, 3, 5, 8, 13, 21, 34, 55, 89]\n",
      "89\n"
     ]
    }
   ],
   "source": [
    "n  = int(input())\n",
    "dp = [0]*(n+1)\n",
    "dp[1] = 1\n",
    "dp[2] = 2\n",
    "\n",
    "for i in range(3,n+1):\n",
    "    dp[i] = dp[i-1]+dp[i-2]\n",
    "print(dp)\n",
    "print(dp[n])"
   ]
  },
  {
   "cell_type": "markdown",
   "id": "musical-relief",
   "metadata": {},
   "source": [
    "## Tiling with Mx1 tiles"
   ]
  },
  {
   "cell_type": "code",
   "execution_count": 33,
   "id": "developmental-dylan",
   "metadata": {},
   "outputs": [
    {
     "name": "stdout",
     "output_type": "stream",
     "text": [
      "Length of floor: 8\n",
      "Width of tile: 3\n",
      "[0, 1, 1, 2, 3, 4, 6, 9, 13]\n",
      "13\n"
     ]
    }
   ],
   "source": [
    "n  = int(input('Length of floor: '))\n",
    "m  = int(input('Width of tile: '))\n",
    "dp = [0]*(n+1)\n",
    "for i in range(1,n+1):\n",
    "    '''BASE CASES'''\n",
    "    #Till n<m we have we have that many ways\n",
    "    #eg: 5x4 floor : 1 way vertically\n",
    "    if i < m:\n",
    "        dp[i] = 1\n",
    "    #For n==m we have 2 ways all vertically and all horizontally\n",
    "    elif i == m:\n",
    "        dp[i] = 2\n",
    "\n",
    "    else:\n",
    "        dp[i] = dp[i-1]+dp[i-m]\n",
    "\n",
    "print(dp)\n",
    "print(dp[n])        "
   ]
  },
  {
   "cell_type": "markdown",
   "id": "latin-extra",
   "metadata": {},
   "source": [
    "## Friends Pairing Problem"
   ]
  },
  {
   "cell_type": "markdown",
   "id": "seven-indie",
   "metadata": {},
   "source": [
    "__Using dp array__"
   ]
  },
  {
   "cell_type": "code",
   "execution_count": 42,
   "id": "flexible-comfort",
   "metadata": {},
   "outputs": [
    {
     "name": "stdout",
     "output_type": "stream",
     "text": [
      "6\n",
      "[0, 1, 2, 4, 10, 26, 76]\n",
      "76\n"
     ]
    }
   ],
   "source": [
    "n  = int(input())\n",
    "dp = [0]*(n+1)\n",
    "'''Since, in formula we are going to do n-2 also, so its better to cover till dp[2] in base case'''\n",
    "dp[1] = 1 #Base Case #stay single\n",
    "dp[2] = 2 #Base Case #both single/both paired\n",
    "\n",
    "for i in range(3,n+1):\n",
    "    dp[i] = dp[i-1] + (i-1)*dp[i-2]\n",
    "print(dp)\n",
    "print(dp[n]) "
   ]
  },
  {
   "cell_type": "markdown",
   "id": "athletic-spirituality",
   "metadata": {},
   "source": [
    "__Using Include Exclude method__"
   ]
  },
  {
   "cell_type": "code",
   "execution_count": 43,
   "id": "sonic-settle",
   "metadata": {},
   "outputs": [
    {
     "name": "stdout",
     "output_type": "stream",
     "text": [
      "6\n",
      "76\n"
     ]
    }
   ],
   "source": [
    "n  = int(input())\n",
    "# 1 friend can stay single, but cant pair up\n",
    "single = 1\n",
    "pair = 0\n",
    "\n",
    "for i in range(2,n+1): \n",
    "    new_single = single + pair;\n",
    "    new_pair = single*(i-1);\n",
    "    \n",
    "    single = new_single;\n",
    "    pair = new_pair;\n",
    "\n",
    "ans = single + pair\n",
    "print(ans)\n"
   ]
  },
  {
   "cell_type": "markdown",
   "id": "divine-grant",
   "metadata": {},
   "source": [
    "## Partition into Subsets"
   ]
  },
  {
   "cell_type": "code",
   "execution_count": 49,
   "id": "floppy-saturday",
   "metadata": {},
   "outputs": [
    {
     "name": "stdout",
     "output_type": "stream",
     "text": [
      "5\n",
      "4\n",
      "10\n"
     ]
    }
   ],
   "source": [
    "def partitionintoSubsets():\n",
    "    n = int(input())\n",
    "    k = int(input())\n",
    "\n",
    "    if n==0 or k==0 or n<k:\n",
    "        print(0)\n",
    "        return\n",
    "\n",
    "\n",
    "    dp = [[0]*(n+1) for _ in range(k+1)]\n",
    "    for teams in range(1,len(dp)):\n",
    "        for people in range(len(dp[0])):\n",
    "            if people<teams : \n",
    "                dp[teams][people] = 0\n",
    "            elif people==teams:\n",
    "                dp[teams][people] = 1\n",
    "            else:\n",
    "                dp[teams][people] = teams * dp[teams][people-1] + dp[teams-1][people-1]\n",
    "\n",
    "\n",
    "    print(dp[k][n])\n",
    "partitionintoSubsets()"
   ]
  },
  {
   "cell_type": "markdown",
   "id": "informative-twenty",
   "metadata": {},
   "source": [
    "## Buy and Sell Stocks - One Transacton Allowed"
   ]
  },
  {
   "cell_type": "code",
   "execution_count": 51,
   "id": "sapphire-stations",
   "metadata": {},
   "outputs": [
    {
     "name": "stdout",
     "output_type": "stream",
     "text": [
      "4\n",
      "9\n",
      "8\n",
      "6\n",
      "4\n",
      "0\n"
     ]
    }
   ],
   "source": [
    "n = int(input())\n",
    "prices = []\n",
    "for i in range(n):\n",
    "    prices.append(int(input()))\n",
    "    \n",
    "least_so_far = float('inf')\n",
    "overall_profit = float('-inf')\n",
    "\n",
    "profit_if_sold_today= 0\n",
    "\n",
    "#Go from left to right\n",
    "for i in range(len(prices)):\n",
    "    #Maintain least so far\n",
    "    if prices[i]<least_so_far :\n",
    "        least_so_far = prices[i]\n",
    "    #At every point we will calculate profit_if_sold_today\n",
    "    profit_if_sold_today = prices[i] - least_so_far\n",
    "    \n",
    "    if profit_if_sold_today>overall_profit:\n",
    "        overall_profit = profit_if_sold_today\n",
    "print(overall_profit)    \n",
    "    \n",
    "        "
   ]
  },
  {
   "cell_type": "markdown",
   "id": "professional-foster",
   "metadata": {},
   "source": [
    "## Buy and Sell stocks - Infinite Transactions Allowed"
   ]
  },
  {
   "cell_type": "code",
   "execution_count": 54,
   "id": "loaded-chicago",
   "metadata": {},
   "outputs": [
    {
     "name": "stdout",
     "output_type": "stream",
     "text": [
      "4\n",
      "3\n",
      "1\n",
      "4\n",
      "8\n",
      "7\n"
     ]
    }
   ],
   "source": [
    "n = int(input())\n",
    "prices = []\n",
    "for i in range(n):\n",
    "    prices.append(int(input()))\n",
    "\n",
    "buying_date = 0\n",
    "selling_date = 0\n",
    "prifit = 0\n",
    "\n",
    "for i in range(1,len(prices)):\n",
    "    #if prices is continously increasing increment selling date only\n",
    "    if prices[i] >= prices[i-1]:\n",
    "        selling_date+=1\n",
    "    #when there is a dip, collect the profit and increment both buy date and sell date to that date\n",
    "    #to start collecting profit from that dip date\n",
    "    else:\n",
    "        profit = prices[selling_date] - prices[buying_date]\n",
    "        \n",
    "        buying_date = i\n",
    "        selling_date = i\n",
    "#this is to capture the last date profit when there is no dip, so settle that separately\n",
    "profit = prices[selling_date] - prices[buying_date]\n",
    "print(profit)"
   ]
  },
  {
   "cell_type": "markdown",
   "id": "civilian-apartment",
   "metadata": {},
   "source": [
    "## Buy and Sell Stocks with Transaction Fee - Infinite Transactions Allowed"
   ]
  },
  {
   "cell_type": "code",
   "execution_count": 59,
   "id": "assumed-nerve",
   "metadata": {},
   "outputs": [
    {
     "name": "stdout",
     "output_type": "stream",
     "text": [
      "12\n",
      "10\n",
      "15\n",
      "17\n",
      "20\n",
      "16\n",
      "18\n",
      "22\n",
      "20\n",
      "22\n",
      "20\n",
      "23\n",
      "25\n",
      "3\n",
      "-9 13\n",
      "22\n"
     ]
    }
   ],
   "source": [
    "n = int(input())\n",
    "prices = []\n",
    "for i in range(n):\n",
    "    prices.append(int(input()))\n",
    "fee = int(input())\n",
    "bsp = 0 \n",
    "ssp = 0\n",
    "\n",
    "#to start you have to buy first, \n",
    "#you have 0 rupees first, after buying it goes negative (loan)\n",
    "bsp = 0-prices[0]\n",
    " \n",
    "for i in range(1,len(prices)):\n",
    "    new_bsp = max(bsp,ssp-prices[i]) #can buy after selling\n",
    "    new_ssp = max(ssp,prices[i]-fee+bsp)\n",
    "\n",
    "    bsp = new_bsp\n",
    "    ssp = new_ssp\n",
    "print(ssp)    "
   ]
  },
  {
   "cell_type": "markdown",
   "id": "reflected-vitamin",
   "metadata": {},
   "source": [
    "## Buy and Sell Stocks with Cooldown - Infinite Transactions Allowed"
   ]
  },
  {
   "cell_type": "code",
   "execution_count": 66,
   "id": "still-plane",
   "metadata": {
    "scrolled": true
   },
   "outputs": [
    {
     "name": "stdout",
     "output_type": "stream",
     "text": [
      "12\n",
      "10\n",
      "15\n",
      "17\n",
      "20\n",
      "16\n",
      "18\n",
      "22\n",
      "20\n",
      "22\n",
      "20\n",
      "23\n",
      "25\n",
      "19\n"
     ]
    }
   ],
   "source": [
    "n = int(input())\n",
    "prices = []\n",
    "for i in range(n):\n",
    "    prices.append(int(input()))\n",
    "bsp = 0 \n",
    "ssp = 0\n",
    "csp = 0\n",
    "\n",
    "#to start you have to buy first, \n",
    "#you have 0 rupees first, after buying it goes negative (loan)\n",
    "bsp = 0-prices[0]\n",
    " \n",
    "for i in range(1,len(prices)):\n",
    "    new_bsp = max(bsp,csp-prices[i]) #can buy after cooldown\n",
    "    new_ssp = max(ssp,prices[i]+bsp)\n",
    "    new_csp = max(ssp,csp)\n",
    "\n",
    "    bsp = new_bsp\n",
    "    ssp = new_ssp\n",
    "    csp = new_csp\n",
    "\n",
    "print(ssp)    "
   ]
  },
  {
   "cell_type": "markdown",
   "id": "fresh-eclipse",
   "metadata": {},
   "source": [
    "## Buy and Sell Stocks - 2 transactions allowed"
   ]
  },
  {
   "cell_type": "code",
   "execution_count": 71,
   "id": "computational-business",
   "metadata": {},
   "outputs": [
    {
     "name": "stdout",
     "output_type": "stream",
     "text": [
      "19\n",
      "30\n",
      "40\n",
      "43\n",
      "50\n",
      "45\n",
      "20\n",
      "26\n",
      "40\n",
      "80\n",
      "50\n",
      "30\n",
      "15\n",
      "10\n",
      "20\n",
      "40\n",
      "45\n",
      "71\n",
      "50\n",
      "55\n",
      "[0, 10, 13, 20, 20, 20, 20, 20, 60, 60, 60, 60, 60, 60, 60, 60, 61, 61, 61]\n",
      "[61, 61, 61, 61, 61, 61, 61, 61, 61, 61, 61, 61, 61, 51, 31, 26, 5, 5, 0]\n",
      "81\n"
     ]
    }
   ],
   "source": [
    "n = int(input())\n",
    "prices = []\n",
    "for i in range(n):\n",
    "    prices.append(int(input()))\n",
    "    \n",
    "#Go from left to right    \n",
    "least_so_far = prices[0]\n",
    "profit_if_sold_today= 0\n",
    "dp_max_profit_if_sold_today = [0]*n #We are using this array so that later we can sum the elements of 2 such arrays\n",
    "\n",
    "for i in range(1,len(prices)):\n",
    "    #Maintain least so far\n",
    "    if prices[i]<least_so_far :\n",
    "        least_so_far = prices[i]\n",
    "    #At every point we will calculate profit_if_sold_today\n",
    "    profit_if_sold_today = prices[i] - least_so_far\n",
    "    \n",
    "    if profit_if_sold_today>dp_max_profit_if_sold_today[i-1]:\n",
    "        dp_max_profit_if_sold_today[i] = profit_if_sold_today\n",
    "    else:\n",
    "        dp_max_profit_if_sold_today[i] = dp_max_profit_if_sold_today[i-1]\n",
    "\n",
    "        \n",
    "#Go from Right to left    \n",
    "max_after_today = prices[len(prices)-1]\n",
    "profit_if_bought_today= 0\n",
    "dp_max_profit_if_bought_today_or_after = [0]*n #We are using this array so that later we can sum the elements of 2 such arrays\n",
    "\n",
    "#run loop from 2nd last element, since we already stored last element in max_after_today\n",
    "for i in range(len(prices)-2,-1,-1): \n",
    "    #Maintain least so far\n",
    "    if prices[i]>max_after_today :\n",
    "        max_after_today = prices[i]\n",
    "    #At every point we will calculate profit_if_sold_today\n",
    "    profit_if_bought_today =  max_after_today - prices[i]\n",
    "    \n",
    "    if profit_if_bought_today>dp_max_profit_if_bought_today_or_after[i+1]:\n",
    "        dp_max_profit_if_bought_today_or_after[i] = profit_if_bought_today\n",
    "    else:\n",
    "        dp_max_profit_if_bought_today_or_after[i] = dp_max_profit_if_bought_today_or_after[i+1]    \n",
    "\n",
    "        \n",
    "'''Now sum left-right values and right to left values and find max'''\n",
    "overall_profit = 0\n",
    "for i in range(len(arr)):\n",
    "    total_profit = dp_max_profit_if_sold_today[i] + dp_max_profit_if_bought_today_or_after[i]\n",
    "    if total_profit > overall_profit:\n",
    "        overall_profit = total_profit\n",
    "print(dp_max_profit_if_sold_today)\n",
    "print(dp_max_profit_if_bought_today_or_after)\n",
    "print(overall_profit)"
   ]
  },
  {
   "cell_type": "markdown",
   "id": "collected-variable",
   "metadata": {},
   "source": [
    "## Buy and Sell Stocks - K Transactions Allowed"
   ]
  },
  {
   "cell_type": "markdown",
   "id": "novel-finish",
   "metadata": {},
   "source": [
    "__Not optimised approach - O(n^3)__"
   ]
  },
  {
   "cell_type": "code",
   "execution_count": 74,
   "id": "severe-momentum",
   "metadata": {},
   "outputs": [
    {
     "name": "stdout",
     "output_type": "stream",
     "text": [
      "6\n",
      "9\n",
      "6\n",
      "7\n",
      "6\n",
      "3\n",
      "8\n",
      "3\n",
      "[[0, 0, 0, 0, 0, 0], [0, 0, 1, 1, 1, 5], [0, 0, 1, 1, 1, 6], [0, 0, 1, 1, 1, 6]]\n",
      "6\n"
     ]
    }
   ],
   "source": [
    "n = int(input())\n",
    "prices = []\n",
    "for i in range(n):\n",
    "    prices.append(int(input()))\n",
    "k = int(input())\n",
    "dp = [[0]*n for _ in range(k+1)]\n",
    "\n",
    "for transaction in range(1,k+1):\n",
    "    for day in range(1,len(prices)):\n",
    "        max_val = dp[transaction][day-1]\n",
    "        \n",
    "        #Find max profit from previous transactions\n",
    "        for prev_days in range(0,day):\n",
    "            profit_from_prev_transactions = dp[transaction-1][prev_days]\n",
    "            price_gap = prices[day] - prices[prev_days]\n",
    "            total_profit = profit_from_prev_transactions + price_gap\n",
    "            \n",
    "            if total_profit>max_val:\n",
    "                max_val = total_profit\n",
    "                \n",
    "        dp[transaction][day] = max_val\n",
    "print(dp)      \n",
    "print(dp[k][n-1])"
   ]
  },
  {
   "cell_type": "markdown",
   "id": "asian-scratch",
   "metadata": {},
   "source": [
    "__Optimised Approach = O(n^2)__"
   ]
  },
  {
   "cell_type": "code",
   "execution_count": 76,
   "id": "equivalent-background",
   "metadata": {},
   "outputs": [
    {
     "name": "stdout",
     "output_type": "stream",
     "text": [
      "6\n",
      "9\n",
      "6\n",
      "7\n",
      "6\n",
      "3\n",
      "8\n",
      "3\n",
      "[[0, 0, 0, 0, 0, 0], [0, 0, 1, 1, 1, 5], [0, 0, 1, 1, 1, 6], [0, 0, 1, 1, 1, 6]]\n",
      "6\n"
     ]
    }
   ],
   "source": [
    "n = int(input())\n",
    "prices = []\n",
    "for i in range(n):\n",
    "    prices.append(int(input()))\n",
    "k = int(input())\n",
    "dp = [[0]*n for _ in range(k+1)]\n",
    "\n",
    "for transaction in range(1,k+1):\n",
    "    max_val = float('-inf') #store prev row , first column value- from there we will keep updating max\n",
    "    for day in range(1,len(prices)):\n",
    "        \n",
    "        #Max from previous transactions and previous days\n",
    "        if dp[transaction-1][day-1] - prices[day-1] > max_val:\n",
    "            max_val = dp[transaction-1][day-1] - prices[day-1]\n",
    "        \n",
    "        dp[transaction][day] = max(max_val + prices[day] , dp[transaction][day-1])\n",
    "        \n",
    "print(dp)      \n",
    "print(dp[k][n-1])"
   ]
  },
  {
   "cell_type": "markdown",
   "id": "found-simple",
   "metadata": {},
   "source": [
    "## Running Sum\n",
    "- Input: nums = [1,2,3,4]\n",
    "- Output: [1,3,6,10]\n",
    "- Explanation: Running sum is obtained as follows: [1, 1+2, 1+2+3, 1+2+3+4]. "
   ]
  },
  {
   "cell_type": "code",
   "execution_count": null,
   "id": "suitable-vintage",
   "metadata": {},
   "outputs": [],
   "source": [
    "class Solution:\n",
    "    def runningSum(self, nums: List[int]) -> List[int]:\n",
    "        \n",
    "        # 1. variable to keep track of running sum\n",
    "        runningSum = 0\n",
    "        # and array to keep track of updated values\n",
    "        runningSums = [0]*len(nums)\n",
    "\n",
    "        # 2. iterate through nums array\n",
    "        for i in range(len(nums)):\n",
    "            # 3. increment runningSum by the value of\n",
    "            # the current index in nums array\n",
    "            runningSum = runningSum + nums[i]\n",
    "            # then add the value to our runningSums array\n",
    "            runningSums[i] = runningSum\n",
    "        # 4. return runningSums array\n",
    "        return runningSums"
   ]
  },
  {
   "cell_type": "markdown",
   "id": "royal-experiment",
   "metadata": {},
   "source": [
    "## Longest Increasing subsequence"
   ]
  },
  {
   "cell_type": "code",
   "execution_count": null,
   "id": "demonstrated-wildlife",
   "metadata": {},
   "outputs": [],
   "source": [
    "#[10,9,2,5,3,7,101,18]\n",
    "n = int(input())\n",
    "arr = [0]*n\n",
    "for i in range(len(arr)):\n",
    "    arr[i] = int(input())\n",
    "dp = [0]*n\n",
    "dp[0] = 1\n",
    "res = 1\n",
    "for i in range(1,len(dp)):\n",
    "    max_val = 0\n",
    "    for j in range(0,i):\n",
    "        if arr[i] > arr[j]:\n",
    "            if dp[j]> max_val:\n",
    "                max_val= dp[j]\n",
    "    dp[i] = max_val+1\n",
    "    res = max(res,dp[i])\n",
    "print(res)"
   ]
  },
  {
   "cell_type": "code",
   "execution_count": null,
   "id": "local-madrid",
   "metadata": {},
   "outputs": [],
   "source": []
  }
 ],
 "metadata": {
  "kernelspec": {
   "display_name": "Python 3",
   "language": "python",
   "name": "python3"
  },
  "language_info": {
   "codemirror_mode": {
    "name": "ipython",
    "version": 3
   },
   "file_extension": ".py",
   "mimetype": "text/x-python",
   "name": "python",
   "nbconvert_exporter": "python",
   "pygments_lexer": "ipython3",
   "version": "3.7.4"
  }
 },
 "nbformat": 4,
 "nbformat_minor": 5
}
