{
 "cells": [
  {
   "cell_type": "code",
   "execution_count": 5,
   "id": "elegant-victorian",
   "metadata": {},
   "outputs": [
    {
     "name": "stdout",
     "output_type": "stream",
     "text": [
      "135\n",
      "None\n",
      "{'India': 135, 'China': 200, 'Pak': 30, 'US': 25, 'UK': 10, 'Nigeria': 5}\n",
      "False\n",
      "True\n",
      "False\n",
      "True\n",
      "India 135\n",
      "China 200\n",
      "Pak 30\n",
      "US 25\n",
      "UK 10\n",
      "Nigeria 5\n"
     ]
    }
   ],
   "source": [
    "d= dict()\n",
    "d['India']=135\n",
    "d['China']=200\n",
    "d['Pak']=30\n",
    "d['US']=20\n",
    "d['UK']=10\n",
    "#same as get() in Java\n",
    "print(d.get('India'))\n",
    "print(d.get('Nigeria'))\n",
    "\n",
    "#same as put() in Java\n",
    "d['Nigeria']=5\n",
    "d['US']=25\n",
    "print(d)\n",
    "\n",
    "#same as containsKey in Java\n",
    "print('Utopia' in d)\n",
    "print('Nigeria' in d)\n",
    "print('Utopia' in d.keys())\n",
    "print('Nigeria' in d.keys())\n",
    "\n",
    "for k,v in d.items():\n",
    "    print(k,v)"
   ]
  },
  {
   "cell_type": "markdown",
   "id": "introductory-cholesterol",
   "metadata": {},
   "source": [
    "## Highest Frequency character"
   ]
  },
  {
   "cell_type": "code",
   "execution_count": 2,
   "id": "greek-procurement",
   "metadata": {},
   "outputs": [
    {
     "name": "stdout",
     "output_type": "stream",
     "text": [
      "abracadabra\n",
      "a is present maximum times ,i.e. 5\n"
     ]
    }
   ],
   "source": [
    "string = input()\n",
    "d = dict()\n",
    "for i in range(len(string)):\n",
    "    ch = string[i]\n",
    "    if ch in d:\n",
    "        d[ch]+=1\n",
    "    else:\n",
    "        d[ch]=1\n",
    "max_val = float('-inf')\n",
    "res_ch = 0\n",
    "for i in d:\n",
    "    if d[i]>max_val:\n",
    "        max_val = d[i]\n",
    "        res_ch = i\n",
    "print('{} is present maximum times ,i.e. {}'.format(res_ch,max_val))\n",
    "        "
   ]
  },
  {
   "cell_type": "markdown",
   "id": "answering-christianity",
   "metadata": {},
   "source": [
    "## Get common elements 1\n",
    "- Make dict out of 1st array\n",
    "- Loop through 2nd array and if character is present in dict then print and remove that element from dict,\n",
    "- by doing this we will discard duplicate entries\n",
    "\n",
    "i/p: a1=[1,1,2,2,2,3,5],a2=[1,1,1,2,2,4,5]  , o/p: 1,2,5"
   ]
  },
  {
   "cell_type": "code",
   "execution_count": 8,
   "id": "changed-mitchell",
   "metadata": {
    "scrolled": false
   },
   "outputs": [
    {
     "name": "stdout",
     "output_type": "stream",
     "text": [
      "7\n",
      "1\n",
      "1\n",
      "2\n",
      "2\n",
      "2\n",
      "3\n",
      "5\n",
      "7\n",
      "1\n",
      "1\n",
      "1\n",
      "2\n",
      "2\n",
      "4\n",
      "5\n",
      "1 2 5 "
     ]
    }
   ],
   "source": [
    "n1 = int(input())\n",
    "arr1 = []\n",
    "for i in range(n1):\n",
    "    arr1.append(int(input()))\n",
    "    \n",
    "n2 = int(input())\n",
    "arr2 = []\n",
    "for i in range(n2):\n",
    "    arr2.append(int(input()))\n",
    "\n",
    "d = dict()\n",
    "for ch in arr1:\n",
    "    if ch in d:\n",
    "        d[ch]+=1\n",
    "    else:\n",
    "        d[ch]=1\n",
    "for ch in arr2:\n",
    "    if ch in d:\n",
    "        print(ch,end=\" \")\n",
    "        d.pop(ch) #similar to remove in list\n"
   ]
  },
  {
   "cell_type": "markdown",
   "id": "soviet-scroll",
   "metadata": {},
   "source": [
    "## Get common elements 2\n",
    "i/p: a1=[1,1,2,2,2,3,5],a2=[1,1,1,2,2,4,5]  , o/p: 1,1,2,2,5"
   ]
  },
  {
   "cell_type": "code",
   "execution_count": 5,
   "id": "statewide-journey",
   "metadata": {},
   "outputs": [
    {
     "name": "stdout",
     "output_type": "stream",
     "text": [
      "7\n",
      "1\n",
      "1\n",
      "2\n",
      "2\n",
      "2\n",
      "3\n",
      "5\n",
      "7\n",
      "1\n",
      "1\n",
      "1\n",
      "2\n",
      "2\n",
      "4\n",
      "5\n",
      "1 1 2 2 5 "
     ]
    }
   ],
   "source": [
    "n1 = int(input())\n",
    "arr1 = []\n",
    "for i in range(n1):\n",
    "    arr1.append(int(input()))\n",
    "    \n",
    "n2 = int(input())\n",
    "arr2 = []\n",
    "for i in range(n2):\n",
    "    arr2.append(int(input()))\n",
    "\n",
    "d = dict()\n",
    "for ch in arr1:\n",
    "    if ch in d:\n",
    "        d[ch]+=1\n",
    "    else:\n",
    "        d[ch]=1\n",
    "        \n",
    "for ch in arr2:\n",
    "    if ch in d and d[ch]>0:\n",
    "        print(ch,end=\" \")\n",
    "        d[ch]-=1"
   ]
  },
  {
   "cell_type": "markdown",
   "id": "linear-blogger",
   "metadata": {},
   "source": [
    "## Longest common subsequence"
   ]
  },
  {
   "cell_type": "code",
   "execution_count": 11,
   "id": "guided-brighton",
   "metadata": {},
   "outputs": [
    {
     "name": "stdout",
     "output_type": "stream",
     "text": [
      "11\n",
      "10\n",
      "5\n",
      "9\n",
      "1\n",
      "11\n",
      "8\n",
      "6\n",
      "15\n",
      "3\n",
      "12\n",
      "2\n",
      "8 9 10 11 12 "
     ]
    }
   ],
   "source": [
    "n = int(input())\n",
    "arr = []\n",
    "for i in range(n):\n",
    "    arr.append(int(input()))\n",
    "d = dict()\n",
    "for ch in arr:\n",
    "    d[ch] = True\n",
    "    \n",
    "for ch in arr:\n",
    "    if ch-1 in d:\n",
    "        d[ch] = False\n",
    "        \n",
    "max_length = 0\n",
    "max_start_point = 0\n",
    "for ch in d:\n",
    "    if d[ch] == True:\n",
    "        temp_length = 1\n",
    "        temp_start_point = ch\n",
    "        #path = temp_start_point+''\n",
    "        #start from ch and increase next character by temp_length\n",
    "        #keep incresing temp_length by 1 to get next characters from dict\n",
    "        #temp_length = start se kitne length tak sequence mila?\n",
    "        while temp_start_point+temp_length in d: #8,9,10,11,12 --> length =5\n",
    "            temp_length+=1\n",
    "        #keep updating the maximum for each element in dict\n",
    "        if temp_length>max_length:\n",
    "            max_length = temp_length\n",
    "            max_start_point = temp_start_point\n",
    "#when u have start element and length , then we can print others\n",
    "#start = 8,length =5\n",
    "# 8+0,8+1,8+2,8+3,8+4\n",
    "# 8,9,10,11,12\n",
    "for i in range(max_length):\n",
    "    print(max_start_point+i,end=' ')\n",
    "        "
   ]
  },
  {
   "cell_type": "markdown",
   "id": "focused-british",
   "metadata": {},
   "source": [
    "## LCS for Alphabets/strings"
   ]
  },
  {
   "cell_type": "code",
   "execution_count": 13,
   "id": "extraordinary-glucose",
   "metadata": {},
   "outputs": [
    {
     "name": "stdout",
     "output_type": "stream",
     "text": [
      "8\n",
      "f\n",
      "g\n",
      "h\n",
      "a\n",
      "v\n",
      "a\n",
      "b\n",
      "c\n",
      "f g h "
     ]
    }
   ],
   "source": [
    "n = int(input())\n",
    "arr = []\n",
    "for i in range(n):\n",
    "    arr.append(input())#[a,b,c,d]\n",
    "arr = [ord(x) for x in arr]\n",
    "d = dict()\n",
    "for ch in arr:\n",
    "    d[ch] = True\n",
    "    \n",
    "for ch in arr:\n",
    "    if ch-1 in d:\n",
    "        d[ch] = False\n",
    "        \n",
    "max_length = 0\n",
    "max_start_point = 0\n",
    "for ch in d:\n",
    "    if d[ch] == True:\n",
    "        temp_length = 1\n",
    "        temp_start_point = ch\n",
    "        #path = temp_start_point+''\n",
    "        #start from ch and increase next character by temp_length\n",
    "        #keep incresing temp_length by 1 to get next characters from dict\n",
    "        #temp_length = start se kitne length tak sequence mila?\n",
    "        while temp_start_point+temp_length in d: #8,9,10,11,12 --> length =5\n",
    "            temp_length+=1\n",
    "        #keep updating the maximum for each element in dict\n",
    "        if temp_length>max_length:\n",
    "            max_length = temp_length\n",
    "            max_start_point = temp_start_point\n",
    "#when u have start element and length , then we can print others\n",
    "#start = 8,length =5\n",
    "# 8+0,8+1,8+2,8+3,8+4\n",
    "# 8,9,10,11,12\n",
    "for i in range(max_length):\n",
    "    print(chr(max_start_point+i),end=' ')\n",
    "        "
   ]
  },
  {
   "cell_type": "markdown",
   "id": "numerous-montana",
   "metadata": {},
   "source": [
    "## Longest Increasing subsequence"
   ]
  },
  {
   "cell_type": "code",
   "execution_count": 22,
   "id": "concrete-companion",
   "metadata": {},
   "outputs": [
    {
     "name": "stdout",
     "output_type": "stream",
     "text": [
      "8\n",
      "10\n",
      "9\n",
      "2\n",
      "5\n",
      "3\n",
      "7\n",
      "101\n",
      "18\n",
      "4\n"
     ]
    }
   ],
   "source": [
    "#[10,9,2,5,3,7,101,18]\n",
    "n = int(input())\n",
    "arr = [0]*n\n",
    "for i in range(len(arr)):\n",
    "    arr[i] = int(input())\n",
    "dp = [0]*n\n",
    "dp[0] = 1\n",
    "res = 1\n",
    "for i in range(1,len(dp)):\n",
    "    max_val = 0\n",
    "    for j in range(0,i):\n",
    "        if arr[i] > arr[j]:\n",
    "            if dp[j]> max_val:\n",
    "                max_val= dp[j]\n",
    "    dp[i] = max_val+1\n",
    "    res = max(res,dp[i])\n",
    "print(res)\n"
   ]
  },
  {
   "cell_type": "markdown",
   "id": "funded-sharing",
   "metadata": {},
   "source": [
    "## Ascending order or Min Heap using Priority Queue\n",
    "- Use tuples to set the order"
   ]
  },
  {
   "cell_type": "code",
   "execution_count": 26,
   "id": "frequent-caution",
   "metadata": {},
   "outputs": [
    {
     "name": "stdout",
     "output_type": "stream",
     "text": [
      "1 2 3 4 5 6 7 "
     ]
    }
   ],
   "source": [
    "arr=[1,2,3,4,5,6,7]\n",
    "import queue as Q\n",
    "pq = Q.PriorityQueue()\n",
    "for i in range(len(arr)):\n",
    "    pq.put((arr[i],arr[i]))\n",
    "while not pq.empty():\n",
    "    print(pq.get()[1],end=\" \")"
   ]
  },
  {
   "cell_type": "markdown",
   "id": "herbal-helen",
   "metadata": {},
   "source": [
    "## Descending order or Max Heap using Priority Queue"
   ]
  },
  {
   "cell_type": "code",
   "execution_count": 27,
   "id": "thrown-lease",
   "metadata": {},
   "outputs": [
    {
     "name": "stdout",
     "output_type": "stream",
     "text": [
      "7 6 5 4 3 2 1 "
     ]
    }
   ],
   "source": [
    "arr=[1,2,3,4,5,6,7]\n",
    "import queue as Q\n",
    "pq = Q.PriorityQueue()\n",
    "for i in range(len(arr)):\n",
    "    pq.put((-arr[i],arr[i]))\n",
    "while not pq.empty():\n",
    "    print(pq.get()[1],end=\" \")"
   ]
  },
  {
   "cell_type": "markdown",
   "id": "ruled-friday",
   "metadata": {},
   "source": [
    "## K Largest elements using Priority Queue\n",
    "- By default Priority Queue gives more importance to smaller values thus sorting in Ascending order and pops out the smaller value first\n",
    "- Time - O(nlogk)\n",
    "- Space - O(k)"
   ]
  },
  {
   "cell_type": "code",
   "execution_count": 29,
   "id": "naked-think",
   "metadata": {},
   "outputs": [
    {
     "name": "stdout",
     "output_type": "stream",
     "text": [
      "5 6 7 "
     ]
    }
   ],
   "source": [
    "arr=[1,2,3,4,5,6,7]\n",
    "k=3\n",
    "import queue as Q\n",
    "pq = Q.PriorityQueue()\n",
    "for i in range(k):\n",
    "    pq.put((arr[i],arr[i]))\n",
    "\n",
    "for i in range(k,len(arr)):\n",
    "    least = pq.get()[1]#least from pq\n",
    "    ch = arr[i]\n",
    "    if ch>least:\n",
    "        pq.put((ch,ch))\n",
    "    else:\n",
    "        pq.put((least,least))\n",
    "\n",
    "while not pq.empty():\n",
    "    print(pq.get()[1],end=\" \")\n",
    "    "
   ]
  },
  {
   "cell_type": "markdown",
   "id": "informed-gospel",
   "metadata": {},
   "source": [
    "## K Smallest elements using Max Heap - Priority Queue\n",
    "- Using tuple we are providing more priority to greater element here"
   ]
  },
  {
   "cell_type": "code",
   "execution_count": 30,
   "id": "analyzed-ridge",
   "metadata": {},
   "outputs": [
    {
     "name": "stdout",
     "output_type": "stream",
     "text": [
      "3 2 1 "
     ]
    }
   ],
   "source": [
    "arr=[1,2,3,4,5,6,7]\n",
    "k=3\n",
    "import queue as Q\n",
    "pq = Q.PriorityQueue()\n",
    "for i in range(k):\n",
    "    pq.put((-arr[i],arr[i]))\n",
    "\n",
    "for i in range(k,len(arr)):\n",
    "    least = pq.get()[1]#least from pq\n",
    "    ch = arr[i]\n",
    "    if ch<least:\n",
    "        pq.put((-ch,ch))\n",
    "    else:\n",
    "        pq.put((-least,least))\n",
    "\n",
    "while not pq.empty():\n",
    "    print(pq.get()[1],end=\" \")\n",
    "    "
   ]
  },
  {
   "cell_type": "markdown",
   "id": "latin-example",
   "metadata": {},
   "source": [
    "## Kth Smallest using Quick Select(Partitioning)"
   ]
  },
  {
   "cell_type": "code",
   "execution_count": 29,
   "id": "metric-istanbul",
   "metadata": {},
   "outputs": [
    {
     "name": "stdout",
     "output_type": "stream",
     "text": [
      "Pivot index = : 1\n",
      "Pivot index = : 2\n",
      "Pivot index = : 4\n",
      "Pivot index = : 3\n"
     ]
    },
    {
     "data": {
      "text/plain": [
       "4"
      ]
     },
     "execution_count": 29,
     "metadata": {},
     "output_type": "execute_result"
    }
   ],
   "source": [
    "def partition(arr,pivot,lo,hi):\n",
    "    i=lo\n",
    "    j=lo\n",
    "    while(i<=hi):\n",
    "        if arr[i]>pivot:\n",
    "            i+=1\n",
    "        else:\n",
    "            temp = arr[i]\n",
    "            arr[i] = arr[j]\n",
    "            arr[j] = temp\n",
    "            \n",
    "            i+=1\n",
    "            j+=1\n",
    "    print('Pivot index = :',j-1)\n",
    "    return (j-1)\n",
    "            \n",
    "def kthSmallest(arr,lo,hi,k):\n",
    "    \n",
    "    \n",
    "    pivot = arr[hi]#last element as pivot\n",
    "    pivot_index = partition(arr,pivot,lo,hi)#pivot_index ke aage sab chhote hai usse, baad mein sab bade hai\n",
    "    if k>pivot_index:\n",
    "        return kthSmallest(arr,pivot_index+1,hi,k)\n",
    "    elif k<pivot_index:\n",
    "        return kthSmallest(arr,lo,pivot_index-1,k)\n",
    "    else:\n",
    "        return arr[pivot_index]\n",
    "        \n",
    "    \n",
    "\n",
    "arr = [8,3,5,7,6,1,4,2]\n",
    "k = 4 #4th smallest\n",
    "ans = kthSmallest(arr,0,len(arr)-1,k-1)#k-1 since 4th smallest in sorted array would be in 3rd index in array\n",
    "ans"
   ]
  },
  {
   "cell_type": "markdown",
   "id": "connected-navigation",
   "metadata": {},
   "source": [
    "## Sort a nearly sorted array"
   ]
  },
  {
   "cell_type": "code",
   "execution_count": 17,
   "id": "respiratory-marker",
   "metadata": {},
   "outputs": [
    {
     "name": "stdout",
     "output_type": "stream",
     "text": [
      "2\n",
      "1 2 3 4 5 6 7 8 9 "
     ]
    }
   ],
   "source": [
    "arr = [2,3,1,4,6,7,5,8,9]\n",
    "k = int(input())\n",
    "import queue as Q\n",
    "pq = Q.PriorityQueue()\n",
    "\n",
    "#first put k+1 element in tank\n",
    "for i in range(k+1):\n",
    "    pq.put((arr[i],arr[i]))\n",
    "#then for each entry , exit the smallest element and print it    \n",
    "for i in range(k+1,len(arr)):\n",
    "    print(pq.get()[1],end=' ')\n",
    "    pq.put((arr[i],arr[i]))\n",
    "    \n",
    "#bache hue elements in the tank ko v print krne honge    \n",
    "while pq.qsize()>0:\n",
    "    print(pq.get()[1],end=\" \")    "
   ]
  },
  {
   "cell_type": "markdown",
   "id": "stylish-november",
   "metadata": {},
   "source": [
    "## Merge K sorted lists"
   ]
  },
  {
   "cell_type": "code",
   "execution_count": 35,
   "id": "immune-exclusive",
   "metadata": {},
   "outputs": [
    {
     "name": "stdout",
     "output_type": "stream",
     "text": [
      "4\n",
      "5\n",
      "10 20 30 40 50\n",
      "7\n",
      "5 7 9 11 19 55 57\n",
      "3\n",
      "1 2 3\n",
      "2\n",
      "32 39\n",
      "1 \n",
      "2 \n",
      "3 \n",
      "5 \n",
      "7 \n",
      "9 \n",
      "10 \n",
      "11 \n",
      "19 \n",
      "20 \n",
      "30 \n",
      "32 \n",
      "39 \n",
      "40 \n",
      "50 \n",
      "55 \n",
      "57 \n",
      "\n"
     ]
    }
   ],
   "source": [
    "class Pair():\n",
    "    def __init__(self,li,di,val):\n",
    "        self.li = li #list index\n",
    "        self.di = di #data index\n",
    "        self.val = val #data\n",
    "        \n",
    "    def __lt__(self,pair):\n",
    "        return self.val < pair.val\n",
    "def mergeKSortedList(lists):\n",
    "    res = []\n",
    "    import queue as Q\n",
    "    pq = Q.PriorityQueue()\n",
    "    #Put every lists 1st elements in Priority Queue\n",
    "    for i in range(len(lists)):\n",
    "        p = Pair(i,0,lists[i][0]) #ith list,0th data, ith lists 1st member\n",
    "        pq.put(p)\n",
    "    \n",
    "    #least element ko pop krke add to result list and increment that lists index\n",
    "    while pq.qsize()>0:\n",
    "        least = pq.get()\n",
    "        res.append(least.val)\n",
    "        #we want to put next data from the same list which popped out\n",
    "        least.di+=1\n",
    "        \n",
    "        #include the next element from that list\n",
    "        #dont include when list elements are over\n",
    "        if least.di<len(lists[least.li]):\n",
    "            least.val = lists[least.li][least.di] #ith lists, jth data\n",
    "            pq.put(least)\n",
    "    return res\n",
    "              \n",
    "    \n",
    "if __name__ == '__main__':\n",
    "    k = int(input())\n",
    "    lists = []\n",
    "    for i in range(k):\n",
    "        l = []\n",
    "        n = int(input())\n",
    "        elements = input().split(\" \")\n",
    "        for j in range(n):\n",
    "            l.append(int(elements[j]))\n",
    "        lists.append(l)\n",
    "    mlist = mergeKSortedList(lists)\n",
    "    for val in mlist:\n",
    "        print(str(val),end=\" \")\n",
    "    print()"
   ]
  },
  {
   "cell_type": "code",
   "execution_count": null,
   "id": "auburn-rugby",
   "metadata": {},
   "outputs": [],
   "source": []
  }
 ],
 "metadata": {
  "kernelspec": {
   "display_name": "Python 3",
   "language": "python",
   "name": "python3"
  },
  "language_info": {
   "codemirror_mode": {
    "name": "ipython",
    "version": 3
   },
   "file_extension": ".py",
   "mimetype": "text/x-python",
   "name": "python",
   "nbconvert_exporter": "python",
   "pygments_lexer": "ipython3",
   "version": "3.7.4"
  }
 },
 "nbformat": 4,
 "nbformat_minor": 5
}
